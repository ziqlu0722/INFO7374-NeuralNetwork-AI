{
  "nbformat": 4,
  "nbformat_minor": 0,
  "metadata": {
    "colab": {
      "name": "SGD_VGG16.ipynb",
      "version": "0.3.2",
      "provenance": [],
      "collapsed_sections": [],
      "include_colab_link": true
    },
    "kernelspec": {
      "name": "python3",
      "display_name": "Python 3"
    },
    "accelerator": "GPU"
  },
  "cells": [
    {
      "cell_type": "markdown",
      "metadata": {
        "id": "view-in-github",
        "colab_type": "text"
      },
      "source": [
        "<a href=\"https://colab.research.google.com/github/ziqlu0722/Info7374-GitHub-repo/blob/master/Assignment_2/SGD_VGG16.ipynb\" target=\"_parent\"><img src=\"https://colab.research.google.com/assets/colab-badge.svg\" alt=\"Open In Colab\"/></a>"
      ]
    },
    {
      "metadata": {
        "id": "gd31QlFTRIFO",
        "colab_type": "code",
        "outputId": "2514e71a-bef2-4012-9dc5-0899c24a86de",
        "colab": {
          "resources": {
            "http://localhost:8080/nbextensions/google.colab/files.js": {
              "data": "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",
              "ok": true,
              "headers": [
                [
                  "content-type",
                  "application/javascript"
                ]
              ],
              "status": 200,
              "status_text": ""
            }
          },
          "base_uri": "https://localhost:8080/",
          "height": 88
        }
      },
      "cell_type": "code",
      "source": [
        "from google.colab import files\n",
        "\n",
        "uploaded = files.upload()\n",
        "\n",
        "for fn in uploaded.keys():\n",
        "  print('User uploaded file \"{name}\" with length {length} bytes'.format(\n",
        "      name=fn, length=len(uploaded[fn])))\n",
        "  \n",
        "  \n",
        "  "
      ],
      "execution_count": 0,
      "outputs": [
        {
          "output_type": "display_data",
          "data": {
            "text/html": [
              "\n",
              "     <input type=\"file\" id=\"files-de9b0d3e-1c99-43d0-aae9-06a0c9489def\" name=\"files[]\" multiple disabled />\n",
              "     <output id=\"result-de9b0d3e-1c99-43d0-aae9-06a0c9489def\">\n",
              "      Upload widget is only available when the cell has been executed in the\n",
              "      current browser session. Please rerun this cell to enable.\n",
              "      </output>\n",
              "      <script src=\"/nbextensions/google.colab/files.js\"></script> "
            ],
            "text/plain": [
              "<IPython.core.display.HTML object>"
            ]
          },
          "metadata": {
            "tags": []
          }
        },
        {
          "output_type": "stream",
          "text": [
            "Saving tiny-imagenet-200.zip to tiny-imagenet-200 (4).zip\n",
            "User uploaded file \"tiny-imagenet-200.zip\" with length 248100043 bytes\n"
          ],
          "name": "stdout"
        }
      ]
    },
    {
      "metadata": {
        "id": "nDypgSTCwmA-",
        "colab_type": "code",
        "colab": {}
      },
      "cell_type": "code",
      "source": [
        "import os\n",
        "import pickle\n",
        "import scipy.misc\n",
        "import numpy as np\n",
        "from scipy.misc import imread"
      ],
      "execution_count": 0,
      "outputs": []
    },
    {
      "metadata": {
        "id": "0wcVrU8OR5Ot",
        "colab_type": "code",
        "colab": {}
      },
      "cell_type": "code",
      "source": [
        "import zipfile\n",
        "import io\n",
        "data = zipfile.ZipFile(io.BytesIO(uploaded['tiny-imagenet-200.zip']), 'r')\n",
        "data.extractall(\"tiny-imagenet-200\")"
      ],
      "execution_count": 0,
      "outputs": []
    },
    {
      "metadata": {
        "id": "tEstx5_OTHlZ",
        "colab_type": "code",
        "colab": {}
      },
      "cell_type": "code",
      "source": [
        "def load_tiny_imagenet(path, wnids_path, resize='false', num_classes=200, dtype=np.float32):\n",
        "  \"\"\"\n",
        "  Load TinyImageNet. Each of TinyImageNet-100-A, TinyImageNet-100-B, and\n",
        "  TinyImageNet-200 have the same directory structure, so this can be used\n",
        "  to load any of them.\n",
        "  Inputs:\n",
        "  - path: String giving path to the directory to load.\n",
        "  - dtype: numpy datatype used to load the data.\n",
        "  Returns: A tuple of\n",
        "  - class_names: A list where class_names[i] is a list of strings giving the\n",
        "    WordNet names for class i in the loaded dataset.\n",
        "  - X_train: (N_tr, 3, 64, 64) array of training images\n",
        "  - y_train: (N_tr,) array of training labels\n",
        "  - X_val: (N_val, 3, 64, 64) array of validation images\n",
        "  - y_val: (N_val,) array of validation labels\n",
        "  - X_test: (N_test, 3, 64, 64) array of testing images.\n",
        "  - y_test: (N_test,) array of test labels; if test labels are not available\n",
        "    (such as in student code) then y_test will be None.\n",
        "  \"\"\"\n",
        "  # First load wnids\n",
        "  wnids_file = os.path.join(wnids_path, 'wnids.txt')\n",
        "  with open(os.path.join(path, wnids_file), 'r') as f:\n",
        "    wnids = [x.strip() for x in f]\n",
        "\n",
        "  # Map wnids to integer labels\n",
        "  wnid_to_label = {wnid: i for i, wnid in enumerate(wnids)}\n",
        "\n",
        "  # Use words.txt to get names for each class\n",
        "  words_file = os.path.join(wnids_path, 'words.txt')\n",
        "  with open(os.path.join(path, words_file), 'r') as f:\n",
        "    wnid_to_words = dict(line.split('\\t') for line in f)\n",
        "    for wnid, words in wnid_to_words.items():\n",
        "      wnid_to_words[wnid] = [w.strip() for w in words.split(',')]\n",
        "  class_names = [wnid_to_words[wnid] for wnid in wnids]\n",
        "\n",
        "  # Next load training data.\n",
        "  X_train = []\n",
        "  y_train = []\n",
        "  for i, wnid in enumerate(wnids):\n",
        "    if (i + 1) % 20 == 0:\n",
        "      print('loading training data for synset %d / %d' % (i + 1, len(wnids)))\n",
        "    # To figure out the filenames we need to open the boxes file\n",
        "    boxes_file = os.path.join(path, 'train', wnid, '%s_boxes.txt' % wnid)\n",
        "    with open(boxes_file, 'r') as f:\n",
        "      filenames = [x.split('\\t')[0] for x in f]\n",
        "    num_images = len(filenames)\n",
        "    \n",
        "    if resize.lower() == 'true':\n",
        "      X_train_block = np.zeros((num_images, 3, 32, 32), dtype=dtype)\n",
        "    else:\n",
        "      X_train_block = np.zeros((num_images, 3, 64, 64), dtype=dtype)\n",
        "    \n",
        "    y_train_block = wnid_to_label[wnid] * np.ones(num_images, dtype=np.int64)\n",
        "    for j, img_file in enumerate(filenames):\n",
        "      img_file = os.path.join(path, 'train', wnid, 'images', img_file)\n",
        "      img = imread(img_file)\n",
        "      \n",
        "      if resize.lower() == 'true':\n",
        "        img = scipy.misc.imresize(img, (32, 32, 3))\n",
        "      if img.ndim == 2:\n",
        "        ## grayscale file\n",
        "        if resize.lower() == 'true':\n",
        "          img.shape = (32, 32, 1)\n",
        "        else:\n",
        "          img.shape = (64, 64, 1)\n",
        "      X_train_block[j] = img.transpose(2, 0, 1)\n",
        "    X_train.append(X_train_block)\n",
        "    y_train.append(y_train_block)\n",
        "      \n",
        "  # We need to concatenate all training data\n",
        "  X_train = np.concatenate(X_train, axis=0)\n",
        "  y_train = np.concatenate(y_train, axis=0)\n",
        "  \n",
        "  # Next load validation data\n",
        "  with open(os.path.join(path, 'val', 'val_annotations.txt'), 'r') as f:\n",
        "    img_files = []\n",
        "    val_wnids = []\n",
        "    for line in f:\n",
        "      # Select only validation images in chosen wnids set\n",
        "      if line.split()[1] in wnids:\n",
        "        img_file, wnid = line.split('\\t')[:2]\n",
        "        img_files.append(img_file)\n",
        "        val_wnids.append(wnid)\n",
        "    num_val = len(img_files)\n",
        "    y_val = np.array([wnid_to_label[wnid] for wnid in val_wnids])\n",
        "    \n",
        "    if resize.lower() == 'true':\n",
        "      X_val = np.zeros((num_val, 3, 32, 32), dtype=dtype)\n",
        "    else:\n",
        "      X_val = np.zeros((num_val, 3, 64, 64), dtype=dtype)\n",
        " \n",
        "    for i, img_file in enumerate(img_files):\n",
        "      img_file = os.path.join(path, 'val', 'images', img_file)\n",
        "      img = imread(img_file)\n",
        "      if resize.lower() == 'true':\n",
        "        img = scipy.misc.imresize(img, (32, 32, 3))\n",
        "      if img.ndim == 2:\n",
        "        if resize.lower() == 'true':\n",
        "          img.shape = (32, 32, 1)\n",
        "        else:\n",
        "          img.shape = (64, 64, 1)\n",
        "\n",
        "      X_val[i] = img.transpose(2, 0, 1)\n",
        "\n",
        "  \"\"\"\n",
        "  # Next load test images\n",
        "  # Students won't have test labels, so we need to iterate over files in the\n",
        "  # images directory.\n",
        "  img_files = os.listdir(os.path.join(path, 'test', 'images'))\n",
        "  X_test = np.zeros((len(img_files), 3, 64, 64), dtype=dtype)\n",
        "  for i, img_file in enumerate(img_files):\n",
        "    img_file = os.path.join(path, 'test', 'images', img_file)\n",
        "    img = imread(img_file)\n",
        "    if img.ndim == 2:\n",
        "      img.shape = (64, 64, 1)\n",
        "    X_test[i] = img.transpose(2, 0, 1)\n",
        "  y_test = None\n",
        "  y_test_file = os.path.join(path, 'test', 'test_annotations.txt')\n",
        "  if os.path.isfile(y_test_file):\n",
        "    with open(y_test_file, 'r') as f:\n",
        "      img_file_to_wnid = {}\n",
        "      for line in f:\n",
        "        line = line.split('\\t')\n",
        "        img_file_to_wnid[line[0]] = line[1]\n",
        "    y_test = [wnid_to_label[img_file_to_wnid[img_file]] for img_file in img_files]\n",
        "    y_test = np.array(y_test)\n",
        "  \"\"\"\n",
        "  \n",
        "  # Omit x_test and y_test because they're unlabeled\n",
        "  #return class_names, X_train, y_train, X_val, y_val, X_test, y_test\n",
        "  return class_names, X_train, y_train, X_val, y_val"
      ],
      "execution_count": 0,
      "outputs": []
    },
    {
      "metadata": {
        "id": "pwp9-Wj_wkeO",
        "colab_type": "code",
        "outputId": "922561e8-c158-4c14-d306-4da3fefb9969",
        "colab": {
          "base_uri": "https://localhost:8080/",
          "height": 391
        }
      },
      "cell_type": "code",
      "source": [
        "class_names,X_train, y_train,X_val,y_val = load_tiny_imagenet('/content/tiny-imagenet-200/tiny-imagenet-200',\"\",resize='true')"
      ],
      "execution_count": 0,
      "outputs": [
        {
          "output_type": "stream",
          "text": [
            "/usr/local/lib/python3.6/dist-packages/ipykernel_launcher.py:56: DeprecationWarning: `imread` is deprecated!\n",
            "`imread` is deprecated in SciPy 1.0.0, and will be removed in 1.2.0.\n",
            "Use ``imageio.imread`` instead.\n",
            "/usr/local/lib/python3.6/dist-packages/ipykernel_launcher.py:59: DeprecationWarning: `imresize` is deprecated!\n",
            "`imresize` is deprecated in SciPy 1.0.0, and will be removed in 1.2.0.\n",
            "Use ``skimage.transform.resize`` instead.\n"
          ],
          "name": "stderr"
        },
        {
          "output_type": "stream",
          "text": [
            "loading training data for synset 20 / 200\n",
            "loading training data for synset 40 / 200\n",
            "loading training data for synset 60 / 200\n",
            "loading training data for synset 80 / 200\n",
            "loading training data for synset 100 / 200\n",
            "loading training data for synset 120 / 200\n",
            "loading training data for synset 140 / 200\n",
            "loading training data for synset 160 / 200\n",
            "loading training data for synset 180 / 200\n",
            "loading training data for synset 200 / 200\n"
          ],
          "name": "stdout"
        },
        {
          "output_type": "stream",
          "text": [
            "/usr/local/lib/python3.6/dist-packages/ipykernel_launcher.py:94: DeprecationWarning: `imread` is deprecated!\n",
            "`imread` is deprecated in SciPy 1.0.0, and will be removed in 1.2.0.\n",
            "Use ``imageio.imread`` instead.\n",
            "/usr/local/lib/python3.6/dist-packages/ipykernel_launcher.py:96: DeprecationWarning: `imresize` is deprecated!\n",
            "`imresize` is deprecated in SciPy 1.0.0, and will be removed in 1.2.0.\n",
            "Use ``skimage.transform.resize`` instead.\n"
          ],
          "name": "stderr"
        }
      ]
    },
    {
      "metadata": {
        "id": "ijE00zCRh-MS",
        "colab_type": "code",
        "outputId": "f23cb638-d058-4583-d111-e8189d62d704",
        "colab": {
          "base_uri": "https://localhost:8080/",
          "height": 34
        }
      },
      "cell_type": "code",
      "source": [
        "import keras\n",
        "x_train_1 = X_train.astype('float32')\n",
        "x_val_1 = X_val.astype('float32')\n",
        "\n",
        "\n",
        "\n",
        "x_train_1 = x_train_1.transpose(0,3,2,1).shape\n",
        "x_val_1 = x_val_1.transpose(0,3,2,1).shape\n",
        "\n",
        "\n",
        "\n"
      ],
      "execution_count": 0,
      "outputs": [
        {
          "output_type": "stream",
          "text": [
            "Using TensorFlow backend.\n"
          ],
          "name": "stderr"
        }
      ]
    },
    {
      "metadata": {
        "id": "Nidh-BReTJkc",
        "colab_type": "code",
        "outputId": "9aa48f4e-b2f5-4128-80e8-b03047341b51",
        "colab": {
          "base_uri": "https://localhost:8080/",
          "height": 850
        }
      },
      "cell_type": "code",
      "source": [
        "\n",
        "from keras.models import Model\n",
        "from keras.layers import Flatten, Dense\n",
        "\n",
        "#import register_converters as _register_converters\n",
        "from keras.preprocessing import image\n",
        "\n",
        "from keras.applications.vgg16 import VGG16\n",
        "vgg_model =VGG16(weights='imagenet', input_tensor=None, input_shape=(32,32,3),include_top=False) \n",
        "\n",
        "for layer in vgg_model.layers:\n",
        "    layer.trainable = False\n",
        "    \n",
        "\n",
        "    \n",
        "x = Flatten()(vgg_model.output)\n",
        "\n",
        "\n",
        "x = Dense(200, activation = 'softmax')(x)\n",
        "\n",
        "\n",
        "model = Model(inputs = vgg_model.input, outputs = x)\n",
        "\n",
        "model.summary()\n"
      ],
      "execution_count": 0,
      "outputs": [
        {
          "output_type": "stream",
          "text": [
            "_________________________________________________________________\n",
            "Layer (type)                 Output Shape              Param #   \n",
            "=================================================================\n",
            "input_2 (InputLayer)         (None, 32, 32, 3)         0         \n",
            "_________________________________________________________________\n",
            "block1_conv1 (Conv2D)        (None, 32, 32, 64)        1792      \n",
            "_________________________________________________________________\n",
            "block1_conv2 (Conv2D)        (None, 32, 32, 64)        36928     \n",
            "_________________________________________________________________\n",
            "block1_pool (MaxPooling2D)   (None, 16, 16, 64)        0         \n",
            "_________________________________________________________________\n",
            "block2_conv1 (Conv2D)        (None, 16, 16, 128)       73856     \n",
            "_________________________________________________________________\n",
            "block2_conv2 (Conv2D)        (None, 16, 16, 128)       147584    \n",
            "_________________________________________________________________\n",
            "block2_pool (MaxPooling2D)   (None, 8, 8, 128)         0         \n",
            "_________________________________________________________________\n",
            "block3_conv1 (Conv2D)        (None, 8, 8, 256)         295168    \n",
            "_________________________________________________________________\n",
            "block3_conv2 (Conv2D)        (None, 8, 8, 256)         590080    \n",
            "_________________________________________________________________\n",
            "block3_conv3 (Conv2D)        (None, 8, 8, 256)         590080    \n",
            "_________________________________________________________________\n",
            "block3_pool (MaxPooling2D)   (None, 4, 4, 256)         0         \n",
            "_________________________________________________________________\n",
            "block4_conv1 (Conv2D)        (None, 4, 4, 512)         1180160   \n",
            "_________________________________________________________________\n",
            "block4_conv2 (Conv2D)        (None, 4, 4, 512)         2359808   \n",
            "_________________________________________________________________\n",
            "block4_conv3 (Conv2D)        (None, 4, 4, 512)         2359808   \n",
            "_________________________________________________________________\n",
            "block4_pool (MaxPooling2D)   (None, 2, 2, 512)         0         \n",
            "_________________________________________________________________\n",
            "block5_conv1 (Conv2D)        (None, 2, 2, 512)         2359808   \n",
            "_________________________________________________________________\n",
            "block5_conv2 (Conv2D)        (None, 2, 2, 512)         2359808   \n",
            "_________________________________________________________________\n",
            "block5_conv3 (Conv2D)        (None, 2, 2, 512)         2359808   \n",
            "_________________________________________________________________\n",
            "block5_pool (MaxPooling2D)   (None, 1, 1, 512)         0         \n",
            "_________________________________________________________________\n",
            "flatten_2 (Flatten)          (None, 512)               0         \n",
            "_________________________________________________________________\n",
            "dense_2 (Dense)              (None, 200)               102600    \n",
            "=================================================================\n",
            "Total params: 14,817,288\n",
            "Trainable params: 102,600\n",
            "Non-trainable params: 14,714,688\n",
            "_________________________________________________________________\n"
          ],
          "name": "stdout"
        }
      ]
    },
    {
      "metadata": {
        "id": "mnc7kqV2MnzO",
        "colab_type": "code",
        "outputId": "4dcf4d89-c847-48b0-c93a-757d61b1bcfa",
        "colab": {
          "base_uri": "https://localhost:8080/",
          "height": 130
        }
      },
      "cell_type": "code",
      "source": [
        "* pip install git+git://github.com/fchollet/keras.git --upgrade --no-deps"
      ],
      "execution_count": 0,
      "outputs": [
        {
          "output_type": "error",
          "ename": "SyntaxError",
          "evalue": "ignored",
          "traceback": [
            "\u001b[0;36m  File \u001b[0;32m\"<ipython-input-132-8fe279b887c3>\"\u001b[0;36m, line \u001b[0;32m1\u001b[0m\n\u001b[0;31m    * pip install git+git://github.com/fchollet/keras.git --upgrade --no-deps\u001b[0m\n\u001b[0m                ^\u001b[0m\n\u001b[0;31mSyntaxError\u001b[0m\u001b[0;31m:\u001b[0m invalid syntax\n"
          ]
        }
      ]
    },
    {
      "metadata": {
        "id": "y51I6zxZA43n",
        "colab_type": "code",
        "outputId": "6db5ee6e-21e1-4861-8e4d-9c702835464a",
        "colab": {
          "base_uri": "https://localhost:8080/",
          "height": 232
        }
      },
      "cell_type": "code",
      "source": [
        "import numpy as np\n",
        "\n",
        "\n",
        "\n",
        "\n",
        "model.compile(loss='sparse_categorical_crossentropy',\n",
        "              optimizer=keras.optimizers.SGD(lr=0.01,decay=0.1,momentum=0.9),\n",
        "              metrics=['accuracy'])\n",
        "\n",
        "\n",
        "\n",
        "\n",
        "\n",
        "history = model.fit(np.array(X_train.transpose(0,3,2,1)), np.array(y_train),\n",
        "                    epochs=30,\n",
        "                    verbose=1,\n",
        "                    validation_data=(np.array(X_val.transpose(0,3,2,1)),np.array(y_val)))\n",
        "\n",
        "\n"
      ],
      "execution_count": 0,
      "outputs": [
        {
          "output_type": "error",
          "ename": "NameError",
          "evalue": "ignored",
          "traceback": [
            "\u001b[0;31m---------------------------------------------------------------------------\u001b[0m",
            "\u001b[0;31mNameError\u001b[0m                                 Traceback (most recent call last)",
            "\u001b[0;32m<ipython-input-1-1125378ca16e>\u001b[0m in \u001b[0;36m<module>\u001b[0;34m()\u001b[0m\n\u001b[1;32m      4\u001b[0m \u001b[0;34m\u001b[0m\u001b[0m\n\u001b[1;32m      5\u001b[0m \u001b[0;34m\u001b[0m\u001b[0m\n\u001b[0;32m----> 6\u001b[0;31m model.compile(loss='sparse_categorical_crossentropy',\n\u001b[0m\u001b[1;32m      7\u001b[0m               \u001b[0moptimizer\u001b[0m\u001b[0;34m=\u001b[0m\u001b[0mkeras\u001b[0m\u001b[0;34m.\u001b[0m\u001b[0moptimizers\u001b[0m\u001b[0;34m.\u001b[0m\u001b[0mSGD\u001b[0m\u001b[0;34m(\u001b[0m\u001b[0mlr\u001b[0m\u001b[0;34m=\u001b[0m\u001b[0;36m0.01\u001b[0m\u001b[0;34m,\u001b[0m\u001b[0mdecay\u001b[0m\u001b[0;34m=\u001b[0m\u001b[0;36m0.1\u001b[0m\u001b[0;34m,\u001b[0m\u001b[0mmomentum\u001b[0m\u001b[0;34m=\u001b[0m\u001b[0;36m0.9\u001b[0m\u001b[0;34m)\u001b[0m\u001b[0;34m,\u001b[0m\u001b[0;34m\u001b[0m\u001b[0;34m\u001b[0m\u001b[0m\n\u001b[1;32m      8\u001b[0m               metrics=['accuracy'])\n",
            "\u001b[0;31mNameError\u001b[0m: name 'model' is not defined"
          ]
        }
      ]
    },
    {
      "metadata": {
        "id": "6j3DxxY4a6FM",
        "colab_type": "code",
        "outputId": "7e14192e-414c-48d1-843c-1140d99b3e87",
        "colab": {
          "base_uri": "https://localhost:8080/",
          "height": 427
        }
      },
      "cell_type": "code",
      "source": [
        "score = model.evaluate(np.array(X_val.transpose(0,3,2,1)),np.array(y_val), verbose=0)\n",
        "                       \n",
        "print('Test loss:', score[0])\n",
        "print('Test accuracy:', score[1])\n",
        "\n",
        "\n",
        "import matplotlib.pyplot as plt\n",
        "import numpy\n",
        "\n",
        "print(history.history.keys())\n",
        "#summarize history for accuracy\n",
        "plt.plot(history.history['acc'])\n",
        "plt.plot(history.history['val_acc']) \n",
        "plt.title('model accuracy')\n",
        "plt.ylabel('accuracy')\n",
        "plt.xlabel('epoch')\n",
        "plt.legend(['train', 'test'], loc='upper left')\n",
        "plt.show()\n"
      ],
      "execution_count": 0,
      "outputs": [
        {
          "output_type": "stream",
          "text": [
            "Test loss: 15.843026052856445\n",
            "Test accuracy: 0.016\n",
            "dict_keys(['val_loss', 'val_acc', 'loss', 'acc'])\n"
          ],
          "name": "stdout"
        },
        {
          "output_type": "display_data",
          "data": {
            "image/png": "[encoded data removed]",
            "text/plain": [
              "<Figure size 576x396 with 1 Axes>"
            ]
          },
          "metadata": {
            "tags": []
          }
        }
      ]
    },
    {
      "metadata": {
        "id": "Fch19EUEhusl",
        "colab_type": "code",
        "colab": {}
      },
      "cell_type": "code",
      "source": [
        "from keras.models import load_model\n",
        "\n",
        "model.save('my_model.h5')  # creates a HDF5 file 'my_model.h5'\n",
        "# deletes the existing model\n",
        "\n",
        "# returns a compiled model\n",
        "# identical to the previous one\n",
        "model = load_model('my_model.h5')"
      ],
      "execution_count": 0,
      "outputs": []
    },
    {
      "metadata": {
        "id": "oLJI_425rOzo",
        "colab_type": "code",
        "outputId": "60fcfea0-d6d6-4be9-a967-2ceb71c5e3fd",
        "colab": {
          "base_uri": "https://localhost:8080/",
          "height": 232
        }
      },
      "cell_type": "code",
      "source": [
        "model.compile(loss='sparse_categorical_crossentropy',\n",
        "              optimizer=keras.optimizers.SGD(lr=0.001, beta_1=0.9, beta_2=0.999, epsilon=None, decay=0.0, amsgrad=False),\n",
        "              metrics=['accuracy'])\n",
        "\n",
        "\n",
        "\n",
        "history = model.fit(np.array(X_train.transpose(0,3,2,1)), np.array(y_train),\n",
        "                    epochs=30,\n",
        "                    verbose=1,\n",
        "                    validation_data=(np.array(X_val.transpose(0,3,2,1)),np.array(y_val)))"
      ],
      "execution_count": 0,
      "outputs": [
        {
          "output_type": "error",
          "ename": "NameError",
          "evalue": "ignored",
          "traceback": [
            "\u001b[0;31m---------------------------------------------------------------------------\u001b[0m",
            "\u001b[0;31mNameError\u001b[0m                                 Traceback (most recent call last)",
            "\u001b[0;32m<ipython-input-2-c11b77280b2a>\u001b[0m in \u001b[0;36m<module>\u001b[0;34m()\u001b[0m\n\u001b[0;32m----> 1\u001b[0;31m model.compile(loss='sparse_categorical_crossentropy',\n\u001b[0m\u001b[1;32m      2\u001b[0m               \u001b[0moptimizer\u001b[0m\u001b[0;34m=\u001b[0m\u001b[0mkeras\u001b[0m\u001b[0;34m.\u001b[0m\u001b[0moptimizers\u001b[0m\u001b[0;34m.\u001b[0m\u001b[0mSGD\u001b[0m\u001b[0;34m(\u001b[0m\u001b[0mlr\u001b[0m\u001b[0;34m=\u001b[0m\u001b[0;36m0.001\u001b[0m\u001b[0;34m,\u001b[0m \u001b[0mbeta_1\u001b[0m\u001b[0;34m=\u001b[0m\u001b[0;36m0.9\u001b[0m\u001b[0;34m,\u001b[0m \u001b[0mbeta_2\u001b[0m\u001b[0;34m=\u001b[0m\u001b[0;36m0.999\u001b[0m\u001b[0;34m,\u001b[0m \u001b[0mepsilon\u001b[0m\u001b[0;34m=\u001b[0m\u001b[0;32mNone\u001b[0m\u001b[0;34m,\u001b[0m \u001b[0mdecay\u001b[0m\u001b[0;34m=\u001b[0m\u001b[0;36m0.0\u001b[0m\u001b[0;34m,\u001b[0m \u001b[0mamsgrad\u001b[0m\u001b[0;34m=\u001b[0m\u001b[0;32mFalse\u001b[0m\u001b[0;34m)\u001b[0m\u001b[0;34m,\u001b[0m\u001b[0;34m\u001b[0m\u001b[0;34m\u001b[0m\u001b[0m\n\u001b[1;32m      3\u001b[0m               metrics=['accuracy'])\n\u001b[1;32m      4\u001b[0m \u001b[0;34m\u001b[0m\u001b[0m\n\u001b[1;32m      5\u001b[0m \u001b[0;34m\u001b[0m\u001b[0m\n",
            "\u001b[0;31mNameError\u001b[0m: name 'model' is not defined"
          ]
        }
      ]
    },
    {
      "metadata": {
        "id": "jDOpATqNzcr6",
        "colab_type": "code",
        "outputId": "1348de67-4501-4873-888d-ced3ea02d564",
        "colab": {
          "base_uri": "https://localhost:8080/",
          "height": 427
        }
      },
      "cell_type": "code",
      "source": [
        "score = model.evaluate(np.array(X_val.transpose(0,3,2,1)),np.array(y_val), verbose=0)\n",
        "                       \n",
        "print('Test loss:', score[0])\n",
        "print('Test accuracy:', score[1])\n",
        "\n",
        "\n",
        "import matplotlib.pyplot as plt\n",
        "import numpy\n",
        "\n",
        "print(history.history.keys())\n",
        "#summarize history for accuracy\n",
        "plt.plot(history.history['acc'])\n",
        "plt.plot(history.history['val_acc']) \n",
        "plt.title('model accuracy')\n",
        "plt.ylabel('accuracy')\n",
        "plt.xlabel('epoch')\n",
        "plt.legend(['train', 'test'], loc='upper left')\n",
        "plt.show()\n"
      ],
      "execution_count": 0,
      "outputs": [
        {
          "output_type": "stream",
          "text": [
            "Test loss: 15.796560824584962\n",
            "Test accuracy: 0.0188\n",
            "dict_keys(['val_loss', 'val_acc', 'loss', 'acc'])\n"
          ],
          "name": "stdout"
        },
        {
          "output_type": "display_data",
          "data": {
            "image/png": "[encoded data removed]",
            "text/plain": [
              "<Figure size 576x396 with 1 Axes>"
            ]
          },
          "metadata": {
            "tags": []
          }
        }
      ]
    },
    {
      "metadata": {
        "id": "p2T0sK7hzngF",
        "colab_type": "code",
        "outputId": "68152abc-1024-4bd3-db0d-cb8bd4e4ef9d",
        "colab": {
          "base_uri": "https://localhost:8080/",
          "height": 3434
        }
      },
      "cell_type": "code",
      "source": [
        "model.compile(loss='sparse_categorical_crossentropy',\n",
        "              optimizer=keras.optimizers.SGD(lr=0.01,decay=0.1,momentum=0.9),\n",
        "              metrics=['accuracy'])\n",
        "\n",
        "\n",
        "\n",
        "history = model.fit(np.array(X_train.transpose(0,3,2,1)), np.array(y_train),\n",
        "                    epochs=100,\n",
        "                    verbose=1,\n",
        "                    validation_data=(np.array(X_val.transpose(0,3,2,1)),np.array(y_val)))"
      ],
      "execution_count": 0,
      "outputs": [
        {
          "output_type": "stream",
          "text": [
            "Train on 100000 samples, validate on 10000 samples\n",
            "Epoch 1/100\n",
            "100000/100000 [==============================] - 69s 686us/step - loss: 15.7498 - acc: 0.0213 - val_loss: 15.7670 - val_acc: 0.0198\n",
            "Epoch 2/100\n",
            "100000/100000 [==============================] - 68s 675us/step - loss: 15.7331 - acc: 0.0223 - val_loss: 15.7642 - val_acc: 0.0202\n",
            "Epoch 3/100\n",
            "100000/100000 [==============================] - 67s 672us/step - loss: 15.7291 - acc: 0.0225 - val_loss: 15.7636 - val_acc: 0.0202\n",
            "Epoch 4/100\n",
            "100000/100000 [==============================] - 68s 677us/step - loss: 15.7267 - acc: 0.0227 - val_loss: 15.7632 - val_acc: 0.0202\n",
            "Epoch 5/100\n",
            "100000/100000 [==============================] - 68s 675us/step - loss: 15.7249 - acc: 0.0228 - val_loss: 15.7630 - val_acc: 0.0202\n",
            "Epoch 6/100\n",
            "100000/100000 [==============================] - 67s 674us/step - loss: 15.7235 - acc: 0.0228 - val_loss: 15.7628 - val_acc: 0.0202\n",
            "Epoch 7/100\n",
            "100000/100000 [==============================] - 68s 677us/step - loss: 15.7223 - acc: 0.0229 - val_loss: 15.7624 - val_acc: 0.0202\n",
            "Epoch 8/100\n",
            "100000/100000 [==============================] - 68s 676us/step - loss: 15.7211 - acc: 0.0229 - val_loss: 15.7622 - val_acc: 0.0201\n",
            "Epoch 9/100\n",
            "100000/100000 [==============================] - 68s 678us/step - loss: 15.7201 - acc: 0.0229 - val_loss: 15.7620 - val_acc: 0.0201\n",
            "Epoch 10/100\n",
            "100000/100000 [==============================] - 68s 680us/step - loss: 15.7191 - acc: 0.0230 - val_loss: 15.7618 - val_acc: 0.0201\n",
            "Epoch 11/100\n",
            "100000/100000 [==============================] - 68s 680us/step - loss: 15.7183 - acc: 0.0230 - val_loss: 15.7617 - val_acc: 0.0202\n",
            "Epoch 12/100\n",
            "100000/100000 [==============================] - 68s 679us/step - loss: 15.7175 - acc: 0.0230 - val_loss: 15.7617 - val_acc: 0.0202\n",
            "Epoch 13/100\n",
            "100000/100000 [==============================] - 68s 678us/step - loss: 15.7169 - acc: 0.0231 - val_loss: 15.7616 - val_acc: 0.0202\n",
            "Epoch 14/100\n",
            "100000/100000 [==============================] - 68s 678us/step - loss: 15.7162 - acc: 0.0232 - val_loss: 15.7614 - val_acc: 0.0202\n",
            "Epoch 15/100\n",
            "100000/100000 [==============================] - 68s 677us/step - loss: 15.7155 - acc: 0.0232 - val_loss: 15.7612 - val_acc: 0.0204\n",
            "Epoch 16/100\n",
            "100000/100000 [==============================] - 66s 661us/step - loss: 15.7149 - acc: 0.0232 - val_loss: 15.7610 - val_acc: 0.0204\n",
            "Epoch 17/100\n",
            "100000/100000 [==============================] - 69s 694us/step - loss: 15.7143 - acc: 0.0232 - val_loss: 15.7609 - val_acc: 0.0204\n",
            "Epoch 18/100\n",
            "100000/100000 [==============================] - 68s 681us/step - loss: 15.7137 - acc: 0.0232 - val_loss: 15.7607 - val_acc: 0.0204\n",
            "Epoch 19/100\n",
            "100000/100000 [==============================] - 67s 672us/step - loss: 15.7132 - acc: 0.0232 - val_loss: 15.7606 - val_acc: 0.0204\n",
            "Epoch 20/100\n",
            "100000/100000 [==============================] - 68s 677us/step - loss: 15.7127 - acc: 0.0233 - val_loss: 15.7604 - val_acc: 0.0204\n",
            "Epoch 21/100\n",
            "100000/100000 [==============================] - 68s 678us/step - loss: 15.7122 - acc: 0.0233 - val_loss: 15.7603 - val_acc: 0.0204\n",
            "Epoch 22/100\n",
            "100000/100000 [==============================] - 67s 672us/step - loss: 15.7117 - acc: 0.0233 - val_loss: 15.7601 - val_acc: 0.0204\n",
            "Epoch 23/100\n",
            "100000/100000 [==============================] - 65s 652us/step - loss: 15.7113 - acc: 0.0233 - val_loss: 15.7600 - val_acc: 0.0204\n",
            "Epoch 24/100\n",
            "100000/100000 [==============================] - 65s 653us/step - loss: 15.7109 - acc: 0.0233 - val_loss: 15.7598 - val_acc: 0.0205\n",
            "Epoch 25/100\n",
            "100000/100000 [==============================] - 65s 652us/step - loss: 15.7105 - acc: 0.0234 - val_loss: 15.7597 - val_acc: 0.0205\n",
            "Epoch 26/100\n",
            "100000/100000 [==============================] - 65s 651us/step - loss: 15.7102 - acc: 0.0234 - val_loss: 15.7595 - val_acc: 0.0205\n",
            "Epoch 27/100\n",
            "100000/100000 [==============================] - 65s 653us/step - loss: 15.7099 - acc: 0.0235 - val_loss: 15.7594 - val_acc: 0.0205\n",
            "Epoch 28/100\n",
            "100000/100000 [==============================] - 65s 654us/step - loss: 15.7096 - acc: 0.0235 - val_loss: 15.7593 - val_acc: 0.0205\n",
            "Epoch 29/100\n",
            "100000/100000 [==============================] - 66s 657us/step - loss: 15.7093 - acc: 0.0235 - val_loss: 15.7591 - val_acc: 0.0205\n",
            "Epoch 30/100\n",
            "100000/100000 [==============================] - 66s 657us/step - loss: 15.7090 - acc: 0.0235 - val_loss: 15.7590 - val_acc: 0.0205\n",
            "Epoch 31/100\n",
            "100000/100000 [==============================] - 65s 652us/step - loss: 15.7088 - acc: 0.0235 - val_loss: 15.7589 - val_acc: 0.0207\n",
            "Epoch 32/100\n",
            "100000/100000 [==============================] - 65s 652us/step - loss: 15.7085 - acc: 0.0236 - val_loss: 15.7587 - val_acc: 0.0207\n",
            "Epoch 33/100\n",
            "100000/100000 [==============================] - 67s 671us/step - loss: 15.7083 - acc: 0.0236 - val_loss: 15.7586 - val_acc: 0.0207\n",
            "Epoch 34/100\n",
            "100000/100000 [==============================] - 67s 668us/step - loss: 15.7081 - acc: 0.0236 - val_loss: 15.7585 - val_acc: 0.0207\n",
            "Epoch 35/100\n",
            "100000/100000 [==============================] - 66s 660us/step - loss: 15.7079 - acc: 0.0236 - val_loss: 15.7584 - val_acc: 0.0207\n",
            "Epoch 36/100\n",
            "100000/100000 [==============================] - 64s 642us/step - loss: 15.7077 - acc: 0.0237 - val_loss: 15.7583 - val_acc: 0.0207\n",
            "Epoch 37/100\n",
            "100000/100000 [==============================] - 65s 653us/step - loss: 15.7075 - acc: 0.0237 - val_loss: 15.7582 - val_acc: 0.0207\n",
            "Epoch 38/100\n",
            "100000/100000 [==============================] - 67s 665us/step - loss: 15.7073 - acc: 0.0237 - val_loss: 15.7581 - val_acc: 0.0207\n",
            "Epoch 39/100\n",
            "100000/100000 [==============================] - 65s 652us/step - loss: 15.7071 - acc: 0.0237 - val_loss: 15.7580 - val_acc: 0.0207\n",
            "Epoch 40/100\n",
            "100000/100000 [==============================] - 66s 656us/step - loss: 15.7069 - acc: 0.0237 - val_loss: 15.7579 - val_acc: 0.0206\n",
            "Epoch 41/100\n",
            "100000/100000 [==============================] - 66s 658us/step - loss: 15.7068 - acc: 0.0237 - val_loss: 15.7579 - val_acc: 0.0206\n",
            "Epoch 42/100\n",
            "100000/100000 [==============================] - 65s 646us/step - loss: 15.7066 - acc: 0.0237 - val_loss: 15.7578 - val_acc: 0.0206\n",
            "Epoch 43/100\n",
            "100000/100000 [==============================] - 65s 650us/step - loss: 15.7064 - acc: 0.0238 - val_loss: 15.7577 - val_acc: 0.0206\n",
            "Epoch 44/100\n",
            "100000/100000 [==============================] - 65s 647us/step - loss: 15.7063 - acc: 0.0238 - val_loss: 15.7576 - val_acc: 0.0205\n",
            "Epoch 45/100\n",
            "100000/100000 [==============================] - 65s 654us/step - loss: 15.7061 - acc: 0.0238 - val_loss: 15.7575 - val_acc: 0.0205\n",
            "Epoch 46/100\n",
            "100000/100000 [==============================] - 67s 666us/step - loss: 15.7059 - acc: 0.0238 - val_loss: 15.7574 - val_acc: 0.0205\n",
            "Epoch 47/100\n",
            "100000/100000 [==============================] - 65s 646us/step - loss: 15.7058 - acc: 0.0238 - val_loss: 15.7573 - val_acc: 0.0205\n",
            "Epoch 48/100\n",
            "100000/100000 [==============================] - 66s 659us/step - loss: 15.7056 - acc: 0.0238 - val_loss: 15.7572 - val_acc: 0.0205\n",
            "Epoch 49/100\n",
            "100000/100000 [==============================] - 64s 644us/step - loss: 15.7055 - acc: 0.0238 - val_loss: 15.7571 - val_acc: 0.0205\n",
            "Epoch 50/100\n",
            "100000/100000 [==============================] - 66s 661us/step - loss: 15.7053 - acc: 0.0238 - val_loss: 15.7570 - val_acc: 0.0205\n",
            "Epoch 51/100\n",
            "100000/100000 [==============================] - 66s 665us/step - loss: 15.7052 - acc: 0.0238 - val_loss: 15.7569 - val_acc: 0.0205\n",
            "Epoch 52/100\n",
            "100000/100000 [==============================] - 66s 657us/step - loss: 15.7051 - acc: 0.0238 - val_loss: 15.7568 - val_acc: 0.0205\n",
            "Epoch 53/100\n",
            "100000/100000 [==============================] - 65s 651us/step - loss: 15.7049 - acc: 0.0238 - val_loss: 15.7567 - val_acc: 0.0205\n",
            "Epoch 54/100\n",
            "100000/100000 [==============================] - 65s 647us/step - loss: 15.7048 - acc: 0.0238 - val_loss: 15.7566 - val_acc: 0.0205\n",
            "Epoch 55/100\n",
            "100000/100000 [==============================] - 65s 651us/step - loss: 15.7047 - acc: 0.0238 - val_loss: 15.7566 - val_acc: 0.0205\n",
            "Epoch 56/100\n",
            "100000/100000 [==============================] - 66s 657us/step - loss: 15.7045 - acc: 0.0238 - val_loss: 15.7565 - val_acc: 0.0205\n",
            "Epoch 57/100\n",
            "100000/100000 [==============================] - 65s 646us/step - loss: 15.7044 - acc: 0.0238 - val_loss: 15.7564 - val_acc: 0.0205\n",
            "Epoch 58/100\n",
            "100000/100000 [==============================] - 65s 649us/step - loss: 15.7043 - acc: 0.0238 - val_loss: 15.7563 - val_acc: 0.0205\n",
            "Epoch 59/100\n",
            "100000/100000 [==============================] - 65s 649us/step - loss: 15.7042 - acc: 0.0238 - val_loss: 15.7563 - val_acc: 0.0205\n",
            "Epoch 60/100\n",
            "100000/100000 [==============================] - 65s 649us/step - loss: 15.7041 - acc: 0.0239 - val_loss: 15.7562 - val_acc: 0.0205\n",
            "Epoch 61/100\n",
            "100000/100000 [==============================] - 65s 654us/step - loss: 15.7040 - acc: 0.0238 - val_loss: 15.7561 - val_acc: 0.0205\n",
            "Epoch 62/100\n",
            "100000/100000 [==============================] - 66s 661us/step - loss: 15.7039 - acc: 0.0239 - val_loss: 15.7560 - val_acc: 0.0205\n",
            "Epoch 63/100\n",
            "100000/100000 [==============================] - 65s 655us/step - loss: 15.7037 - acc: 0.0238 - val_loss: 15.7560 - val_acc: 0.0205\n",
            "Epoch 64/100\n",
            "100000/100000 [==============================] - 67s 666us/step - loss: 15.7036 - acc: 0.0239 - val_loss: 15.7559 - val_acc: 0.0205\n",
            "Epoch 65/100\n",
            "100000/100000 [==============================] - 67s 669us/step - loss: 15.7035 - acc: 0.0239 - val_loss: 15.7558 - val_acc: 0.0205\n",
            "Epoch 66/100\n",
            "100000/100000 [==============================] - 67s 670us/step - loss: 15.7035 - acc: 0.0239 - val_loss: 15.7558 - val_acc: 0.0205\n",
            "Epoch 67/100\n",
            "100000/100000 [==============================] - 66s 664us/step - loss: 15.7034 - acc: 0.0239 - val_loss: 15.7557 - val_acc: 0.0205\n",
            "Epoch 68/100\n",
            "100000/100000 [==============================] - 66s 661us/step - loss: 15.7033 - acc: 0.0239 - val_loss: 15.7556 - val_acc: 0.0205\n",
            "Epoch 69/100\n",
            "100000/100000 [==============================] - 67s 666us/step - loss: 15.7032 - acc: 0.0239 - val_loss: 15.7555 - val_acc: 0.0206\n",
            "Epoch 70/100\n",
            "100000/100000 [==============================] - 66s 661us/step - loss: 15.7031 - acc: 0.0239 - val_loss: 15.7555 - val_acc: 0.0206\n",
            "Epoch 71/100\n",
            "100000/100000 [==============================] - 65s 653us/step - loss: 15.7030 - acc: 0.0239 - val_loss: 15.7554 - val_acc: 0.0206\n",
            "Epoch 72/100\n",
            "100000/100000 [==============================] - 65s 647us/step - loss: 15.7029 - acc: 0.0239 - val_loss: 15.7553 - val_acc: 0.0206\n",
            "Epoch 73/100\n",
            "100000/100000 [==============================] - 66s 659us/step - loss: 15.7028 - acc: 0.0239 - val_loss: 15.7552 - val_acc: 0.0206\n",
            "Epoch 74/100\n",
            "100000/100000 [==============================] - 67s 672us/step - loss: 15.7027 - acc: 0.0239 - val_loss: 15.7551 - val_acc: 0.0206\n",
            "Epoch 75/100\n",
            "100000/100000 [==============================] - 67s 675us/step - loss: 15.7027 - acc: 0.0240 - val_loss: 15.7551 - val_acc: 0.0206\n",
            "Epoch 76/100\n",
            "100000/100000 [==============================] - 63s 635us/step - loss: 15.7026 - acc: 0.0240 - val_loss: 15.7550 - val_acc: 0.0206\n",
            "Epoch 77/100\n",
            "100000/100000 [==============================] - 63s 626us/step - loss: 15.7025 - acc: 0.0240 - val_loss: 15.7549 - val_acc: 0.0206\n",
            "Epoch 78/100\n",
            "100000/100000 [==============================] - 67s 671us/step - loss: 15.7024 - acc: 0.0240 - val_loss: 15.7548 - val_acc: 0.0206\n",
            "Epoch 79/100\n",
            "100000/100000 [==============================] - 65s 654us/step - loss: 15.7023 - acc: 0.0240 - val_loss: 15.7548 - val_acc: 0.0206\n",
            "Epoch 80/100\n",
            "100000/100000 [==============================] - 63s 630us/step - loss: 15.7023 - acc: 0.0240 - val_loss: 15.7547 - val_acc: 0.0206\n",
            "Epoch 81/100\n",
            "100000/100000 [==============================] - 63s 632us/step - loss: 15.7022 - acc: 0.0240 - val_loss: 15.7546 - val_acc: 0.0206\n",
            "Epoch 82/100\n",
            "100000/100000 [==============================] - 64s 637us/step - loss: 15.7021 - acc: 0.0240 - val_loss: 15.7546 - val_acc: 0.0206\n",
            "Epoch 83/100\n",
            "100000/100000 [==============================] - 64s 642us/step - loss: 15.7020 - acc: 0.0240 - val_loss: 15.7545 - val_acc: 0.0206\n",
            "Epoch 84/100\n",
            "100000/100000 [==============================] - 64s 642us/step - loss: 15.7020 - acc: 0.0240 - val_loss: 15.7544 - val_acc: 0.0206\n",
            "Epoch 85/100\n",
            "100000/100000 [==============================] - 64s 641us/step - loss: 15.7019 - acc: 0.0240 - val_loss: 15.7544 - val_acc: 0.0206\n",
            "Epoch 86/100\n",
            "100000/100000 [==============================] - 64s 643us/step - loss: 15.7018 - acc: 0.0240 - val_loss: 15.7543 - val_acc: 0.0206\n",
            "Epoch 87/100\n",
            "100000/100000 [==============================] - 65s 646us/step - loss: 15.7018 - acc: 0.0240 - val_loss: 15.7543 - val_acc: 0.0206\n",
            "Epoch 88/100\n",
            "100000/100000 [==============================] - 65s 652us/step - loss: 15.7017 - acc: 0.0240 - val_loss: 15.7542 - val_acc: 0.0206\n",
            "Epoch 89/100\n",
            "100000/100000 [==============================] - 65s 653us/step - loss: 15.7016 - acc: 0.0240 - val_loss: 15.7541 - val_acc: 0.0206\n",
            "Epoch 90/100\n",
            "100000/100000 [==============================] - 65s 648us/step - loss: 15.7016 - acc: 0.0240 - val_loss: 15.7541 - val_acc: 0.0206\n",
            "Epoch 91/100\n",
            "100000/100000 [==============================] - 65s 646us/step - loss: 15.7015 - acc: 0.0240 - val_loss: 15.7540 - val_acc: 0.0206\n",
            "Epoch 92/100\n",
            "100000/100000 [==============================] - 66s 656us/step - loss: 15.7014 - acc: 0.0240 - val_loss: 15.7540 - val_acc: 0.0206\n",
            "Epoch 93/100\n",
            "100000/100000 [==============================] - 65s 647us/step - loss: 15.7014 - acc: 0.0240 - val_loss: 15.7539 - val_acc: 0.0206\n",
            "Epoch 94/100\n",
            "100000/100000 [==============================] - 65s 650us/step - loss: 15.7013 - acc: 0.0240 - val_loss: 15.7538 - val_acc: 0.0206\n",
            "Epoch 95/100\n",
            "100000/100000 [==============================] - 65s 651us/step - loss: 15.7012 - acc: 0.0240 - val_loss: 15.7538 - val_acc: 0.0206\n",
            "Epoch 96/100\n",
            "100000/100000 [==============================] - 65s 651us/step - loss: 15.7012 - acc: 0.0241 - val_loss: 15.7537 - val_acc: 0.0206\n",
            "Epoch 97/100\n",
            "100000/100000 [==============================] - 65s 652us/step - loss: 15.7011 - acc: 0.0241 - val_loss: 15.7537 - val_acc: 0.0206\n",
            "Epoch 98/100\n",
            "100000/100000 [==============================] - 66s 655us/step - loss: 15.7011 - acc: 0.0241 - val_loss: 15.7536 - val_acc: 0.0206\n",
            "Epoch 99/100\n",
            "100000/100000 [==============================] - 65s 653us/step - loss: 15.7010 - acc: 0.0241 - val_loss: 15.7536 - val_acc: 0.0206\n",
            "Epoch 100/100\n",
            "100000/100000 [==============================] - 66s 658us/step - loss: 15.7009 - acc: 0.0241 - val_loss: 15.7535 - val_acc: 0.0206\n"
          ],
          "name": "stdout"
        }
      ]
    },
    {
      "metadata": {
        "id": "r6Rxt8bnXelR",
        "colab_type": "code",
        "outputId": "fd0438ae-5841-425f-ec37-d2486d00c6b0",
        "colab": {
          "base_uri": "https://localhost:8080/",
          "height": 34
        }
      },
      "cell_type": "code",
      "source": [
        ""
      ],
      "execution_count": 0,
      "outputs": [
        {
          "output_type": "execute_result",
          "data": {
            "text/plain": [
              "199"
            ]
          },
          "metadata": {
            "tags": []
          },
          "execution_count": 52
        }
      ]
    }
  ]
}