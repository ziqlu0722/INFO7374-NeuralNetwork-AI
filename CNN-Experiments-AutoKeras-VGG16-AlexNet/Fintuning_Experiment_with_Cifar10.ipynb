{
  "nbformat": 4,
  "nbformat_minor": 0,
  "metadata": {
    "colab": {
      "name": "Fintuning Experiment with Cifar10.ipynb",
      "version": "0.3.2",
      "provenance": [],
      "collapsed_sections": []
    },
    "kernelspec": {
      "name": "python3",
      "display_name": "Python 3"
    },
    "accelerator": "GPU"
  },
  "cells": [
    {
      "metadata": {
        "id": "S6mTul1RgnyW",
        "colab_type": "text"
      },
      "cell_type": "markdown",
      "source": [
        "**1. IMPORT LIBRARIES AND CIFAR 10, PREPARE DATA**"
      ]
    },
    {
      "metadata": {
        "id": "1c4ODtAcaSGg",
        "colab_type": "code",
        "outputId": "3957cd7d-e393-4687-a677-d0e410c1fc33",
        "colab": {
          "base_uri": "https://localhost:8080/",
          "height": 34
        }
      },
      "cell_type": "code",
      "source": [
        "# general\n",
        "import numpy as np\n",
        "import cv2\n",
        "import matplotlib.pyplot as plt\n",
        "% matplotlib inline\n",
        "\n",
        "\n",
        "# dataset\n",
        "from keras.datasets import cifar10\n",
        "\n",
        "# keras\n",
        "from keras import Sequential\n",
        "from keras.layers import Input, Dense, Convolution2D, MaxPooling2D, AveragePooling2D, ZeroPadding2D, Dropout, Flatten, merge, Reshape, Activation\n",
        "from keras.optimizers import Adam, SGD\n",
        "from keras.utils.np_utils import to_categorical\n",
        "from keras.applications import vgg16\n",
        "from keras.models import Model\n",
        "from keras.preprocessing.image import ImageDataGenerator\n",
        "from keras.applications.vgg16 import preprocess_input  # different expert has different method to preprocess data, importing this is very important"
      ],
      "execution_count": 0,
      "outputs": [
        {
          "output_type": "stream",
          "text": [
            "Using TensorFlow backend.\n"
          ],
          "name": "stderr"
        }
      ]
    },
    {
      "metadata": {
        "id": "O-dHb4sybYb2",
        "colab_type": "code",
        "outputId": "9600db54-389f-4839-d113-de8c42fec58c",
        "colab": {
          "base_uri": "https://localhost:8080/",
          "height": 51
        }
      },
      "cell_type": "code",
      "source": [
        "# split data\n",
        "(x_train, y_train), (x_test, y_test) = cifar10.load_data()"
      ],
      "execution_count": 0,
      "outputs": [
        {
          "output_type": "stream",
          "text": [
            "Downloading data from https://www.cs.toronto.edu/~kriz/cifar-10-python.tar.gz\n",
            "170500096/170498071 [==============================] - 110s 1us/step\n"
          ],
          "name": "stdout"
        }
      ]
    },
    {
      "metadata": {
        "id": "BJcLTarscQWY",
        "colab_type": "code",
        "outputId": "5eeedaa1-baf4-4dc5-fefd-43c0ef0f63a9",
        "colab": {
          "base_uri": "https://localhost:8080/",
          "height": 51
        }
      },
      "cell_type": "code",
      "source": [
        "# get labels\n",
        "labels = []\n",
        "for y in y_train.flatten():\n",
        "  if y not in labels[:3000]:\n",
        "    labels.append(y)\n",
        "    \n",
        "num_class = len(labels)\n",
        "    \n",
        "print(labels)\n",
        "print(len(labels))"
      ],
      "execution_count": 0,
      "outputs": [
        {
          "output_type": "stream",
          "text": [
            "[6, 9, 4, 1, 2, 7, 8, 3, 5, 0]\n",
            "10\n"
          ],
          "name": "stdout"
        }
      ]
    },
    {
      "metadata": {
        "id": "suaM01BNczYr",
        "colab_type": "code",
        "colab": {}
      },
      "cell_type": "code",
      "source": [
        "# convert to one-hot encoded labels\n",
        "\n",
        "y_train = to_categorical(y_train, num_class)\n",
        "y_test = to_categorical(y_test, num_class)"
      ],
      "execution_count": 0,
      "outputs": []
    },
    {
      "metadata": {
        "id": "Mi5OKiLYPU7E",
        "colab_type": "code",
        "colab": {}
      },
      "cell_type": "code",
      "source": [
        "x_train = preprocess_input(x_train)\n",
        "x_test = preprocess_input(x_test)"
      ],
      "execution_count": 0,
      "outputs": []
    },
    {
      "metadata": {
        "id": "48W-b_LWMJjO",
        "colab_type": "code",
        "outputId": "f05ebadf-3398-4907-e863-bf1ed0240b08",
        "colab": {
          "base_uri": "https://localhost:8080/",
          "height": 34
        }
      },
      "cell_type": "code",
      "source": [
        "# Check data dimensions\n",
        "x_train.shape, x_test.shape, y_train.shape, y_test.shape"
      ],
      "execution_count": 0,
      "outputs": [
        {
          "output_type": "execute_result",
          "data": {
            "text/plain": [
              "((50000, 32, 32, 3), (10000, 32, 32, 3), (50000, 10), (10000, 10))"
            ]
          },
          "metadata": {
            "tags": []
          },
          "execution_count": 6
        }
      ]
    },
    {
      "metadata": {
        "id": "D3i8kITCl78y",
        "colab_type": "text"
      },
      "cell_type": "markdown",
      "source": [
        "**3. BUILD FINE-TUNED VGG16 MODEL**"
      ]
    },
    {
      "metadata": {
        "id": "U4cMJKHKnQ2n",
        "colab_type": "text"
      },
      "cell_type": "markdown",
      "source": [
        "####  * Check Original VGG16 Model Structure\n",
        "\n"
      ]
    },
    {
      "metadata": {
        "id": "H0VdJH0JOTpn",
        "colab_type": "code",
        "outputId": "285ff478-70b4-437b-f01e-308583e1a5a2",
        "colab": {
          "base_uri": "https://localhost:8080/",
          "height": 1023
        }
      },
      "cell_type": "code",
      "source": [
        "# original vgg model\n",
        "\n",
        "origin_vgg = vgg16.VGG16()\n",
        "origin_vgg.summary()"
      ],
      "execution_count": 0,
      "outputs": [
        {
          "output_type": "stream",
          "text": [
            "WARNING:tensorflow:From /usr/local/lib/python3.6/dist-packages/tensorflow/python/framework/op_def_library.py:263: colocate_with (from tensorflow.python.framework.ops) is deprecated and will be removed in a future version.\n",
            "Instructions for updating:\n",
            "Colocations handled automatically by placer.\n",
            "Downloading data from https://github.com/fchollet/deep-learning-models/releases/download/v0.1/vgg16_weights_tf_dim_ordering_tf_kernels.h5\n",
            "553467904/553467096 [==============================] - 234s 0us/step\n",
            "_________________________________________________________________\n",
            "Layer (type)                 Output Shape              Param #   \n",
            "=================================================================\n",
            "input_1 (InputLayer)         (None, 224, 224, 3)       0         \n",
            "_________________________________________________________________\n",
            "block1_conv1 (Conv2D)        (None, 224, 224, 64)      1792      \n",
            "_________________________________________________________________\n",
            "block1_conv2 (Conv2D)        (None, 224, 224, 64)      36928     \n",
            "_________________________________________________________________\n",
            "block1_pool (MaxPooling2D)   (None, 112, 112, 64)      0         \n",
            "_________________________________________________________________\n",
            "block2_conv1 (Conv2D)        (None, 112, 112, 128)     73856     \n",
            "_________________________________________________________________\n",
            "block2_conv2 (Conv2D)        (None, 112, 112, 128)     147584    \n",
            "_________________________________________________________________\n",
            "block2_pool (MaxPooling2D)   (None, 56, 56, 128)       0         \n",
            "_________________________________________________________________\n",
            "block3_conv1 (Conv2D)        (None, 56, 56, 256)       295168    \n",
            "_________________________________________________________________\n",
            "block3_conv2 (Conv2D)        (None, 56, 56, 256)       590080    \n",
            "_________________________________________________________________\n",
            "block3_conv3 (Conv2D)        (None, 56, 56, 256)       590080    \n",
            "_________________________________________________________________\n",
            "block3_pool (MaxPooling2D)   (None, 28, 28, 256)       0         \n",
            "_________________________________________________________________\n",
            "block4_conv1 (Conv2D)        (None, 28, 28, 512)       1180160   \n",
            "_________________________________________________________________\n",
            "block4_conv2 (Conv2D)        (None, 28, 28, 512)       2359808   \n",
            "_________________________________________________________________\n",
            "block4_conv3 (Conv2D)        (None, 28, 28, 512)       2359808   \n",
            "_________________________________________________________________\n",
            "block4_pool (MaxPooling2D)   (None, 14, 14, 512)       0         \n",
            "_________________________________________________________________\n",
            "block5_conv1 (Conv2D)        (None, 14, 14, 512)       2359808   \n",
            "_________________________________________________________________\n",
            "block5_conv2 (Conv2D)        (None, 14, 14, 512)       2359808   \n",
            "_________________________________________________________________\n",
            "block5_conv3 (Conv2D)        (None, 14, 14, 512)       2359808   \n",
            "_________________________________________________________________\n",
            "block5_pool (MaxPooling2D)   (None, 7, 7, 512)         0         \n",
            "_________________________________________________________________\n",
            "flatten (Flatten)            (None, 25088)             0         \n",
            "_________________________________________________________________\n",
            "fc1 (Dense)                  (None, 4096)              102764544 \n",
            "_________________________________________________________________\n",
            "fc2 (Dense)                  (None, 4096)              16781312  \n",
            "_________________________________________________________________\n",
            "predictions (Dense)          (None, 1000)              4097000   \n",
            "=================================================================\n",
            "Total params: 138,357,544\n",
            "Trainable params: 138,357,544\n",
            "Non-trainable params: 0\n",
            "_________________________________________________________________\n"
          ],
          "name": "stdout"
        }
      ]
    },
    {
      "metadata": {
        "colab_type": "text",
        "id": "diJl92KbniUR"
      },
      "cell_type": "markdown",
      "source": [
        "####  * Drop Off The Top 4 Layers of VGG16 Model\n",
        "\n"
      ]
    },
    {
      "metadata": {
        "id": "3VESgMeC8wwE",
        "colab_type": "code",
        "outputId": "e49d3f28-02e1-4918-b915-3f69c1575f0c",
        "colab": {
          "base_uri": "https://localhost:8080/",
          "height": 71
        }
      },
      "cell_type": "code",
      "source": [
        "vgg_model = vgg16.VGG16(include_top=False, weights='imagenet', input_tensor=None, input_shape=(32,32,3))"
      ],
      "execution_count": 0,
      "outputs": [
        {
          "output_type": "stream",
          "text": [
            "Downloading data from https://github.com/fchollet/deep-learning-models/releases/download/v0.1/vgg16_weights_tf_dim_ordering_tf_kernels_notop.h5\n",
            "58892288/58889256 [==============================] - 5s 0us/step\n"
          ],
          "name": "stdout"
        }
      ]
    },
    {
      "metadata": {
        "id": "lVhbgW5qNG0s",
        "colab_type": "code",
        "outputId": "32e8fb52-b3dd-41ec-8bc0-c6590f3a83eb",
        "colab": {
          "base_uri": "https://localhost:8080/",
          "height": 799
        }
      },
      "cell_type": "code",
      "source": [
        "vgg_model.summary()\n",
        "len(vgg_model.layers)"
      ],
      "execution_count": 0,
      "outputs": [
        {
          "output_type": "stream",
          "text": [
            "_________________________________________________________________\n",
            "Layer (type)                 Output Shape              Param #   \n",
            "=================================================================\n",
            "input_2 (InputLayer)         (None, 32, 32, 3)         0         \n",
            "_________________________________________________________________\n",
            "block1_conv1 (Conv2D)        (None, 32, 32, 64)        1792      \n",
            "_________________________________________________________________\n",
            "block1_conv2 (Conv2D)        (None, 32, 32, 64)        36928     \n",
            "_________________________________________________________________\n",
            "block1_pool (MaxPooling2D)   (None, 16, 16, 64)        0         \n",
            "_________________________________________________________________\n",
            "block2_conv1 (Conv2D)        (None, 16, 16, 128)       73856     \n",
            "_________________________________________________________________\n",
            "block2_conv2 (Conv2D)        (None, 16, 16, 128)       147584    \n",
            "_________________________________________________________________\n",
            "block2_pool (MaxPooling2D)   (None, 8, 8, 128)         0         \n",
            "_________________________________________________________________\n",
            "block3_conv1 (Conv2D)        (None, 8, 8, 256)         295168    \n",
            "_________________________________________________________________\n",
            "block3_conv2 (Conv2D)        (None, 8, 8, 256)         590080    \n",
            "_________________________________________________________________\n",
            "block3_conv3 (Conv2D)        (None, 8, 8, 256)         590080    \n",
            "_________________________________________________________________\n",
            "block3_pool (MaxPooling2D)   (None, 4, 4, 256)         0         \n",
            "_________________________________________________________________\n",
            "block4_conv1 (Conv2D)        (None, 4, 4, 512)         1180160   \n",
            "_________________________________________________________________\n",
            "block4_conv2 (Conv2D)        (None, 4, 4, 512)         2359808   \n",
            "_________________________________________________________________\n",
            "block4_conv3 (Conv2D)        (None, 4, 4, 512)         2359808   \n",
            "_________________________________________________________________\n",
            "block4_pool (MaxPooling2D)   (None, 2, 2, 512)         0         \n",
            "_________________________________________________________________\n",
            "block5_conv1 (Conv2D)        (None, 2, 2, 512)         2359808   \n",
            "_________________________________________________________________\n",
            "block5_conv2 (Conv2D)        (None, 2, 2, 512)         2359808   \n",
            "_________________________________________________________________\n",
            "block5_conv3 (Conv2D)        (None, 2, 2, 512)         2359808   \n",
            "_________________________________________________________________\n",
            "block5_pool (MaxPooling2D)   (None, 1, 1, 512)         0         \n",
            "=================================================================\n",
            "Total params: 14,714,688\n",
            "Trainable params: 14,714,688\n",
            "Non-trainable params: 0\n",
            "_________________________________________________________________\n"
          ],
          "name": "stdout"
        },
        {
          "output_type": "execute_result",
          "data": {
            "text/plain": [
              "19"
            ]
          },
          "metadata": {
            "tags": []
          },
          "execution_count": 9
        }
      ]
    },
    {
      "metadata": {
        "id": "iTTGLIRKoAPw",
        "colab_type": "text"
      },
      "cell_type": "markdown",
      "source": [
        "####  * Rebuild the Top Layer And Combine With The Previous Layers"
      ]
    },
    {
      "metadata": {
        "id": "E63hlm1e_WrS",
        "colab_type": "code",
        "outputId": "b6beb15a-a622-40fd-b33c-bb2185c85608",
        "colab": {
          "base_uri": "https://localhost:8080/",
          "height": 88
        }
      },
      "cell_type": "code",
      "source": [
        "top_model = Sequential()\n",
        "top_model.add(Flatten(input_shape=vgg_model.output_shape[1:]))\n",
        "top_model.add(Dense(256, activation='relu'))\n",
        "top_model.add(Dropout(0.5))\n",
        "top_model.add(Dense(10, activation='softmax'))"
      ],
      "execution_count": 0,
      "outputs": [
        {
          "output_type": "stream",
          "text": [
            "WARNING:tensorflow:From /usr/local/lib/python3.6/dist-packages/keras/backend/tensorflow_backend.py:3445: calling dropout (from tensorflow.python.ops.nn_ops) with keep_prob is deprecated and will be removed in a future version.\n",
            "Instructions for updating:\n",
            "Please use `rate` instead of `keep_prob`. Rate should be set to `rate = 1 - keep_prob`.\n"
          ],
          "name": "stdout"
        }
      ]
    },
    {
      "metadata": {
        "id": "7_frWJANd9ZX",
        "colab_type": "code",
        "outputId": "942953f0-db03-4c6a-a118-6827ed4e7fe8",
        "colab": {
          "base_uri": "https://localhost:8080/",
          "height": 272
        }
      },
      "cell_type": "code",
      "source": [
        "top_model.summary()"
      ],
      "execution_count": 0,
      "outputs": [
        {
          "output_type": "stream",
          "text": [
            "_________________________________________________________________\n",
            "Layer (type)                 Output Shape              Param #   \n",
            "=================================================================\n",
            "flatten_1 (Flatten)          (None, 512)               0         \n",
            "_________________________________________________________________\n",
            "dense_1 (Dense)              (None, 256)               131328    \n",
            "_________________________________________________________________\n",
            "dropout_1 (Dropout)          (None, 256)               0         \n",
            "_________________________________________________________________\n",
            "dense_2 (Dense)              (None, 10)                2570      \n",
            "=================================================================\n",
            "Total params: 133,898\n",
            "Trainable params: 133,898\n",
            "Non-trainable params: 0\n",
            "_________________________________________________________________\n"
          ],
          "name": "stdout"
        }
      ]
    },
    {
      "metadata": {
        "id": "Suy-Wu2OAHkc",
        "colab_type": "code",
        "colab": {}
      },
      "cell_type": "code",
      "source": [
        "model = Model(inputs= vgg_model.input, outputs= top_model(vgg_model.output))"
      ],
      "execution_count": 0,
      "outputs": []
    },
    {
      "metadata": {
        "id": "69w0pdR4Lp99",
        "colab_type": "code",
        "outputId": "b65cd811-3d53-4a6c-ebc0-9adf3fb2df25",
        "colab": {
          "base_uri": "https://localhost:8080/",
          "height": 816
        }
      },
      "cell_type": "code",
      "source": [
        "model.summary()"
      ],
      "execution_count": 0,
      "outputs": [
        {
          "output_type": "stream",
          "text": [
            "_________________________________________________________________\n",
            "Layer (type)                 Output Shape              Param #   \n",
            "=================================================================\n",
            "input_2 (InputLayer)         (None, 32, 32, 3)         0         \n",
            "_________________________________________________________________\n",
            "block1_conv1 (Conv2D)        (None, 32, 32, 64)        1792      \n",
            "_________________________________________________________________\n",
            "block1_conv2 (Conv2D)        (None, 32, 32, 64)        36928     \n",
            "_________________________________________________________________\n",
            "block1_pool (MaxPooling2D)   (None, 16, 16, 64)        0         \n",
            "_________________________________________________________________\n",
            "block2_conv1 (Conv2D)        (None, 16, 16, 128)       73856     \n",
            "_________________________________________________________________\n",
            "block2_conv2 (Conv2D)        (None, 16, 16, 128)       147584    \n",
            "_________________________________________________________________\n",
            "block2_pool (MaxPooling2D)   (None, 8, 8, 128)         0         \n",
            "_________________________________________________________________\n",
            "block3_conv1 (Conv2D)        (None, 8, 8, 256)         295168    \n",
            "_________________________________________________________________\n",
            "block3_conv2 (Conv2D)        (None, 8, 8, 256)         590080    \n",
            "_________________________________________________________________\n",
            "block3_conv3 (Conv2D)        (None, 8, 8, 256)         590080    \n",
            "_________________________________________________________________\n",
            "block3_pool (MaxPooling2D)   (None, 4, 4, 256)         0         \n",
            "_________________________________________________________________\n",
            "block4_conv1 (Conv2D)        (None, 4, 4, 512)         1180160   \n",
            "_________________________________________________________________\n",
            "block4_conv2 (Conv2D)        (None, 4, 4, 512)         2359808   \n",
            "_________________________________________________________________\n",
            "block4_conv3 (Conv2D)        (None, 4, 4, 512)         2359808   \n",
            "_________________________________________________________________\n",
            "block4_pool (MaxPooling2D)   (None, 2, 2, 512)         0         \n",
            "_________________________________________________________________\n",
            "block5_conv1 (Conv2D)        (None, 2, 2, 512)         2359808   \n",
            "_________________________________________________________________\n",
            "block5_conv2 (Conv2D)        (None, 2, 2, 512)         2359808   \n",
            "_________________________________________________________________\n",
            "block5_conv3 (Conv2D)        (None, 2, 2, 512)         2359808   \n",
            "_________________________________________________________________\n",
            "block5_pool (MaxPooling2D)   (None, 1, 1, 512)         0         \n",
            "_________________________________________________________________\n",
            "sequential_1 (Sequential)    (None, 10)                133898    \n",
            "=================================================================\n",
            "Total params: 14,848,586\n",
            "Trainable params: 14,848,586\n",
            "Non-trainable params: 0\n",
            "_________________________________________________________________\n"
          ],
          "name": "stdout"
        }
      ]
    },
    {
      "metadata": {
        "id": "x62YGL5noQ_h",
        "colab_type": "text"
      },
      "cell_type": "markdown",
      "source": [
        "#### * Freeze All Layers Except The Top Layer"
      ]
    },
    {
      "metadata": {
        "id": "kml28q6GfVDN",
        "colab_type": "code",
        "colab": {}
      },
      "cell_type": "code",
      "source": [
        "for layer in model.layers[:-1]:\n",
        "    layer.trainable = False"
      ],
      "execution_count": 0,
      "outputs": []
    },
    {
      "metadata": {
        "id": "ek-DHzF8PdbP",
        "colab_type": "text"
      },
      "cell_type": "markdown",
      "source": [
        "**3. Train The Top Layer**"
      ]
    },
    {
      "metadata": {
        "id": "2rlCpdQcPbiV",
        "colab_type": "code",
        "colab": {}
      },
      "cell_type": "code",
      "source": [
        "epochs = 50\n",
        "batch_size = 32\n",
        "lr = 0.0001"
      ],
      "execution_count": 0,
      "outputs": []
    },
    {
      "metadata": {
        "id": "FfCMr5GKBBae",
        "colab_type": "code",
        "colab": {}
      },
      "cell_type": "code",
      "source": [
        "model.compile(SGD(lr = lr, momentum=0.9, nesterov=True), loss = 'categorical_crossentropy', metrics = ['accuracy'])"
      ],
      "execution_count": 0,
      "outputs": []
    },
    {
      "metadata": {
        "id": "y1yHPSHWBvFB",
        "colab_type": "code",
        "outputId": "6389397e-e534-4730-ea1f-f569f2f792e0",
        "colab": {
          "base_uri": "https://localhost:8080/",
          "height": 1805
        }
      },
      "cell_type": "code",
      "source": [
        "history = model.fit(x_train, \n",
        "                    y_train, \n",
        "                    epochs = epochs, \n",
        "                    batch_size = batch_size, \n",
        "                    verbose = 2,\n",
        "                    validation_data = (x_test, y_test))"
      ],
      "execution_count": 0,
      "outputs": [
        {
          "output_type": "stream",
          "text": [
            "WARNING:tensorflow:From /usr/local/lib/python3.6/dist-packages/tensorflow/python/ops/math_ops.py:3066: to_int32 (from tensorflow.python.ops.math_ops) is deprecated and will be removed in a future version.\n",
            "Instructions for updating:\n",
            "Use tf.cast instead.\n",
            "Train on 50000 samples, validate on 10000 samples\n",
            "Epoch 1/50\n",
            " - 36s - loss: 5.5023 - acc: 0.4079 - val_loss: 1.7491 - val_acc: 0.5315\n",
            "Epoch 2/50\n",
            " - 33s - loss: 1.8661 - acc: 0.4698 - val_loss: 1.3541 - val_acc: 0.5503\n",
            "Epoch 3/50\n",
            " - 33s - loss: 1.5221 - acc: 0.5034 - val_loss: 1.2699 - val_acc: 0.5660\n",
            "Epoch 4/50\n",
            " - 33s - loss: 1.4087 - acc: 0.5199 - val_loss: 1.2204 - val_acc: 0.5793\n",
            "Epoch 5/50\n",
            " - 33s - loss: 1.3418 - acc: 0.5397 - val_loss: 1.1900 - val_acc: 0.5845\n",
            "Epoch 6/50\n",
            " - 33s - loss: 1.3038 - acc: 0.5505 - val_loss: 1.1623 - val_acc: 0.5972\n",
            "Epoch 7/50\n",
            " - 33s - loss: 1.2605 - acc: 0.5624 - val_loss: 1.1464 - val_acc: 0.6025\n",
            "Epoch 8/50\n",
            " - 33s - loss: 1.2344 - acc: 0.5704 - val_loss: 1.1316 - val_acc: 0.6039\n",
            "Epoch 9/50\n",
            " - 33s - loss: 1.2106 - acc: 0.5779 - val_loss: 1.1197 - val_acc: 0.6132\n",
            "Epoch 10/50\n",
            " - 33s - loss: 1.1923 - acc: 0.5818 - val_loss: 1.1102 - val_acc: 0.6149\n",
            "Epoch 11/50\n",
            " - 33s - loss: 1.1719 - acc: 0.5860 - val_loss: 1.0990 - val_acc: 0.6160\n",
            "Epoch 12/50\n",
            " - 33s - loss: 1.1545 - acc: 0.5927 - val_loss: 1.0923 - val_acc: 0.6184\n",
            "Epoch 13/50\n",
            " - 33s - loss: 1.1404 - acc: 0.5984 - val_loss: 1.0851 - val_acc: 0.6216\n",
            "Epoch 14/50\n",
            " - 33s - loss: 1.1318 - acc: 0.6012 - val_loss: 1.0728 - val_acc: 0.6258\n",
            "Epoch 15/50\n",
            " - 33s - loss: 1.1259 - acc: 0.6018 - val_loss: 1.0709 - val_acc: 0.6293\n",
            "Epoch 16/50\n",
            " - 33s - loss: 1.1095 - acc: 0.6113 - val_loss: 1.0691 - val_acc: 0.6325\n",
            "Epoch 17/50\n",
            " - 33s - loss: 1.0997 - acc: 0.6111 - val_loss: 1.0658 - val_acc: 0.6303\n",
            "Epoch 18/50\n",
            " - 33s - loss: 1.0909 - acc: 0.6169 - val_loss: 1.0588 - val_acc: 0.6310\n",
            "Epoch 19/50\n",
            " - 33s - loss: 1.0794 - acc: 0.6184 - val_loss: 1.0527 - val_acc: 0.6359\n",
            "Epoch 20/50\n",
            " - 33s - loss: 1.0751 - acc: 0.6203 - val_loss: 1.0511 - val_acc: 0.6362\n",
            "Epoch 21/50\n",
            " - 33s - loss: 1.0639 - acc: 0.6250 - val_loss: 1.0460 - val_acc: 0.6391\n",
            "Epoch 22/50\n",
            " - 33s - loss: 1.0560 - acc: 0.6256 - val_loss: 1.0488 - val_acc: 0.6400\n",
            "Epoch 23/50\n",
            " - 33s - loss: 1.0511 - acc: 0.6283 - val_loss: 1.0402 - val_acc: 0.6408\n",
            "Epoch 24/50\n",
            " - 33s - loss: 1.0404 - acc: 0.6339 - val_loss: 1.0373 - val_acc: 0.6380\n",
            "Epoch 25/50\n",
            " - 33s - loss: 1.0359 - acc: 0.6355 - val_loss: 1.0345 - val_acc: 0.6422\n",
            "Epoch 26/50\n",
            " - 33s - loss: 1.0275 - acc: 0.6351 - val_loss: 1.0341 - val_acc: 0.6406\n",
            "Epoch 27/50\n",
            " - 33s - loss: 1.0246 - acc: 0.6368 - val_loss: 1.0293 - val_acc: 0.6433\n",
            "Epoch 28/50\n",
            " - 33s - loss: 1.0146 - acc: 0.6417 - val_loss: 1.0273 - val_acc: 0.6445\n",
            "Epoch 29/50\n",
            " - 33s - loss: 1.0036 - acc: 0.6454 - val_loss: 1.0293 - val_acc: 0.6440\n",
            "Epoch 30/50\n",
            " - 33s - loss: 1.0024 - acc: 0.6437 - val_loss: 1.0299 - val_acc: 0.6471\n",
            "Epoch 31/50\n",
            " - 33s - loss: 1.0001 - acc: 0.6452 - val_loss: 1.0223 - val_acc: 0.6444\n",
            "Epoch 32/50\n",
            " - 34s - loss: 0.9933 - acc: 0.6499 - val_loss: 1.0228 - val_acc: 0.6481\n",
            "Epoch 33/50\n",
            " - 34s - loss: 0.9856 - acc: 0.6510 - val_loss: 1.0201 - val_acc: 0.6485\n",
            "Epoch 34/50\n",
            " - 34s - loss: 0.9841 - acc: 0.6519 - val_loss: 1.0193 - val_acc: 0.6490\n",
            "Epoch 35/50\n",
            " - 34s - loss: 0.9739 - acc: 0.6535 - val_loss: 1.0204 - val_acc: 0.6455\n",
            "Epoch 36/50\n",
            " - 34s - loss: 0.9734 - acc: 0.6550 - val_loss: 1.0168 - val_acc: 0.6506\n",
            "Epoch 37/50\n",
            " - 34s - loss: 0.9660 - acc: 0.6594 - val_loss: 1.0132 - val_acc: 0.6555\n",
            "Epoch 38/50\n",
            " - 34s - loss: 0.9630 - acc: 0.6586 - val_loss: 1.0128 - val_acc: 0.6498\n",
            "Epoch 39/50\n",
            " - 34s - loss: 0.9603 - acc: 0.6597 - val_loss: 1.0121 - val_acc: 0.6546\n",
            "Epoch 40/50\n",
            " - 34s - loss: 0.9554 - acc: 0.6595 - val_loss: 1.0102 - val_acc: 0.6559\n",
            "Epoch 41/50\n",
            " - 34s - loss: 0.9480 - acc: 0.6630 - val_loss: 1.0114 - val_acc: 0.6581\n",
            "Epoch 42/50\n",
            " - 33s - loss: 0.9429 - acc: 0.6645 - val_loss: 1.0112 - val_acc: 0.6529\n",
            "Epoch 43/50\n",
            " - 33s - loss: 0.9393 - acc: 0.6669 - val_loss: 1.0081 - val_acc: 0.6561\n",
            "Epoch 44/50\n",
            " - 33s - loss: 0.9344 - acc: 0.6661 - val_loss: 1.0083 - val_acc: 0.6549\n",
            "Epoch 45/50\n",
            " - 33s - loss: 0.9309 - acc: 0.6665 - val_loss: 1.0110 - val_acc: 0.6549\n",
            "Epoch 46/50\n",
            " - 34s - loss: 0.9256 - acc: 0.6723 - val_loss: 1.0113 - val_acc: 0.6528\n",
            "Epoch 47/50\n",
            " - 33s - loss: 0.9247 - acc: 0.6711 - val_loss: 1.0077 - val_acc: 0.6556\n",
            "Epoch 48/50\n",
            " - 33s - loss: 0.9163 - acc: 0.6747 - val_loss: 1.0054 - val_acc: 0.6570\n",
            "Epoch 49/50\n",
            " - 33s - loss: 0.9176 - acc: 0.6729 - val_loss: 1.0072 - val_acc: 0.6574\n",
            "Epoch 50/50\n",
            " - 33s - loss: 0.9089 - acc: 0.6755 - val_loss: 1.0066 - val_acc: 0.6559\n"
          ],
          "name": "stdout"
        }
      ]
    }
  ]
}