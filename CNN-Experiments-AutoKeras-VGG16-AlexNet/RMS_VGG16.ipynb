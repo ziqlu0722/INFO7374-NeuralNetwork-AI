{
  "nbformat": 4,
  "nbformat_minor": 0,
  "metadata": {
    "colab": {
      "name": "RMS_VGG16",
      "version": "0.3.2",
      "provenance": [],
      "collapsed_sections": [],
      "include_colab_link": true
    },
    "kernelspec": {
      "name": "python3",
      "display_name": "Python 3"
    },
    "accelerator": "GPU"
  },
  "cells": [
    {
      "cell_type": "markdown",
      "metadata": {
        "id": "view-in-github",
        "colab_type": "text"
      },
      "source": [
        "<a href=\"https://colab.research.google.com/github/ziqlu0722/Info7374-GitHub-repo/blob/master/Assignment_2/RMS_VGG16.ipynb\" target=\"_parent\"><img src=\"https://colab.research.google.com/assets/colab-badge.svg\" alt=\"Open In Colab\"/></a>"
      ]
    },
    {
      "metadata": {
        "id": "bXr2cg3RbuSC",
        "colab_type": "code",
        "outputId": "1f3f8a0a-2f2f-4127-8bc5-96c76b4b5669",
        "colab": {
          "resources": {
            "http://localhost:8080/nbextensions/google.colab/files.js": {
              "data": "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",
              "ok": true,
              "headers": [
                [
                  "content-type",
                  "application/javascript"
                ]
              ],
              "status": 200,
              "status_text": ""
            }
          },
          "base_uri": "https://localhost:8080/",
          "height": 88
        }
      },
      "cell_type": "code",
      "source": [
        "from google.colab import files\n",
        "\n",
        "uploaded = files.upload()\n",
        "\n",
        "for fn in uploaded.keys():\n",
        "  print('User uploaded file \"{name}\" with length {length} bytes'.format(\n",
        "      name=fn, length=len(uploaded[fn])))\n",
        "  \n",
        "  "
      ],
      "execution_count": 0,
      "outputs": [
        {
          "output_type": "display_data",
          "data": {
            "text/html": [
              "\n",
              "     <input type=\"file\" id=\"files-f7b5e048-8b8c-4d36-b7ac-cb713c3ce4e8\" name=\"files[]\" multiple disabled />\n",
              "     <output id=\"result-f7b5e048-8b8c-4d36-b7ac-cb713c3ce4e8\">\n",
              "      Upload widget is only available when the cell has been executed in the\n",
              "      current browser session. Please rerun this cell to enable.\n",
              "      </output>\n",
              "      <script src=\"/nbextensions/google.colab/files.js\"></script> "
            ],
            "text/plain": [
              "<IPython.core.display.HTML object>"
            ]
          },
          "metadata": {
            "tags": []
          }
        },
        {
          "output_type": "stream",
          "text": [
            "Saving tiny-imagenet-200.zip to tiny-imagenet-200.zip\n",
            "User uploaded file \"tiny-imagenet-200.zip\" with length 248100043 bytes\n"
          ],
          "name": "stdout"
        }
      ]
    },
    {
      "metadata": {
        "id": "L5odA2_1epPz",
        "colab_type": "code",
        "colab": {}
      },
      "cell_type": "code",
      "source": [
        "import os\n",
        "import pickle\n",
        "import scipy.misc\n",
        "import numpy as np\n",
        "from scipy.misc import imread"
      ],
      "execution_count": 0,
      "outputs": []
    },
    {
      "metadata": {
        "id": "5yQ-Ni7NepZy",
        "colab_type": "code",
        "colab": {}
      },
      "cell_type": "code",
      "source": [
        "import zipfile\n",
        "import io\n",
        "data = zipfile.ZipFile(io.BytesIO(uploaded['tiny-imagenet-200.zip']), 'r')\n",
        "data.extractall(\"tiny-imagenet-200\")"
      ],
      "execution_count": 0,
      "outputs": []
    },
    {
      "metadata": {
        "id": "M_44H8vEepew",
        "colab_type": "code",
        "colab": {}
      },
      "cell_type": "code",
      "source": [
        "def load_tiny_imagenet(path, wnids_path, resize='false', num_classes=200, dtype=np.float32):\n",
        "  \"\"\"\n",
        "  Load TinyImageNet. Each of TinyImageNet-100-A, TinyImageNet-100-B, and\n",
        "  TinyImageNet-200 have the same directory structure, so this can be used\n",
        "  to load any of them.\n",
        "  Inputs:\n",
        "  - path: String giving path to the directory to load.\n",
        "  - dtype: numpy datatype used to load the data.\n",
        "  Returns: A tuple of\n",
        "  - class_names: A list where class_names[i] is a list of strings giving the\n",
        "    WordNet names for class i in the loaded dataset.\n",
        "  - X_train: (N_tr, 3, 64, 64) array of training images\n",
        "  - y_train: (N_tr,) array of training labels\n",
        "  - X_val: (N_val, 3, 64, 64) array of validation images\n",
        "  - y_val: (N_val,) array of validation labels\n",
        "  - X_test: (N_test, 3, 64, 64) array of testing images.\n",
        "  - y_test: (N_test,) array of test labels; if test labels are not available\n",
        "    (such as in student code) then y_test will be None.\n",
        "  \"\"\"\n",
        "  # First load wnids\n",
        "  wnids_file = os.path.join(wnids_path, 'wnids.txt')\n",
        "  with open(os.path.join(path, wnids_file), 'r') as f:\n",
        "    wnids = [x.strip() for x in f]\n",
        "\n",
        "  # Map wnids to integer labels\n",
        "  wnid_to_label = {wnid: i for i, wnid in enumerate(wnids)}\n",
        "\n",
        "  # Use words.txt to get names for each class\n",
        "  words_file = os.path.join(wnids_path, 'words.txt')\n",
        "  with open(os.path.join(path, words_file), 'r') as f:\n",
        "    wnid_to_words = dict(line.split('\\t') for line in f)\n",
        "    for wnid, words in wnid_to_words.items():\n",
        "      wnid_to_words[wnid] = [w.strip() for w in words.split(',')]\n",
        "  class_names = [wnid_to_words[wnid] for wnid in wnids]\n",
        "\n",
        "  # Next load training data.\n",
        "  X_train = []\n",
        "  y_train = []\n",
        "  for i, wnid in enumerate(wnids):\n",
        "    if (i + 1) % 20 == 0:\n",
        "      print('loading training data for synset %d / %d' % (i + 1, len(wnids)))\n",
        "    # To figure out the filenames we need to open the boxes file\n",
        "    boxes_file = os.path.join(path, 'train', wnid, '%s_boxes.txt' % wnid)\n",
        "    with open(boxes_file, 'r') as f:\n",
        "      filenames = [x.split('\\t')[0] for x in f]\n",
        "    num_images = len(filenames)\n",
        "    \n",
        "    if resize.lower() == 'true':\n",
        "      X_train_block = np.zeros((num_images, 3, 32, 32), dtype=dtype)\n",
        "    else:\n",
        "      X_train_block = np.zeros((num_images, 3, 64, 64), dtype=dtype)\n",
        "    \n",
        "    y_train_block = wnid_to_label[wnid] * np.ones(num_images, dtype=np.int64)\n",
        "    for j, img_file in enumerate(filenames):\n",
        "      img_file = os.path.join(path, 'train', wnid, 'images', img_file)\n",
        "      img = imread(img_file)\n",
        "      \n",
        "      if resize.lower() == 'true':\n",
        "        img = scipy.misc.imresize(img, (32, 32, 3))\n",
        "      if img.ndim == 2:\n",
        "        ## grayscale file\n",
        "        if resize.lower() == 'true':\n",
        "          img.shape = (32, 32, 1)\n",
        "        else:\n",
        "          img.shape = (64, 64, 1)\n",
        "      X_train_block[j] = img.transpose(2, 0, 1)\n",
        "    X_train.append(X_train_block)\n",
        "    y_train.append(y_train_block)\n",
        "      \n",
        "  # We need to concatenate all training data\n",
        "  X_train = np.concatenate(X_train, axis=0)\n",
        "  y_train = np.concatenate(y_train, axis=0)\n",
        "  \n",
        "  # Next load validation data\n",
        "  with open(os.path.join(path, 'val', 'val_annotations.txt'), 'r') as f:\n",
        "    img_files = []\n",
        "    val_wnids = []\n",
        "    for line in f:\n",
        "      # Select only validation images in chosen wnids set\n",
        "      if line.split()[1] in wnids:\n",
        "        img_file, wnid = line.split('\\t')[:2]\n",
        "        img_files.append(img_file)\n",
        "        val_wnids.append(wnid)\n",
        "    num_val = len(img_files)\n",
        "    y_val = np.array([wnid_to_label[wnid] for wnid in val_wnids])\n",
        "    \n",
        "    if resize.lower() == 'true':\n",
        "      X_val = np.zeros((num_val, 3, 32, 32), dtype=dtype)\n",
        "    else:\n",
        "      X_val = np.zeros((num_val, 3, 64, 64), dtype=dtype)\n",
        " \n",
        "    for i, img_file in enumerate(img_files):\n",
        "      img_file = os.path.join(path, 'val', 'images', img_file)\n",
        "      img = imread(img_file)\n",
        "      if resize.lower() == 'true':\n",
        "        img = scipy.misc.imresize(img, (32, 32, 3))\n",
        "      if img.ndim == 2:\n",
        "        if resize.lower() == 'true':\n",
        "          img.shape = (32, 32, 1)\n",
        "        else:\n",
        "          img.shape = (64, 64, 1)\n",
        "\n",
        "      X_val[i] = img.transpose(2, 0, 1)\n",
        "\n",
        "  \"\"\"\n",
        "  # Next load test images\n",
        "  # Students won't have test labels, so we need to iterate over files in the\n",
        "  # images directory.\n",
        "  img_files = os.listdir(os.path.join(path, 'test', 'images'))\n",
        "  X_test = np.zeros((len(img_files), 3, 64, 64), dtype=dtype)\n",
        "  for i, img_file in enumerate(img_files):\n",
        "    img_file = os.path.join(path, 'test', 'images', img_file)\n",
        "    img = imread(img_file)\n",
        "    if img.ndim == 2:\n",
        "      img.shape = (64, 64, 1)\n",
        "    X_test[i] = img.transpose(2, 0, 1)\n",
        "  y_test = None\n",
        "  y_test_file = os.path.join(path, 'test', 'test_annotations.txt')\n",
        "  if os.path.isfile(y_test_file):\n",
        "    with open(y_test_file, 'r') as f:\n",
        "      img_file_to_wnid = {}\n",
        "      for line in f:\n",
        "        line = line.split('\\t')\n",
        "        img_file_to_wnid[line[0]] = line[1]\n",
        "    y_test = [wnid_to_label[img_file_to_wnid[img_file]] for img_file in img_files]\n",
        "    y_test = np.array(y_test)\n",
        "  \"\"\"\n",
        "  \n",
        "  # Omit x_test and y_test because they're unlabeled\n",
        "  #return class_names, X_train, y_train, X_val, y_val, X_test, y_test\n",
        "  return class_names, X_train, y_train, X_val, y_val"
      ],
      "execution_count": 0,
      "outputs": []
    },
    {
      "metadata": {
        "id": "2uLlSs5wepi_",
        "colab_type": "code",
        "outputId": "a4f9bd0f-7839-4967-c05e-e617ef2a4518",
        "colab": {
          "base_uri": "https://localhost:8080/",
          "height": 391
        }
      },
      "cell_type": "code",
      "source": [
        "class_names,X_train, y_train,X_val,y_val = load_tiny_imagenet('/content/tiny-imagenet-200/tiny-imagenet-200',\"\",resize='true')"
      ],
      "execution_count": 0,
      "outputs": [
        {
          "output_type": "stream",
          "text": [
            "/usr/local/lib/python3.6/dist-packages/ipykernel_launcher.py:56: DeprecationWarning: `imread` is deprecated!\n",
            "`imread` is deprecated in SciPy 1.0.0, and will be removed in 1.2.0.\n",
            "Use ``imageio.imread`` instead.\n",
            "/usr/local/lib/python3.6/dist-packages/ipykernel_launcher.py:59: DeprecationWarning: `imresize` is deprecated!\n",
            "`imresize` is deprecated in SciPy 1.0.0, and will be removed in 1.2.0.\n",
            "Use ``skimage.transform.resize`` instead.\n"
          ],
          "name": "stderr"
        },
        {
          "output_type": "stream",
          "text": [
            "loading training data for synset 20 / 200\n",
            "loading training data for synset 40 / 200\n",
            "loading training data for synset 60 / 200\n",
            "loading training data for synset 80 / 200\n",
            "loading training data for synset 100 / 200\n",
            "loading training data for synset 120 / 200\n",
            "loading training data for synset 140 / 200\n",
            "loading training data for synset 160 / 200\n",
            "loading training data for synset 180 / 200\n",
            "loading training data for synset 200 / 200\n"
          ],
          "name": "stdout"
        },
        {
          "output_type": "stream",
          "text": [
            "/usr/local/lib/python3.6/dist-packages/ipykernel_launcher.py:94: DeprecationWarning: `imread` is deprecated!\n",
            "`imread` is deprecated in SciPy 1.0.0, and will be removed in 1.2.0.\n",
            "Use ``imageio.imread`` instead.\n",
            "/usr/local/lib/python3.6/dist-packages/ipykernel_launcher.py:96: DeprecationWarning: `imresize` is deprecated!\n",
            "`imresize` is deprecated in SciPy 1.0.0, and will be removed in 1.2.0.\n",
            "Use ``skimage.transform.resize`` instead.\n"
          ],
          "name": "stderr"
        }
      ]
    },
    {
      "metadata": {
        "id": "-MCkkeYBepm1",
        "colab_type": "code",
        "outputId": "d3ea7113-190b-4a70-dc9b-7741e84b090f",
        "colab": {
          "base_uri": "https://localhost:8080/",
          "height": 918
        }
      },
      "cell_type": "code",
      "source": [
        "from keras.models import Model\n",
        "from keras.layers import Flatten, Dense\n",
        "\n",
        "#import register_converters as _register_converters\n",
        "from keras.preprocessing import image\n",
        "\n",
        "from keras.applications.vgg16 import VGG16\n",
        "vgg_model =VGG16(weights='imagenet', input_tensor=None, input_shape=(32,32,3),include_top=False) \n",
        "\n",
        "    \n",
        "x = Flatten()(vgg_model.output)\n",
        "x = Dense(4096, activation='relu')(x)\n",
        "x = Dense(4096, activation='relu')(x)\n",
        "\n",
        "x = Dense(200, activation = 'softmax')(x)\n",
        "\n",
        "\n",
        "model = Model(inputs = vgg_model.input, outputs = x)\n",
        "\n",
        "model.summary()"
      ],
      "execution_count": 0,
      "outputs": [
        {
          "output_type": "stream",
          "text": [
            "_________________________________________________________________\n",
            "Layer (type)                 Output Shape              Param #   \n",
            "=================================================================\n",
            "input_7 (InputLayer)         (None, 32, 32, 3)         0         \n",
            "_________________________________________________________________\n",
            "block1_conv1 (Conv2D)        (None, 32, 32, 64)        1792      \n",
            "_________________________________________________________________\n",
            "block1_conv2 (Conv2D)        (None, 32, 32, 64)        36928     \n",
            "_________________________________________________________________\n",
            "block1_pool (MaxPooling2D)   (None, 16, 16, 64)        0         \n",
            "_________________________________________________________________\n",
            "block2_conv1 (Conv2D)        (None, 16, 16, 128)       73856     \n",
            "_________________________________________________________________\n",
            "block2_conv2 (Conv2D)        (None, 16, 16, 128)       147584    \n",
            "_________________________________________________________________\n",
            "block2_pool (MaxPooling2D)   (None, 8, 8, 128)         0         \n",
            "_________________________________________________________________\n",
            "block3_conv1 (Conv2D)        (None, 8, 8, 256)         295168    \n",
            "_________________________________________________________________\n",
            "block3_conv2 (Conv2D)        (None, 8, 8, 256)         590080    \n",
            "_________________________________________________________________\n",
            "block3_conv3 (Conv2D)        (None, 8, 8, 256)         590080    \n",
            "_________________________________________________________________\n",
            "block3_pool (MaxPooling2D)   (None, 4, 4, 256)         0         \n",
            "_________________________________________________________________\n",
            "block4_conv1 (Conv2D)        (None, 4, 4, 512)         1180160   \n",
            "_________________________________________________________________\n",
            "block4_conv2 (Conv2D)        (None, 4, 4, 512)         2359808   \n",
            "_________________________________________________________________\n",
            "block4_conv3 (Conv2D)        (None, 4, 4, 512)         2359808   \n",
            "_________________________________________________________________\n",
            "block4_pool (MaxPooling2D)   (None, 2, 2, 512)         0         \n",
            "_________________________________________________________________\n",
            "block5_conv1 (Conv2D)        (None, 2, 2, 512)         2359808   \n",
            "_________________________________________________________________\n",
            "block5_conv2 (Conv2D)        (None, 2, 2, 512)         2359808   \n",
            "_________________________________________________________________\n",
            "block5_conv3 (Conv2D)        (None, 2, 2, 512)         2359808   \n",
            "_________________________________________________________________\n",
            "block5_pool (MaxPooling2D)   (None, 1, 1, 512)         0         \n",
            "_________________________________________________________________\n",
            "flatten_7 (Flatten)          (None, 512)               0         \n",
            "_________________________________________________________________\n",
            "dense_10 (Dense)             (None, 4096)              2101248   \n",
            "_________________________________________________________________\n",
            "dense_11 (Dense)             (None, 4096)              16781312  \n",
            "_________________________________________________________________\n",
            "dense_12 (Dense)             (None, 200)               819400    \n",
            "=================================================================\n",
            "Total params: 34,416,648\n",
            "Trainable params: 34,416,648\n",
            "Non-trainable params: 0\n",
            "_________________________________________________________________\n"
          ],
          "name": "stdout"
        }
      ]
    },
    {
      "metadata": {
        "id": "Monq7P1AepqS",
        "colab_type": "code",
        "colab": {}
      },
      "cell_type": "code",
      "source": [
        "import keras\n",
        "\n",
        "x_train = X_train.astype('float32')\n",
        "\n",
        "\n",
        "\n",
        "x_test = X_val.astype('float32')\n",
        "\n",
        "\n"
      ],
      "execution_count": 0,
      "outputs": []
    },
    {
      "metadata": {
        "id": "_xBpWZCKepty",
        "colab_type": "code",
        "colab": {}
      },
      "cell_type": "code",
      "source": [
        "\n",
        "x_train /= 255\n",
        "\n",
        "\n",
        "x_test /= 255"
      ],
      "execution_count": 0,
      "outputs": []
    },
    {
      "metadata": {
        "id": "lywiniRNfKw0",
        "colab_type": "code",
        "colab": {}
      },
      "cell_type": "code",
      "source": [
        "\n",
        "y_train = keras.utils.to_categorical(y_train, len(class_names))\n",
        "\n",
        "\n",
        "\n",
        "y_val = keras.utils.to_categorical(y_val, len(class_names))"
      ],
      "execution_count": 0,
      "outputs": []
    },
    {
      "metadata": {
        "id": "vDj5wK5lfMzO",
        "colab_type": "code",
        "outputId": "6bd82036-11eb-4af7-bc33-3adcfc26a99e",
        "colab": {
          "base_uri": "https://localhost:8080/",
          "height": 374
        }
      },
      "cell_type": "code",
      "source": [
        "model.compile(loss='categorical_crossentropy',\n",
        "              optimizer=keras.optimizers.RMSprop(lr=0.0001, rho=0.9, epsilon=None, decay=0.0),\n",
        "              metrics=['accuracy'])\n",
        "\n",
        "\n",
        "\n",
        "history = model.fit(np.array(X_train.transpose(0,3,2,1)), (y_train),\n",
        "                    epochs=10,\n",
        "                    batch_size=256,\n",
        "                    verbose=1,\n",
        "                    validation_data=(np.array(X_val.transpose(0,3,2,1)),(y_val)))"
      ],
      "execution_count": 0,
      "outputs": [
        {
          "output_type": "stream",
          "text": [
            "Train on 100000 samples, validate on 10000 samples\n",
            "Epoch 1/10\n",
            "100000/100000 [==============================] - 101s 1ms/step - loss: 2.5766 - acc: 0.3825 - val_loss: 3.1069 - val_acc: 0.3062\n",
            "Epoch 2/10\n",
            "100000/100000 [==============================] - 98s 979us/step - loss: 2.2399 - acc: 0.4472 - val_loss: 3.0204 - val_acc: 0.3214\n",
            "Epoch 3/10\n",
            "100000/100000 [==============================] - 98s 979us/step - loss: 1.9378 - acc: 0.5089 - val_loss: 3.0167 - val_acc: 0.3444\n",
            "Epoch 4/10\n",
            "100000/100000 [==============================] - 98s 979us/step - loss: 1.6401 - acc: 0.5730 - val_loss: 3.2894 - val_acc: 0.3410\n",
            "Epoch 5/10\n",
            "100000/100000 [==============================] - 98s 980us/step - loss: 1.3575 - acc: 0.6369 - val_loss: 3.5045 - val_acc: 0.3424\n",
            "Epoch 6/10\n",
            "100000/100000 [==============================] - 98s 979us/step - loss: 1.0982 - acc: 0.6985 - val_loss: 3.7182 - val_acc: 0.3350\n",
            "Epoch 7/10\n",
            "100000/100000 [==============================] - 98s 978us/step - loss: 0.8636 - acc: 0.7575 - val_loss: 3.9855 - val_acc: 0.3326\n",
            "Epoch 8/10\n",
            "100000/100000 [==============================] - 98s 977us/step - loss: 0.6829 - acc: 0.8024 - val_loss: 4.1847 - val_acc: 0.3301\n",
            "Epoch 9/10\n",
            "100000/100000 [==============================] - 98s 979us/step - loss: 0.5422 - acc: 0.8423 - val_loss: 4.8177 - val_acc: 0.3204\n",
            "Epoch 10/10\n",
            "100000/100000 [==============================] - 98s 977us/step - loss: 0.4480 - acc: 0.8681 - val_loss: 4.9503 - val_acc: 0.3300\n"
          ],
          "name": "stdout"
        }
      ]
    },
    {
      "metadata": {
        "id": "ZoNeQY580Y9t",
        "colab_type": "code",
        "outputId": "fc3111bd-af7d-403e-d6dc-d7d87abac6f6",
        "colab": {
          "base_uri": "https://localhost:8080/",
          "height": 427
        }
      },
      "cell_type": "code",
      "source": [
        "score = model.evaluate(np.array(X_val.transpose(0,3,2,1)),np.array(y_val), verbose=0)\n",
        "                       \n",
        "print('Test loss:', score[0])\n",
        "print('Test accuracy:', score[1])\n",
        "\n",
        "\n",
        "import matplotlib.pyplot as plt\n",
        "import numpy\n",
        "\n",
        "print(history.history.keys())\n",
        "#summarize history for accuracy\n",
        "plt.plot(history.history['acc'])\n",
        "plt.plot(history.history['val_acc']) \n",
        "plt.title('model accuracy')\n",
        "plt.ylabel('accuracy')\n",
        "plt.xlabel('epoch')\n",
        "plt.legend(['train', 'test'], loc='upper left')\n",
        "plt.show()\n"
      ],
      "execution_count": 0,
      "outputs": [
        {
          "output_type": "stream",
          "text": [
            "Test loss: 4.950302864837647\n",
            "Test accuracy: 0.33\n",
            "dict_keys(['val_loss', 'val_acc', 'loss', 'acc'])\n"
          ],
          "name": "stdout"
        },
        {
          "output_type": "display_data",
          "data": {
            "image/png": "[encoded data removed]",
            "text/plain": [
              "<Figure size 576x396 with 1 Axes>"
            ]
          },
          "metadata": {
            "tags": []
          }
        }
      ]
    },
    {
      "metadata": {
        "id": "09gwYWqr2r3H",
        "colab_type": "code",
        "colab": {}
      },
      "cell_type": "code",
      "source": [
        "from keras.models import Model\n",
        "from keras.layers import Flatten, Dense, Dropout\n",
        "#from deepy.layers import Dense, Softmax, Dropout\n",
        "\n",
        "#import register_converters as _register_converters\n",
        "from keras.preprocessing import image\n",
        "\n",
        "from keras.applications.vgg16 import VGG16\n",
        "vgg_model =VGG16(weights='imagenet', input_tensor=None, input_shape=(32,32,3),include_top=False) \n",
        "\n",
        "    \n",
        "x = Flatten()(vgg_model.output)\n",
        "x = Dense(4096, activation='relu')(x)\n",
        "x = Dropout(0.5)(x)\n",
        "\n",
        "x = Dense(4096, activation='relu')(x)\n",
        "x = Dropout(0.5)(x)\n",
        "\n",
        "x = Dense(200, activation = 'softmax')(x)\n",
        "\n",
        "\n",
        "model = Model(inputs = vgg_model.input, outputs = x)\n",
        "\n",
        "model.summary()"
      ],
      "execution_count": 0,
      "outputs": []
    },
    {
      "metadata": {
        "id": "z2XGCa1sz85f",
        "colab_type": "code",
        "outputId": "02e99467-0f10-4712-f2dd-881f6333eaf0",
        "colab": {
          "base_uri": "https://localhost:8080/",
          "height": 374
        }
      },
      "cell_type": "code",
      "source": [
        "model.compile(loss='categorical_crossentropy',\n",
        "              optimizer=keras.optimizers.RMSprop(lr=0.0001, rho=0.9, epsilon=None, decay=0.0),\n",
        "              metrics=['accuracy'])\n",
        "\n",
        "\n",
        "\n",
        "history = model.fit(np.array(X_train.transpose(0,3,2,1)), (y_train),\n",
        "                    epochs=10,\n",
        "                    batch_size=256,\n",
        "                    verbose=1,\n",
        "                    validation_data=(np.array(X_val.transpose(0,3,2,1)),(y_val)))"
      ],
      "execution_count": 0,
      "outputs": [
        {
          "output_type": "stream",
          "text": [
            "Train on 100000 samples, validate on 10000 samples\n",
            "Epoch 1/10\n",
            "100000/100000 [==============================] - 101s 1ms/step - loss: 5.3121 - acc: 0.0069 - val_loss: 5.2237 - val_acc: 0.0125\n",
            "Epoch 2/10\n",
            "100000/100000 [==============================] - 98s 979us/step - loss: 4.6494 - acc: 0.0507 - val_loss: 4.2226 - val_acc: 0.0975\n",
            "Epoch 3/10\n",
            "100000/100000 [==============================] - 98s 980us/step - loss: 3.9462 - acc: 0.1319 - val_loss: 3.6665 - val_acc: 0.1866\n",
            "Epoch 4/10\n",
            "100000/100000 [==============================] - 98s 981us/step - loss: 3.4886 - acc: 0.2086 - val_loss: 3.4170 - val_acc: 0.2247\n",
            "Epoch 5/10\n",
            "100000/100000 [==============================] - 98s 982us/step - loss: 3.1333 - acc: 0.2739 - val_loss: 3.2824 - val_acc: 0.2587\n",
            "Epoch 6/10\n",
            "100000/100000 [==============================] - 99s 989us/step - loss: 2.8197 - acc: 0.3329 - val_loss: 3.1214 - val_acc: 0.2955\n",
            "Epoch 7/10\n",
            "100000/100000 [==============================] - 98s 982us/step - loss: 2.5254 - acc: 0.3898 - val_loss: 3.0869 - val_acc: 0.3101\n",
            "Epoch 8/10\n",
            "100000/100000 [==============================] - 98s 982us/step - loss: 2.2183 - acc: 0.4483 - val_loss: 3.1269 - val_acc: 0.3261\n",
            "Epoch 9/10\n",
            "100000/100000 [==============================] - 98s 978us/step - loss: 1.9252 - acc: 0.5094 - val_loss: 3.2596 - val_acc: 0.3270\n",
            "Epoch 10/10\n",
            "100000/100000 [==============================] - 98s 979us/step - loss: 1.6243 - acc: 0.5743 - val_loss: 3.6801 - val_acc: 0.2852\n"
          ],
          "name": "stdout"
        }
      ]
    },
    {
      "metadata": {
        "id": "XPS22avE6CZ8",
        "colab_type": "code",
        "outputId": "0d88e81a-d73a-4040-9eca-271ca09a3b74",
        "colab": {
          "base_uri": "https://localhost:8080/",
          "height": 986
        }
      },
      "cell_type": "code",
      "source": [
        "from keras.models import Model\n",
        "from keras.layers import *\n",
        "#from deepy.layers import Dense, Softmax, Dropout\n",
        "\n",
        "#import register_converters as _register_converters\n",
        "from keras.preprocessing import image\n",
        "\n",
        "from keras.applications.vgg16 import VGG16\n",
        "vgg_model =VGG16(weights='imagenet', input_tensor=None, input_shape=(32,32,3),include_top=False) \n",
        "\n",
        "    \n",
        "x = Flatten()(vgg_model.output)\n",
        "x = Dense(4096, activation='relu')(x)\n",
        "x = Dropout(0.5)(x)\n",
        "\n",
        "x = Dense(4096, activation='relu')(x)\n",
        "x = Dropout(0.8)(x)\n",
        "\n",
        "x = Dense(200, activation = 'softmax')(x)\n",
        "\n",
        "\n",
        "model = Model(inputs = vgg_model.input, outputs = x)\n",
        "\n",
        "model.summary()"
      ],
      "execution_count": 0,
      "outputs": [
        {
          "output_type": "stream",
          "text": [
            "_________________________________________________________________\n",
            "Layer (type)                 Output Shape              Param #   \n",
            "=================================================================\n",
            "input_17 (InputLayer)        (None, 32, 32, 3)         0         \n",
            "_________________________________________________________________\n",
            "block1_conv1 (Conv2D)        (None, 32, 32, 64)        1792      \n",
            "_________________________________________________________________\n",
            "block1_conv2 (Conv2D)        (None, 32, 32, 64)        36928     \n",
            "_________________________________________________________________\n",
            "block1_pool (MaxPooling2D)   (None, 16, 16, 64)        0         \n",
            "_________________________________________________________________\n",
            "block2_conv1 (Conv2D)        (None, 16, 16, 128)       73856     \n",
            "_________________________________________________________________\n",
            "block2_conv2 (Conv2D)        (None, 16, 16, 128)       147584    \n",
            "_________________________________________________________________\n",
            "block2_pool (MaxPooling2D)   (None, 8, 8, 128)         0         \n",
            "_________________________________________________________________\n",
            "block3_conv1 (Conv2D)        (None, 8, 8, 256)         295168    \n",
            "_________________________________________________________________\n",
            "block3_conv2 (Conv2D)        (None, 8, 8, 256)         590080    \n",
            "_________________________________________________________________\n",
            "block3_conv3 (Conv2D)        (None, 8, 8, 256)         590080    \n",
            "_________________________________________________________________\n",
            "block3_pool (MaxPooling2D)   (None, 4, 4, 256)         0         \n",
            "_________________________________________________________________\n",
            "block4_conv1 (Conv2D)        (None, 4, 4, 512)         1180160   \n",
            "_________________________________________________________________\n",
            "block4_conv2 (Conv2D)        (None, 4, 4, 512)         2359808   \n",
            "_________________________________________________________________\n",
            "block4_conv3 (Conv2D)        (None, 4, 4, 512)         2359808   \n",
            "_________________________________________________________________\n",
            "block4_pool (MaxPooling2D)   (None, 2, 2, 512)         0         \n",
            "_________________________________________________________________\n",
            "block5_conv1 (Conv2D)        (None, 2, 2, 512)         2359808   \n",
            "_________________________________________________________________\n",
            "block5_conv2 (Conv2D)        (None, 2, 2, 512)         2359808   \n",
            "_________________________________________________________________\n",
            "block5_conv3 (Conv2D)        (None, 2, 2, 512)         2359808   \n",
            "_________________________________________________________________\n",
            "block5_pool (MaxPooling2D)   (None, 1, 1, 512)         0         \n",
            "_________________________________________________________________\n",
            "flatten_17 (Flatten)         (None, 512)               0         \n",
            "_________________________________________________________________\n",
            "dense_34 (Dense)             (None, 4096)              2101248   \n",
            "_________________________________________________________________\n",
            "dropout_12 (Dropout)         (None, 4096)              0         \n",
            "_________________________________________________________________\n",
            "dense_35 (Dense)             (None, 4096)              16781312  \n",
            "_________________________________________________________________\n",
            "dropout_13 (Dropout)         (None, 4096)              0         \n",
            "_________________________________________________________________\n",
            "dense_36 (Dense)             (None, 200)               819400    \n",
            "=================================================================\n",
            "Total params: 34,416,648\n",
            "Trainable params: 34,416,648\n",
            "Non-trainable params: 0\n",
            "_________________________________________________________________\n"
          ],
          "name": "stdout"
        }
      ]
    },
    {
      "metadata": {
        "id": "mIp8sx6763yQ",
        "colab_type": "code",
        "outputId": "7b1af47e-f202-4041-a783-6c31f320ffd2",
        "colab": {
          "base_uri": "https://localhost:8080/",
          "height": 374
        }
      },
      "cell_type": "code",
      "source": [
        "model.compile(loss='categorical_crossentropy',\n",
        "              optimizer=keras.optimizers.RMSprop(lr=0.0001, rho=0.9, epsilon=None, decay=0.0),\n",
        "              metrics=['accuracy'])\n",
        "\n",
        "\n",
        "\n",
        "history = model.fit(np.array(X_train.transpose(0,3,2,1)), (y_train),\n",
        "                    epochs=10,\n",
        "                    batch_size=256,\n",
        "                    verbose=1,\n",
        "                    validation_data=(np.array(X_val.transpose(0,3,2,1)),(y_val)))"
      ],
      "execution_count": 0,
      "outputs": [
        {
          "output_type": "stream",
          "text": [
            "Train on 100000 samples, validate on 10000 samples\n",
            "Epoch 1/10\n",
            "100000/100000 [==============================] - 101s 1ms/step - loss: 5.3101 - acc: 0.0084 - val_loss: 5.1304 - val_acc: 0.0213\n",
            "Epoch 2/10\n",
            "100000/100000 [==============================] - 97s 973us/step - loss: 5.0208 - acc: 0.0257 - val_loss: 4.7975 - val_acc: 0.0423\n",
            "Epoch 3/10\n",
            "100000/100000 [==============================] - 98s 977us/step - loss: 4.5350 - acc: 0.0622 - val_loss: 4.2518 - val_acc: 0.1017\n",
            "Epoch 4/10\n",
            "100000/100000 [==============================] - 98s 977us/step - loss: 4.0261 - acc: 0.1195 - val_loss: 3.8145 - val_acc: 0.1606\n",
            "Epoch 5/10\n",
            "100000/100000 [==============================] - 98s 979us/step - loss: 3.6389 - acc: 0.1812 - val_loss: 3.5394 - val_acc: 0.2085\n",
            "Epoch 6/10\n",
            "100000/100000 [==============================] - 98s 977us/step - loss: 3.3033 - acc: 0.2377 - val_loss: 3.3268 - val_acc: 0.2475\n",
            "Epoch 7/10\n",
            "100000/100000 [==============================] - 98s 978us/step - loss: 3.0097 - acc: 0.2944 - val_loss: 3.3564 - val_acc: 0.2555\n",
            "Epoch 8/10\n",
            "100000/100000 [==============================] - 98s 978us/step - loss: 2.7127 - acc: 0.3490 - val_loss: 3.2637 - val_acc: 0.2843\n",
            "Epoch 9/10\n",
            "100000/100000 [==============================] - 98s 978us/step - loss: 2.4266 - acc: 0.4053 - val_loss: 3.3356 - val_acc: 0.2995\n",
            "Epoch 10/10\n",
            "100000/100000 [==============================] - 98s 978us/step - loss: 2.1402 - acc: 0.4620 - val_loss: 3.3967 - val_acc: 0.2984\n"
          ],
          "name": "stdout"
        }
      ]
    },
    {
      "metadata": {
        "id": "XzS1VuctAbBw",
        "colab_type": "code",
        "outputId": "717d5cd1-9b97-4a2f-ef67-855038f94103",
        "colab": {
          "base_uri": "https://localhost:8080/",
          "height": 427
        }
      },
      "cell_type": "code",
      "source": [
        "score = model.evaluate(np.array(X_val.transpose(0,3,2,1)),np.array(y_val), verbose=0)\n",
        "                       \n",
        "print('Test loss:', score[0])\n",
        "print('Test accuracy:', score[1])\n",
        "\n",
        "\n",
        "import matplotlib.pyplot as plt\n",
        "import numpy\n",
        "\n",
        "print(history.history.keys())\n",
        "#summarize history for accuracy\n",
        "plt.plot(history.history['acc'])\n",
        "plt.plot(history.history['val_acc']) \n",
        "plt.title('model accuracy')\n",
        "plt.ylabel('accuracy')\n",
        "plt.xlabel('epoch')\n",
        "plt.legend(['train', 'test'], loc='upper left')\n",
        "plt.show()"
      ],
      "execution_count": 0,
      "outputs": [
        {
          "output_type": "stream",
          "text": [
            "Test loss: 3.3967316055297854\n",
            "Test accuracy: 0.2984\n",
            "dict_keys(['val_loss', 'val_acc', 'loss', 'acc'])\n"
          ],
          "name": "stdout"
        },
        {
          "output_type": "display_data",
          "data": {
            "image/png": "[encoded data removed]",
            "text/plain": [
              "<Figure size 576x396 with 1 Axes>"
            ]
          },
          "metadata": {
            "tags": []
          }
        }
      ]
    },
    {
      "metadata": {
        "id": "0XY4D4myAk-U",
        "colab_type": "code",
        "outputId": "efa5c734-ec90-4634-c5b8-9f36367a7b1e",
        "colab": {
          "base_uri": "https://localhost:8080/",
          "height": 1020
        }
      },
      "cell_type": "code",
      "source": [
        "from keras.models import Model\n",
        "from keras.layers import *\n",
        "#from deepy.layers import Dense, Softmax, Dropout\n",
        "\n",
        "#import register_converters as _register_converters\n",
        "from keras.preprocessing import image\n",
        "\n",
        "from keras.applications.vgg16 import VGG16\n",
        "vgg_model =VGG16(weights='imagenet', input_tensor=None, input_shape=(32,32,3),include_top=False) \n",
        "\n",
        "    \n",
        "x = Flatten()(vgg_model.output)\n",
        "x = Dense(4096, activation='relu')(x)\n",
        "x = BatchNormalization()(x)\n",
        "x = Dropout(0.5)(x)\n",
        "\n",
        "\n",
        "x = Dense(4096, activation='relu')(x)\n",
        "x = Dropout(0.8)(x)\n",
        "\n",
        "\n",
        "x = Dense(200, activation = 'softmax')(x)\n",
        "\n",
        "\n",
        "model = Model(inputs = vgg_model.input, outputs = x)\n",
        "\n",
        "model.summary()"
      ],
      "execution_count": 0,
      "outputs": [
        {
          "output_type": "stream",
          "text": [
            "_________________________________________________________________\n",
            "Layer (type)                 Output Shape              Param #   \n",
            "=================================================================\n",
            "input_18 (InputLayer)        (None, 32, 32, 3)         0         \n",
            "_________________________________________________________________\n",
            "block1_conv1 (Conv2D)        (None, 32, 32, 64)        1792      \n",
            "_________________________________________________________________\n",
            "block1_conv2 (Conv2D)        (None, 32, 32, 64)        36928     \n",
            "_________________________________________________________________\n",
            "block1_pool (MaxPooling2D)   (None, 16, 16, 64)        0         \n",
            "_________________________________________________________________\n",
            "block2_conv1 (Conv2D)        (None, 16, 16, 128)       73856     \n",
            "_________________________________________________________________\n",
            "block2_conv2 (Conv2D)        (None, 16, 16, 128)       147584    \n",
            "_________________________________________________________________\n",
            "block2_pool (MaxPooling2D)   (None, 8, 8, 128)         0         \n",
            "_________________________________________________________________\n",
            "block3_conv1 (Conv2D)        (None, 8, 8, 256)         295168    \n",
            "_________________________________________________________________\n",
            "block3_conv2 (Conv2D)        (None, 8, 8, 256)         590080    \n",
            "_________________________________________________________________\n",
            "block3_conv3 (Conv2D)        (None, 8, 8, 256)         590080    \n",
            "_________________________________________________________________\n",
            "block3_pool (MaxPooling2D)   (None, 4, 4, 256)         0         \n",
            "_________________________________________________________________\n",
            "block4_conv1 (Conv2D)        (None, 4, 4, 512)         1180160   \n",
            "_________________________________________________________________\n",
            "block4_conv2 (Conv2D)        (None, 4, 4, 512)         2359808   \n",
            "_________________________________________________________________\n",
            "block4_conv3 (Conv2D)        (None, 4, 4, 512)         2359808   \n",
            "_________________________________________________________________\n",
            "block4_pool (MaxPooling2D)   (None, 2, 2, 512)         0         \n",
            "_________________________________________________________________\n",
            "block5_conv1 (Conv2D)        (None, 2, 2, 512)         2359808   \n",
            "_________________________________________________________________\n",
            "block5_conv2 (Conv2D)        (None, 2, 2, 512)         2359808   \n",
            "_________________________________________________________________\n",
            "block5_conv3 (Conv2D)        (None, 2, 2, 512)         2359808   \n",
            "_________________________________________________________________\n",
            "block5_pool (MaxPooling2D)   (None, 1, 1, 512)         0         \n",
            "_________________________________________________________________\n",
            "flatten_18 (Flatten)         (None, 512)               0         \n",
            "_________________________________________________________________\n",
            "dense_37 (Dense)             (None, 4096)              2101248   \n",
            "_________________________________________________________________\n",
            "batch_normalization_4 (Batch (None, 4096)              16384     \n",
            "_________________________________________________________________\n",
            "dropout_14 (Dropout)         (None, 4096)              0         \n",
            "_________________________________________________________________\n",
            "dense_38 (Dense)             (None, 4096)              16781312  \n",
            "_________________________________________________________________\n",
            "dropout_15 (Dropout)         (None, 4096)              0         \n",
            "_________________________________________________________________\n",
            "dense_39 (Dense)             (None, 200)               819400    \n",
            "=================================================================\n",
            "Total params: 34,433,032\n",
            "Trainable params: 34,424,840\n",
            "Non-trainable params: 8,192\n",
            "_________________________________________________________________\n"
          ],
          "name": "stdout"
        }
      ]
    },
    {
      "metadata": {
        "id": "MW7_671iA0XD",
        "colab_type": "code",
        "outputId": "fba7afdd-1742-4ae4-a2b2-fce35b412d87",
        "colab": {
          "base_uri": "https://localhost:8080/",
          "height": 374
        }
      },
      "cell_type": "code",
      "source": [
        "model.compile(loss='categorical_crossentropy',\n",
        "              optimizer=keras.optimizers.RMSprop(lr=0.0001, rho=0.9, epsilon=None, decay=0.0),\n",
        "              metrics=['accuracy'])\n",
        "\n",
        "\n",
        "\n",
        "history = model.fit(np.array(X_train.transpose(0,3,2,1)), (y_train),\n",
        "                    epochs=10,\n",
        "                    batch_size=256,\n",
        "                    verbose=1,\n",
        "                    validation_data=(np.array(X_val.transpose(0,3,2,1)),(y_val)))"
      ],
      "execution_count": 0,
      "outputs": [
        {
          "output_type": "stream",
          "text": [
            "Train on 100000 samples, validate on 10000 samples\n",
            "Epoch 1/10\n",
            "100000/100000 [==============================] - 104s 1ms/step - loss: 5.6793 - acc: 0.0063 - val_loss: 5.7842 - val_acc: 0.0050\n",
            "Epoch 2/10\n",
            "100000/100000 [==============================] - 98s 983us/step - loss: 5.4167 - acc: 0.0085 - val_loss: 5.3031 - val_acc: 0.0081\n",
            "Epoch 3/10\n",
            "100000/100000 [==============================] - 98s 984us/step - loss: 5.3365 - acc: 0.0104 - val_loss: 5.4940 - val_acc: 0.0078\n",
            "Epoch 4/10\n",
            "100000/100000 [==============================] - 98s 985us/step - loss: 5.2373 - acc: 0.0138 - val_loss: 5.4035 - val_acc: 0.0057\n",
            "Epoch 5/10\n",
            "100000/100000 [==============================] - 98s 983us/step - loss: 5.1417 - acc: 0.0180 - val_loss: 5.5638 - val_acc: 0.0067\n",
            "Epoch 6/10\n",
            "100000/100000 [==============================] - 98s 984us/step - loss: 4.9796 - acc: 0.0227 - val_loss: 5.3126 - val_acc: 0.0087\n",
            "Epoch 7/10\n",
            "100000/100000 [==============================] - 98s 983us/step - loss: 4.8349 - acc: 0.0294 - val_loss: 5.2971 - val_acc: 0.0071\n",
            "Epoch 8/10\n",
            "100000/100000 [==============================] - 98s 984us/step - loss: 4.6966 - acc: 0.0384 - val_loss: 5.1957 - val_acc: 0.0093\n",
            "Epoch 9/10\n",
            "100000/100000 [==============================] - 98s 984us/step - loss: 4.5286 - acc: 0.0525 - val_loss: 5.1364 - val_acc: 0.0161\n",
            "Epoch 10/10\n",
            "100000/100000 [==============================] - 99s 986us/step - loss: 4.3615 - acc: 0.0702 - val_loss: 5.0541 - val_acc: 0.0347\n"
          ],
          "name": "stdout"
        }
      ]
    },
    {
      "metadata": {
        "id": "8ICI0dINFCbf",
        "colab_type": "code",
        "outputId": "128084fb-0397-401e-9c19-6cec283ea4df",
        "colab": {
          "base_uri": "https://localhost:8080/",
          "height": 748
        }
      },
      "cell_type": "code",
      "source": [
        "model.compile(loss='categorical_crossentropy',\n",
        "              optimizer=keras.optimizers.RMSprop(lr=0.0001, rho=0.9, epsilon=None, decay=0.0),\n",
        "              metrics=['accuracy'])\n",
        "\n",
        "\n",
        "\n",
        "history = model.fit(np.array(X_train.transpose(0,3,2,1)), (y_train),\n",
        "                    epochs=25,\n",
        "                    batch_size=256,\n",
        "                    verbose=1,\n",
        "                    validation_data=(np.array(X_val.transpose(0,3,2,1)),(y_val)))"
      ],
      "execution_count": 0,
      "outputs": [
        {
          "output_type": "stream",
          "text": [
            "Train on 100000 samples, validate on 10000 samples\n",
            "Epoch 1/25\n",
            "100000/100000 [==============================] - 105s 1ms/step - loss: 4.2372 - acc: 0.0852 - val_loss: 4.8825 - val_acc: 0.0382\n",
            "Epoch 2/25\n",
            "100000/100000 [==============================] - 99s 990us/step - loss: 4.1057 - acc: 0.1024 - val_loss: 4.8034 - val_acc: 0.0540\n",
            "Epoch 3/25\n",
            "100000/100000 [==============================] - 99s 989us/step - loss: 3.9871 - acc: 0.1170 - val_loss: 4.9677 - val_acc: 0.0306\n",
            "Epoch 4/25\n",
            "100000/100000 [==============================] - 99s 990us/step - loss: 3.8622 - acc: 0.1341 - val_loss: 4.4702 - val_acc: 0.0927\n",
            "Epoch 5/25\n",
            "100000/100000 [==============================] - 99s 991us/step - loss: 3.7530 - acc: 0.1505 - val_loss: 4.3997 - val_acc: 0.0936\n",
            "Epoch 6/25\n",
            "100000/100000 [==============================] - 99s 992us/step - loss: 3.6556 - acc: 0.1671 - val_loss: 4.2595 - val_acc: 0.1135\n",
            "Epoch 7/25\n",
            "100000/100000 [==============================] - 99s 990us/step - loss: 3.5285 - acc: 0.1850 - val_loss: 4.4908 - val_acc: 0.0848\n",
            "Epoch 8/25\n",
            "100000/100000 [==============================] - 99s 991us/step - loss: 3.4090 - acc: 0.2027 - val_loss: 4.3361 - val_acc: 0.1076\n",
            "Epoch 9/25\n",
            "100000/100000 [==============================] - 99s 991us/step - loss: 3.2902 - acc: 0.2238 - val_loss: 4.2582 - val_acc: 0.1180\n",
            "Epoch 10/25\n",
            "100000/100000 [==============================] - 99s 992us/step - loss: 3.1643 - acc: 0.2410 - val_loss: 4.0445 - val_acc: 0.1363\n",
            "Epoch 11/25\n",
            "100000/100000 [==============================] - 99s 992us/step - loss: 3.0387 - acc: 0.2641 - val_loss: 4.2618 - val_acc: 0.1190\n",
            "Epoch 12/25\n",
            "100000/100000 [==============================] - 99s 992us/step - loss: 2.8877 - acc: 0.2883 - val_loss: 3.9812 - val_acc: 0.1567\n",
            "Epoch 13/25\n",
            "100000/100000 [==============================] - 99s 991us/step - loss: 2.7716 - acc: 0.3086 - val_loss: 4.1434 - val_acc: 0.1275\n",
            "Epoch 14/25\n",
            "100000/100000 [==============================] - 99s 991us/step - loss: 2.6240 - acc: 0.3322 - val_loss: 4.0328 - val_acc: 0.1412\n",
            "Epoch 15/25\n",
            "100000/100000 [==============================] - 99s 990us/step - loss: 2.4605 - acc: 0.3599 - val_loss: 4.2336 - val_acc: 0.1107\n",
            "Epoch 16/25\n",
            "100000/100000 [==============================] - 99s 991us/step - loss: 2.3058 - acc: 0.3889 - val_loss: 4.0161 - val_acc: 0.1408\n",
            "Epoch 17/25\n",
            "100000/100000 [==============================] - 99s 991us/step - loss: 2.1603 - acc: 0.4175 - val_loss: 3.9958 - val_acc: 0.1448\n",
            "Epoch 18/25\n",
            "100000/100000 [==============================] - 99s 992us/step - loss: 2.0148 - acc: 0.4450 - val_loss: 4.0864 - val_acc: 0.1410\n",
            "Epoch 19/25\n",
            "100000/100000 [==============================] - 99s 992us/step - loss: 1.8515 - acc: 0.4801 - val_loss: 4.2075 - val_acc: 0.1522\n",
            "Epoch 20/25\n",
            "100000/100000 [==============================] - 99s 992us/step - loss: 1.7192 - acc: 0.5121 - val_loss: 4.2606 - val_acc: 0.1751\n",
            "Epoch 21/25\n",
            " 24320/100000 [======>.......................] - ETA: 1:14 - loss: 1.5572 - acc: 0.5483"
          ],
          "name": "stdout"
        }
      ]
    }
  ]
}