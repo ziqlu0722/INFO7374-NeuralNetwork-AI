{
  "nbformat": 4,
  "nbformat_minor": 0,
  "metadata": {
    "colab": {
      "name": "SGD_ALEXNET_1.ipynb",
      "version": "0.3.2",
      "provenance": [],
      "collapsed_sections": [],
      "include_colab_link": true
    },
    "kernelspec": {
      "name": "python3",
      "display_name": "Python 3"
    },
    "accelerator": "GPU"
  },
  "cells": [
    {
      "cell_type": "markdown",
      "metadata": {
        "id": "view-in-github",
        "colab_type": "text"
      },
      "source": [
        "<a href=\"https://colab.research.google.com/github/ziqlu0722/Info7374-GitHub-repo/blob/master/Assignment_2/SGD_ALEXNET_1.ipynb\" target=\"_parent\"><img src=\"https://colab.research.google.com/assets/colab-badge.svg\" alt=\"Open In Colab\"/></a>"
      ]
    },
    {
      "metadata": {
        "id": "xWtOQRBq40Qb",
        "colab_type": "code",
        "outputId": "48eb8230-f9fd-4ac5-b60b-573f32129508",
        "colab": {
          "base_uri": "https://localhost:8080/",
          "height": 34
        }
      },
      "cell_type": "code",
      "source": [
        "import os, zipfile, io, requests\n",
        "URL = 'http://cs231n.stanford.edu/tiny-imagenet-200.zip'\n",
        "def download_images(url):\n",
        "    r = requests.get(url, stream=True)\n",
        "    print ('Downloading ' + url )\n",
        "    zip_ref = zipfile.ZipFile(io.BytesIO(r.content))\n",
        "    zip_ref.extractall('./')\n",
        "    zip_ref.close()\n",
        "download_images(URL) #To download"
      ],
      "execution_count": 0,
      "outputs": [
        {
          "output_type": "stream",
          "text": [
            "Downloading http://cs231n.stanford.edu/tiny-imagenet-200.zip\n"
          ],
          "name": "stdout"
        }
      ]
    },
    {
      "metadata": {
        "id": "SCyTAtiEUGiO",
        "colab_type": "code",
        "colab": {}
      },
      "cell_type": "code",
      "source": [
        "import os\n",
        "import pickle\n",
        "import scipy.misc\n",
        "import numpy as np\n",
        "from scipy.misc import imread"
      ],
      "execution_count": 0,
      "outputs": []
    },
    {
      "metadata": {
        "id": "mMWYkNQhUHSd",
        "colab_type": "code",
        "colab": {}
      },
      "cell_type": "code",
      "source": [
        "def load_tiny_imagenet(path, wnids_path, resize='false', num_classes=200, dtype=np.float32):\n",
        "  \"\"\"\n",
        "  Load TinyImageNet. Each of TinyImageNet-100-A, TinyImageNet-100-B, and\n",
        "  TinyImageNet-200 have the same directory structure, so this can be used\n",
        "  to load any of them.\n",
        "  Inputs:\n",
        "  - path: String giving path to the directory to load.\n",
        "  - dtype: numpy datatype used to load the data.\n",
        "  Returns: A tuple of\n",
        "  - class_names: A list where class_names[i] is a list of strings giving the\n",
        "    WordNet names for class i in the loaded dataset.\n",
        "  - X_train: (N_tr, 3, 64, 64) array of training images\n",
        "  - y_train: (N_tr,) array of training labels\n",
        "  - X_val: (N_val, 3, 64, 64) array of validation images\n",
        "  - y_val: (N_val,) array of validation labels\n",
        "  - X_test: (N_test, 3, 64, 64) array of testing images.\n",
        "  - y_test: (N_test,) array of test labels; if test labels are not available\n",
        "    (such as in student code) then y_test will be None.\n",
        "  \"\"\"\n",
        "  # First load wnids\n",
        "  wnids_file = os.path.join(wnids_path, 'wnids.txt')\n",
        "  with open(os.path.join(path, wnids_file), 'r') as f:\n",
        "    wnids = [x.strip() for x in f]\n",
        "\n",
        "  # Map wnids to integer labels\n",
        "  wnid_to_label = {wnid: i for i, wnid in enumerate(wnids)}\n",
        "\n",
        "  # Use words.txt to get names for each class\n",
        "  words_file = os.path.join(wnids_path, 'words.txt')\n",
        "  with open(os.path.join(path, words_file), 'r') as f:\n",
        "    wnid_to_words = dict(line.split('\\t') for line in f)\n",
        "    for wnid, words in wnid_to_words.items():\n",
        "      wnid_to_words[wnid] = [w.strip() for w in words.split(',')]\n",
        "  class_names = [wnid_to_words[wnid] for wnid in wnids]\n",
        "\n",
        "  # Next load training data.\n",
        "  X_train = []\n",
        "  y_train = []\n",
        "  for i, wnid in enumerate(wnids):\n",
        "    if (i + 1) % 20 == 0:\n",
        "      print('loading training data for synset %d / %d' % (i + 1, len(wnids)))\n",
        "    # To figure out the filenames we need to open the boxes file\n",
        "    boxes_file = os.path.join(path, 'train', wnid, '%s_boxes.txt' % wnid)\n",
        "    with open(boxes_file, 'r') as f:\n",
        "      filenames = [x.split('\\t')[0] for x in f]\n",
        "    num_images = len(filenames)\n",
        "    \n",
        "    if resize.lower() == 'true':\n",
        "      X_train_block = np.zeros((num_images, 3, 32, 32), dtype=dtype)\n",
        "    else:\n",
        "      X_train_block = np.zeros((num_images, 3, 64, 64), dtype=dtype)\n",
        "    \n",
        "    y_train_block = wnid_to_label[wnid] * np.ones(num_images, dtype=np.int64)\n",
        "    for j, img_file in enumerate(filenames):\n",
        "      img_file = os.path.join(path, 'train', wnid, 'images', img_file)\n",
        "      img = imread(img_file)\n",
        "      \n",
        "      if resize.lower() == 'true':\n",
        "        img = scipy.misc.imresize(img, (32, 32, 3))\n",
        "      if img.ndim == 2:\n",
        "        ## grayscale file\n",
        "        if resize.lower() == 'true':\n",
        "          img.shape = (32, 32, 1)\n",
        "        else:\n",
        "          img.shape = (64, 64, 1)\n",
        "      X_train_block[j] = img.transpose(2, 0, 1)\n",
        "    X_train.append(X_train_block)\n",
        "    y_train.append(y_train_block)\n",
        "      \n",
        "  # We need to concatenate all training data\n",
        "  X_train = np.concatenate(X_train, axis=0)\n",
        "  y_train = np.concatenate(y_train, axis=0)\n",
        "  \n",
        "  # Next load validation data\n",
        "  with open(os.path.join(path, 'val', 'val_annotations.txt'), 'r') as f:\n",
        "    img_files = []\n",
        "    val_wnids = []\n",
        "    for line in f:\n",
        "      # Select only validation images in chosen wnids set\n",
        "      if line.split()[1] in wnids:\n",
        "        img_file, wnid = line.split('\\t')[:2]\n",
        "        img_files.append(img_file)\n",
        "        val_wnids.append(wnid)\n",
        "    num_val = len(img_files)\n",
        "    y_val = np.array([wnid_to_label[wnid] for wnid in val_wnids])\n",
        "    \n",
        "    if resize.lower() == 'true':\n",
        "      X_val = np.zeros((num_val, 3, 32, 32), dtype=dtype)\n",
        "    else:\n",
        "      X_val = np.zeros((num_val, 3, 64, 64), dtype=dtype)\n",
        " \n",
        "    for i, img_file in enumerate(img_files):\n",
        "      img_file = os.path.join(path, 'val', 'images', img_file)\n",
        "      img = imread(img_file)\n",
        "      if resize.lower() == 'true':\n",
        "        img = scipy.misc.imresize(img, (32, 32, 3))\n",
        "      if img.ndim == 2:\n",
        "        if resize.lower() == 'true':\n",
        "          img.shape = (32, 32, 1)\n",
        "        else:\n",
        "          img.shape = (64, 64, 1)\n",
        "\n",
        "      X_val[i] = img.transpose(2, 0, 1)\n",
        "\n",
        "  \"\"\"\n",
        "  # Next load test images\n",
        "  # Students won't have test labels, so we need to iterate over files in the\n",
        "  # images directory.\n",
        "  img_files = os.listdir(os.path.join(path, 'test', 'images'))\n",
        "  X_test = np.zeros((len(img_files), 3, 64, 64), dtype=dtype)\n",
        "  for i, img_file in enumerate(img_files):\n",
        "    img_file = os.path.join(path, 'test', 'images', img_file)\n",
        "    img = imread(img_file)\n",
        "    if img.ndim == 2:\n",
        "      img.shape = (64, 64, 1)\n",
        "    X_test[i] = img.transpose(2, 0, 1)\n",
        "  y_test = None\n",
        "  y_test_file = os.path.join(path, 'test', 'test_annotations.txt')\n",
        "  if os.path.isfile(y_test_file):\n",
        "    with open(y_test_file, 'r') as f:\n",
        "      img_file_to_wnid = {}\n",
        "      for line in f:\n",
        "        line = line.split('\\t')\n",
        "        img_file_to_wnid[line[0]] = line[1]\n",
        "    y_test = [wnid_to_label[img_file_to_wnid[img_file]] for img_file in img_files]\n",
        "    y_test = np.array(y_test)\n",
        "  \"\"\"\n",
        "  \n",
        "  # Omit x_test and y_test because they're unlabeled\n",
        "  #return class_names, X_train, y_train, X_val, y_val, X_test, y_test\n",
        "  return class_names, X_train, y_train, X_val, y_val"
      ],
      "execution_count": 0,
      "outputs": []
    },
    {
      "metadata": {
        "id": "vjVuoJ6O5mdl",
        "colab_type": "code",
        "outputId": "f6d84628-e401-4ec1-ab51-5c670bff4b9c",
        "colab": {
          "base_uri": "https://localhost:8080/",
          "height": 391
        }
      },
      "cell_type": "code",
      "source": [
        "class_names,X_train, y_train,X_val,y_val = load_tiny_imagenet('tiny-imagenet-200',\"\",resize='true')"
      ],
      "execution_count": 0,
      "outputs": [
        {
          "output_type": "stream",
          "text": [
            "/usr/local/lib/python3.6/dist-packages/ipykernel_launcher.py:56: DeprecationWarning: `imread` is deprecated!\n",
            "`imread` is deprecated in SciPy 1.0.0, and will be removed in 1.2.0.\n",
            "Use ``imageio.imread`` instead.\n",
            "/usr/local/lib/python3.6/dist-packages/ipykernel_launcher.py:59: DeprecationWarning: `imresize` is deprecated!\n",
            "`imresize` is deprecated in SciPy 1.0.0, and will be removed in 1.2.0.\n",
            "Use ``skimage.transform.resize`` instead.\n"
          ],
          "name": "stderr"
        },
        {
          "output_type": "stream",
          "text": [
            "loading training data for synset 20 / 200\n",
            "loading training data for synset 40 / 200\n",
            "loading training data for synset 60 / 200\n",
            "loading training data for synset 80 / 200\n",
            "loading training data for synset 100 / 200\n",
            "loading training data for synset 120 / 200\n",
            "loading training data for synset 140 / 200\n",
            "loading training data for synset 160 / 200\n",
            "loading training data for synset 180 / 200\n",
            "loading training data for synset 200 / 200\n"
          ],
          "name": "stdout"
        },
        {
          "output_type": "stream",
          "text": [
            "/usr/local/lib/python3.6/dist-packages/ipykernel_launcher.py:94: DeprecationWarning: `imread` is deprecated!\n",
            "`imread` is deprecated in SciPy 1.0.0, and will be removed in 1.2.0.\n",
            "Use ``imageio.imread`` instead.\n",
            "/usr/local/lib/python3.6/dist-packages/ipykernel_launcher.py:96: DeprecationWarning: `imresize` is deprecated!\n",
            "`imresize` is deprecated in SciPy 1.0.0, and will be removed in 1.2.0.\n",
            "Use ``skimage.transform.resize`` instead.\n"
          ],
          "name": "stderr"
        }
      ]
    },
    {
      "metadata": {
        "id": "i_6sUbDEWzpq",
        "colab_type": "code",
        "outputId": "307821f9-b605-46ae-9952-0f62e15c13d7",
        "colab": {
          "base_uri": "https://localhost:8080/",
          "height": 34
        }
      },
      "cell_type": "code",
      "source": [
        "import keras\n",
        "\n",
        "x_train = X_train.astype('float32')\n",
        "\n",
        "\n",
        "\n",
        "x_test = X_val.astype('float32')"
      ],
      "execution_count": 0,
      "outputs": [
        {
          "output_type": "stream",
          "text": [
            "Using TensorFlow backend.\n"
          ],
          "name": "stderr"
        }
      ]
    },
    {
      "metadata": {
        "id": "A1cJKIETW2y-",
        "colab_type": "code",
        "colab": {}
      },
      "cell_type": "code",
      "source": [
        "x_train /= 255\n",
        "\n",
        "x_test /= 255"
      ],
      "execution_count": 0,
      "outputs": []
    },
    {
      "metadata": {
        "id": "mu9fwLXpW5uC",
        "colab_type": "code",
        "outputId": "6a45eb59-7bd2-4ccb-850e-215239edcc8d",
        "colab": {
          "base_uri": "https://localhost:8080/",
          "height": 34
        }
      },
      "cell_type": "code",
      "source": [
        "import keras\n",
        "\n",
        "y_train = keras.utils.to_categorical(y_train, len(class_names))\n",
        "\n",
        "\n",
        "\n",
        "y_val = keras.utils.to_categorical(y_val, len(class_names))"
      ],
      "execution_count": 0,
      "outputs": [
        {
          "output_type": "stream",
          "text": [
            "Using TensorFlow backend.\n"
          ],
          "name": "stderr"
        }
      ]
    },
    {
      "metadata": {
        "id": "xvi1twDwXAxq",
        "colab_type": "code",
        "outputId": "dbd8b04d-bdd9-42ac-99d9-55669b5aa68b",
        "colab": {
          "base_uri": "https://localhost:8080/",
          "height": 1414
        }
      },
      "cell_type": "code",
      "source": [
        "import argparse\n",
        "\n",
        "# Import necessary components to build LeNet\n",
        "from keras.models import Sequential\n",
        "from keras.layers.core import Dense, Dropout, Activation, Flatten\n",
        "from keras.layers.convolutional import Conv2D, MaxPooling2D, ZeroPadding2D\n",
        "from keras.layers.normalization import BatchNormalization\n",
        "from keras.regularizers import l2\n",
        "\n",
        "img_shape=(32,32, 3)\n",
        "n_classes=10\n",
        "l2_reg=0.\n",
        "weights=None\n",
        "\n",
        "\t# Initialize model\n",
        "alexnet = Sequential()\n",
        "\n",
        "\t# Layer 1\n",
        "alexnet.add(Conv2D(96, (11, 11), input_shape=img_shape,\n",
        "padding='same',kernel_regularizer=l2(l2_reg)))\n",
        "alexnet.add(BatchNormalization())\n",
        "alexnet.add(Activation('relu'))\n",
        "alexnet.add(MaxPooling2D(pool_size=(2, 2)))\n",
        "\n",
        "\t# Layer 2\n",
        "alexnet.add(Conv2D(256, (5, 5), padding='same'))\n",
        "alexnet.add(BatchNormalization())\n",
        "alexnet.add(Activation('relu'))\n",
        "alexnet.add(MaxPooling2D(pool_size=(2, 2)))\n",
        "\n",
        "\t# Layer 3\n",
        "alexnet.add(ZeroPadding2D((1, 1)))\n",
        "alexnet.add(Conv2D(512, (3, 3), padding='same'))\n",
        "alexnet.add(BatchNormalization())\n",
        "alexnet.add(Activation('relu'))\n",
        "alexnet.add(MaxPooling2D(pool_size=(2, 2)))\n",
        "\n",
        "\t# Layer 4\n",
        "alexnet.add(ZeroPadding2D((1, 1)))\n",
        "alexnet.add(Conv2D(1024, (3, 3), padding='same'))\n",
        "alexnet.add(BatchNormalization())\n",
        "alexnet.add(Activation('relu'))\n",
        "\n",
        "\t# Layer 5\n",
        "alexnet.add(ZeroPadding2D((1, 1)))\n",
        "alexnet.add(Conv2D(1024, (3, 3), padding='same'))\n",
        "alexnet.add(BatchNormalization())\n",
        "alexnet.add(Activation('relu'))\n",
        "alexnet.add(MaxPooling2D(pool_size=(2, 2)))\n",
        "\n",
        "\t# Layer 6\n",
        "alexnet.add(Flatten())\n",
        "alexnet.add(Dense(3072))\n",
        "alexnet.add(BatchNormalization())\n",
        "alexnet.add(Activation('relu'))\n",
        "alexnet.add(Dropout(0.5))\n",
        "\n",
        "\t# Layer 7\n",
        "alexnet.add(Dense(4096))\n",
        "alexnet.add(BatchNormalization())\n",
        "alexnet.add(Activation('relu'))\n",
        "alexnet.add(Dropout(0.5))\n",
        "\n",
        "\t# Layer 8\n",
        "alexnet.add(Dense(200))\n",
        "alexnet.add(BatchNormalization())\n",
        "alexnet.add(Activation('softmax'))\n",
        "\n",
        "alexnet.summary()"
      ],
      "execution_count": 0,
      "outputs": [
        {
          "output_type": "stream",
          "text": [
            "WARNING:tensorflow:From /usr/local/lib/python3.6/dist-packages/tensorflow/python/framework/op_def_library.py:263: colocate_with (from tensorflow.python.framework.ops) is deprecated and will be removed in a future version.\n",
            "Instructions for updating:\n",
            "Colocations handled automatically by placer.\n",
            "WARNING:tensorflow:From /usr/local/lib/python3.6/dist-packages/keras/backend/tensorflow_backend.py:3445: calling dropout (from tensorflow.python.ops.nn_ops) with keep_prob is deprecated and will be removed in a future version.\n",
            "Instructions for updating:\n",
            "Please use `rate` instead of `keep_prob`. Rate should be set to `rate = 1 - keep_prob`.\n",
            "_________________________________________________________________\n",
            "Layer (type)                 Output Shape              Param #   \n",
            "=================================================================\n",
            "conv2d_1 (Conv2D)            (None, 32, 32, 96)        34944     \n",
            "_________________________________________________________________\n",
            "batch_normalization_1 (Batch (None, 32, 32, 96)        384       \n",
            "_________________________________________________________________\n",
            "activation_1 (Activation)    (None, 32, 32, 96)        0         \n",
            "_________________________________________________________________\n",
            "max_pooling2d_1 (MaxPooling2 (None, 16, 16, 96)        0         \n",
            "_________________________________________________________________\n",
            "conv2d_2 (Conv2D)            (None, 16, 16, 256)       614656    \n",
            "_________________________________________________________________\n",
            "batch_normalization_2 (Batch (None, 16, 16, 256)       1024      \n",
            "_________________________________________________________________\n",
            "activation_2 (Activation)    (None, 16, 16, 256)       0         \n",
            "_________________________________________________________________\n",
            "max_pooling2d_2 (MaxPooling2 (None, 8, 8, 256)         0         \n",
            "_________________________________________________________________\n",
            "zero_padding2d_1 (ZeroPaddin (None, 10, 10, 256)       0         \n",
            "_________________________________________________________________\n",
            "conv2d_3 (Conv2D)            (None, 10, 10, 512)       1180160   \n",
            "_________________________________________________________________\n",
            "batch_normalization_3 (Batch (None, 10, 10, 512)       2048      \n",
            "_________________________________________________________________\n",
            "activation_3 (Activation)    (None, 10, 10, 512)       0         \n",
            "_________________________________________________________________\n",
            "max_pooling2d_3 (MaxPooling2 (None, 5, 5, 512)         0         \n",
            "_________________________________________________________________\n",
            "zero_padding2d_2 (ZeroPaddin (None, 7, 7, 512)         0         \n",
            "_________________________________________________________________\n",
            "conv2d_4 (Conv2D)            (None, 7, 7, 1024)        4719616   \n",
            "_________________________________________________________________\n",
            "batch_normalization_4 (Batch (None, 7, 7, 1024)        4096      \n",
            "_________________________________________________________________\n",
            "activation_4 (Activation)    (None, 7, 7, 1024)        0         \n",
            "_________________________________________________________________\n",
            "zero_padding2d_3 (ZeroPaddin (None, 9, 9, 1024)        0         \n",
            "_________________________________________________________________\n",
            "conv2d_5 (Conv2D)            (None, 9, 9, 1024)        9438208   \n",
            "_________________________________________________________________\n",
            "batch_normalization_5 (Batch (None, 9, 9, 1024)        4096      \n",
            "_________________________________________________________________\n",
            "activation_5 (Activation)    (None, 9, 9, 1024)        0         \n",
            "_________________________________________________________________\n",
            "max_pooling2d_4 (MaxPooling2 (None, 4, 4, 1024)        0         \n",
            "_________________________________________________________________\n",
            "flatten_1 (Flatten)          (None, 16384)             0         \n",
            "_________________________________________________________________\n",
            "dense_1 (Dense)              (None, 3072)              50334720  \n",
            "_________________________________________________________________\n",
            "batch_normalization_6 (Batch (None, 3072)              12288     \n",
            "_________________________________________________________________\n",
            "activation_6 (Activation)    (None, 3072)              0         \n",
            "_________________________________________________________________\n",
            "dropout_1 (Dropout)          (None, 3072)              0         \n",
            "_________________________________________________________________\n",
            "dense_2 (Dense)              (None, 4096)              12587008  \n",
            "_________________________________________________________________\n",
            "batch_normalization_7 (Batch (None, 4096)              16384     \n",
            "_________________________________________________________________\n",
            "activation_7 (Activation)    (None, 4096)              0         \n",
            "_________________________________________________________________\n",
            "dropout_2 (Dropout)          (None, 4096)              0         \n",
            "_________________________________________________________________\n",
            "dense_3 (Dense)              (None, 200)               819400    \n",
            "_________________________________________________________________\n",
            "batch_normalization_8 (Batch (None, 200)               800       \n",
            "_________________________________________________________________\n",
            "activation_8 (Activation)    (None, 200)               0         \n",
            "=================================================================\n",
            "Total params: 79,769,832\n",
            "Trainable params: 79,749,272\n",
            "Non-trainable params: 20,560\n",
            "_________________________________________________________________\n"
          ],
          "name": "stdout"
        }
      ]
    },
    {
      "metadata": {
        "id": "VoE3C6264Ue7",
        "colab_type": "code",
        "colab": {}
      },
      "cell_type": "code",
      "source": [
        "from __future__ import print_function\n",
        "import keras\n",
        "from keras.datasets import cifar10\n",
        "from keras.preprocessing.image import ImageDataGenerator\n",
        "from keras.models import Sequential\n",
        "from keras.layers import Dense, Dropout, Activation, Flatten\n",
        "from keras.layers import Conv2D, MaxPooling2D\n",
        "import os\n",
        "\n"
      ],
      "execution_count": 0,
      "outputs": []
    },
    {
      "metadata": {
        "id": "uUIC6smw9PG2",
        "colab_type": "text"
      },
      "cell_type": "markdown",
      "source": [
        ""
      ]
    },
    {
      "metadata": {
        "id": "rW6tHk0HXH5A",
        "colab_type": "code",
        "outputId": "98efa466-40c1-4728-95fd-59d664091d01",
        "colab": {
          "base_uri": "https://localhost:8080/",
          "height": 445
        }
      },
      "cell_type": "code",
      "source": [
        "alexnet.compile(loss='categorical_crossentropy',\n",
        "              optimizer=keras.optimizers.SGD(lr=0.01, momentum=0.5, decay=0.001, nesterov=True),\n",
        "              metrics=['accuracy'])\n",
        "\n",
        "\n",
        "history = alexnet.fit(np.array(X_train.transpose(0,3,2,1)),np.array(y_train),\n",
        "                    epochs=10,\n",
        "                    batch_size=256,\n",
        "                    verbose=1,\n",
        "                    validation_data=(np.array(X_val.transpose(0,3,2,1)),np.array(y_val)))"
      ],
      "execution_count": 0,
      "outputs": [
        {
          "output_type": "stream",
          "text": [
            "WARNING:tensorflow:From /usr/local/lib/python3.6/dist-packages/tensorflow/python/ops/math_ops.py:3066: to_int32 (from tensorflow.python.ops.math_ops) is deprecated and will be removed in a future version.\n",
            "Instructions for updating:\n",
            "Use tf.cast instead.\n",
            "Train on 100000 samples, validate on 10000 samples\n",
            "Epoch 1/10\n",
            "100000/100000 [==============================] - 262s 3ms/step - loss: 5.1023 - acc: 0.0283 - val_loss: 4.7902 - val_acc: 0.0554\n",
            "Epoch 2/10\n",
            "100000/100000 [==============================] - 246s 2ms/step - loss: 4.7193 - acc: 0.0594 - val_loss: 4.5480 - val_acc: 0.0893\n",
            "Epoch 3/10\n",
            "100000/100000 [==============================] - 246s 2ms/step - loss: 4.5536 - acc: 0.0799 - val_loss: 4.4662 - val_acc: 0.0997\n",
            "Epoch 4/10\n",
            "100000/100000 [==============================] - 246s 2ms/step - loss: 4.4444 - acc: 0.0953 - val_loss: 4.3668 - val_acc: 0.1164\n",
            "Epoch 5/10\n",
            "100000/100000 [==============================] - 246s 2ms/step - loss: 4.3543 - acc: 0.1075 - val_loss: 4.3739 - val_acc: 0.1186\n",
            "Epoch 6/10\n",
            "100000/100000 [==============================] - 246s 2ms/step - loss: 4.2790 - acc: 0.1201 - val_loss: 4.2676 - val_acc: 0.1314\n",
            "Epoch 7/10\n",
            "100000/100000 [==============================] - 246s 2ms/step - loss: 4.2128 - acc: 0.1300 - val_loss: 4.3611 - val_acc: 0.1131\n",
            "Epoch 8/10\n",
            "100000/100000 [==============================] - 246s 2ms/step - loss: 4.1571 - acc: 0.1403 - val_loss: 4.2429 - val_acc: 0.1297\n",
            "Epoch 9/10\n",
            "100000/100000 [==============================] - 246s 2ms/step - loss: 4.1053 - acc: 0.1479 - val_loss: 4.5337 - val_acc: 0.0871\n",
            "Epoch 10/10\n",
            "100000/100000 [==============================] - 246s 2ms/step - loss: 4.0594 - acc: 0.1568 - val_loss: 4.2182 - val_acc: 0.1365\n"
          ],
          "name": "stdout"
        }
      ]
    },
    {
      "metadata": {
        "id": "AdA-zWFEZsNi",
        "colab_type": "code",
        "outputId": "0447638f-31a4-4d36-e259-eb4ed44e9c3f",
        "colab": {
          "base_uri": "https://localhost:8080/",
          "height": 714
        }
      },
      "cell_type": "code",
      "source": [
        "alexnet.compile(loss='categorical_crossentropy',\n",
        "              optimizer=keras.optimizers.SGD(lr=0.01, momentum=0.5, decay=0.001, nesterov=True),\n",
        "              metrics=['accuracy'])\n",
        "\n",
        "\n",
        "history = alexnet.fit(np.array(X_train.transpose(0,3,2,1)),np.array(y_train),\n",
        "                    epochs=20,\n",
        "                    batch_size=256,\n",
        "                    verbose=1,\n",
        "                    validation_data=(np.array(X_val.transpose(0,3,2,1)),np.array(y_val)))"
      ],
      "execution_count": 0,
      "outputs": [
        {
          "output_type": "stream",
          "text": [
            "Train on 100000 samples, validate on 10000 samples\n",
            "Epoch 1/20\n",
            "100000/100000 [==============================] - 249s 2ms/step - loss: 4.0984 - acc: 0.1495 - val_loss: 4.1041 - val_acc: 0.1548\n",
            "Epoch 2/20\n",
            "100000/100000 [==============================] - 246s 2ms/step - loss: 3.9679 - acc: 0.1692 - val_loss: 4.0688 - val_acc: 0.1577\n",
            "Epoch 3/20\n",
            "100000/100000 [==============================] - 246s 2ms/step - loss: 3.8660 - acc: 0.1863 - val_loss: 4.1697 - val_acc: 0.1392\n",
            "Epoch 4/20\n",
            "100000/100000 [==============================] - 246s 2ms/step - loss: 3.7879 - acc: 0.2003 - val_loss: 3.8203 - val_acc: 0.1999\n",
            "Epoch 5/20\n",
            "100000/100000 [==============================] - 246s 2ms/step - loss: 3.7255 - acc: 0.2117 - val_loss: 3.9835 - val_acc: 0.1621\n",
            "Epoch 6/20\n",
            "100000/100000 [==============================] - 246s 2ms/step - loss: 3.6629 - acc: 0.2224 - val_loss: 3.8507 - val_acc: 0.1971\n",
            "Epoch 7/20\n",
            "100000/100000 [==============================] - 246s 2ms/step - loss: 3.6113 - acc: 0.2310 - val_loss: 3.9481 - val_acc: 0.1741\n",
            "Epoch 8/20\n",
            "100000/100000 [==============================] - 246s 2ms/step - loss: 3.5649 - acc: 0.2406 - val_loss: 3.6920 - val_acc: 0.2189\n",
            "Epoch 9/20\n",
            "100000/100000 [==============================] - 246s 2ms/step - loss: 3.5190 - acc: 0.2485 - val_loss: 3.7297 - val_acc: 0.2116\n",
            "Epoch 10/20\n",
            "100000/100000 [==============================] - 246s 2ms/step - loss: 3.4829 - acc: 0.2547 - val_loss: 3.8302 - val_acc: 0.1940\n",
            "Epoch 11/20\n",
            "100000/100000 [==============================] - 246s 2ms/step - loss: 3.4411 - acc: 0.2635 - val_loss: 3.7381 - val_acc: 0.2106\n",
            "Epoch 12/20\n",
            "100000/100000 [==============================] - 246s 2ms/step - loss: 3.4046 - acc: 0.2704 - val_loss: 3.6578 - val_acc: 0.2219\n",
            "Epoch 13/20\n",
            "100000/100000 [==============================] - 246s 2ms/step - loss: 3.3698 - acc: 0.2758 - val_loss: 3.5862 - val_acc: 0.2364\n",
            "Epoch 14/20\n",
            "100000/100000 [==============================] - 246s 2ms/step - loss: 3.3419 - acc: 0.2818 - val_loss: 3.5976 - val_acc: 0.2361\n",
            "Epoch 15/20\n",
            "100000/100000 [==============================] - 246s 2ms/step - loss: 3.3101 - acc: 0.2899 - val_loss: 3.6973 - val_acc: 0.2076\n",
            "Epoch 16/20\n",
            "100000/100000 [==============================] - 246s 2ms/step - loss: 3.2757 - acc: 0.2979 - val_loss: 3.6954 - val_acc: 0.2161\n",
            "Epoch 17/20\n",
            "100000/100000 [==============================] - 246s 2ms/step - loss: 3.2503 - acc: 0.3026 - val_loss: 3.5844 - val_acc: 0.2336\n",
            "Epoch 18/20\n",
            "100000/100000 [==============================] - 246s 2ms/step - loss: 3.2216 - acc: 0.3078 - val_loss: 3.5731 - val_acc: 0.2370\n",
            "Epoch 19/20\n",
            "100000/100000 [==============================] - 246s 2ms/step - loss: 3.1984 - acc: 0.3117 - val_loss: 3.5871 - val_acc: 0.2376\n",
            "Epoch 20/20\n",
            "100000/100000 [==============================] - 246s 2ms/step - loss: 3.1707 - acc: 0.3188 - val_loss: 3.5121 - val_acc: 0.2507\n"
          ],
          "name": "stdout"
        }
      ]
    },
    {
      "metadata": {
        "id": "8BcwxhIOsuxo",
        "colab_type": "code",
        "outputId": "f966d218-253d-432a-f47e-6aa4ad734fc4",
        "colab": {
          "base_uri": "https://localhost:8080/",
          "height": 427
        }
      },
      "cell_type": "code",
      "source": [
        "score = alexnet.evaluate(np.array(X_val.transpose(0,3,2,1)),np.array(y_val), verbose=0)\n",
        "                       \n",
        "print('Test loss:', score[0])\n",
        "print('Test accuracy:', score[1])\n",
        "\n",
        "\n",
        "import matplotlib.pyplot as plt\n",
        "import numpy\n",
        "\n",
        "print(history.history.keys())\n",
        "#summarize history for accuracy\n",
        "plt.plot(history.history['acc'])\n",
        "plt.plot(history.history['val_acc']) \n",
        "plt.title('model accuracy')\n",
        "plt.ylabel('accuracy')\n",
        "plt.xlabel('epoch')\n",
        "plt.legend(['train', 'test'], loc='upper left')\n",
        "plt.show()"
      ],
      "execution_count": 0,
      "outputs": [
        {
          "output_type": "stream",
          "text": [
            "Test loss: 3.512125574874878\n",
            "Test accuracy: 0.2507\n",
            "dict_keys(['val_loss', 'val_acc', 'loss', 'acc'])\n"
          ],
          "name": "stdout"
        },
        {
          "output_type": "display_data",
          "data": {
            "image/png": "[encoded data removed]",
            "text/plain": [
              "<Figure size 576x396 with 1 Axes>"
            ]
          },
          "metadata": {
            "tags": []
          }
        }
      ]
    }
  ]
}