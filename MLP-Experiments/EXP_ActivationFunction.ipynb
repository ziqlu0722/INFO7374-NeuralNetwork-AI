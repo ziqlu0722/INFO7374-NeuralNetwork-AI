{
 "cells": [
  {
   "cell_type": "markdown",
   "metadata": {
    "colab_type": "text",
    "id": "qfGW21kwqdMx"
   },
   "source": [
    "### 1. IMPORT LIBRARIES AND CIFAR 10, PREPARE DATA"
   ]
  },
  {
   "cell_type": "code",
   "execution_count": 1,
   "metadata": {
    "colab": {
     "base_uri": "https://localhost:8080/",
     "height": 34
    },
    "colab_type": "code",
    "id": "9wtwTQ8yqdMy",
    "outputId": "e1297121-6586-4af5-c967-1ca6ad4e1496"
   },
   "outputs": [
    {
     "name": "stderr",
     "output_type": "stream",
     "text": [
      "Using TensorFlow backend.\n"
     ]
    }
   ],
   "source": [
    "# general\n",
    "import numpy as np\n",
    "import os\n",
    "os.environ['KERAS_BACKEND'] = 'tensorflow'\n",
    "import keras\n",
    "import time\n",
    "import matplotlib.pyplot as plt\n",
    "% matplotlib inline\n",
    "\n",
    "# dataset\n",
    "from keras.datasets import cifar10\n",
    "\n",
    "# modeling tools\n",
    "from keras.models import Sequential\n",
    "from keras.layers import Dense, Dropout, Activation\n",
    "from keras.optimizers import SGD, RMSprop, Adam, Adadelta, Adagrad\n",
    "from keras.utils.np_utils import to_categorical"
   ]
  },
  {
   "cell_type": "markdown",
   "metadata": {
    "colab_type": "text",
    "id": "GqhQUniOqdM2"
   },
   "source": [
    "Check and Prepare Data:"
   ]
  },
  {
   "cell_type": "code",
   "execution_count": 2,
   "metadata": {
    "colab": {
     "base_uri": "https://localhost:8080/",
     "height": 51
    },
    "colab_type": "code",
    "id": "eqkPHyXuqdM3",
    "outputId": "5c80f658-a0f4-4796-f0c5-545333caae87"
   },
   "outputs": [
    {
     "name": "stdout",
     "output_type": "stream",
     "text": [
      "training data shape: (50000, 32, 32, 3)\n",
      "test data shape: (10000, 32, 32, 3)\n"
     ]
    }
   ],
   "source": [
    "# split data\n",
    "(x_train, y_train), (x_test, y_test) = cifar10.load_data()\n",
    "# check data dimension\n",
    "print('training data shape: {}'.format(x_train.shape))\n",
    "print('test data shape: {}'.format(x_test.shape))"
   ]
  },
  {
   "cell_type": "code",
   "execution_count": 3,
   "metadata": {
    "colab": {
     "base_uri": "https://localhost:8080/",
     "height": 51
    },
    "colab_type": "code",
    "id": "FRLmK4OOqdM8",
    "outputId": "6116027c-2763-46e3-ecdb-3de8537cb2dc"
   },
   "outputs": [
    {
     "name": "stdout",
     "output_type": "stream",
     "text": [
      "training labels are: [6, 9, 4, 1, 2, 7, 8, 3, 5, 0]\n",
      "# labels: 10\n"
     ]
    }
   ],
   "source": [
    "# check labels\n",
    "labels = []\n",
    "for y in y_train.flatten():\n",
    "    if y not in labels:\n",
    "        labels.append(y)\n",
    "print('training labels are: {}'.format(labels))\n",
    "print('# labels: {}'.format(len(labels)))"
   ]
  },
  {
   "cell_type": "code",
   "execution_count": 0,
   "metadata": {
    "colab": {},
    "colab_type": "code",
    "id": "qczgnAtgqdM_"
   },
   "outputs": [],
   "source": [
    "# Convert class vectors to one-hot encoded vectors.\n",
    "y_train = to_categorical(y_train, num_classes = 10)\n",
    "y_test = to_categorical(y_test, num_classes = 10)"
   ]
  },
  {
   "cell_type": "code",
   "execution_count": 0,
   "metadata": {
    "colab": {},
    "colab_type": "code",
    "id": "SAycOUVDqdNB"
   },
   "outputs": [],
   "source": [
    "# Transform images from (32,32,3) to 3072-dimensional vectors (32*32*3)\n",
    "\n",
    "x_train = np.reshape(x_train,(50000,3072))\n",
    "x_test = np.reshape(x_test,(10000,3072))\n",
    "x_train = x_train.astype('float32')\n",
    "x_test = x_test.astype('float32')\n",
    "\n",
    "# Normalization of pixel values (to [0-1] range)\n",
    "\n",
    "x_train /= 255\n",
    "x_test /= 255"
   ]
  },
  {
   "cell_type": "markdown",
   "metadata": {
    "colab_type": "text",
    "id": "Dl_HOdX_qdNF"
   },
   "source": [
    "### 2. HELP FUNCTION"
   ]
  },
  {
   "cell_type": "code",
   "execution_count": 0,
   "metadata": {
    "colab": {},
    "colab_type": "code",
    "id": "kIMZCmmJ_BRk"
   },
   "outputs": [],
   "source": [
    "# plot the accuracy and loss of training process\n",
    "\n",
    "def plotAcc(history):\n",
    "    plt.plot(history.history['acc'])\n",
    "    plt.plot(history.history['val_acc'])\n",
    "    plt.title('model_accuracy')\n",
    "    plt.ylabel('accuracy')\n",
    "    plt.xlabel('epoch')\n",
    "    plt.legend(['train', 'validation'], loc = 'lower right')\n",
    "    \n",
    "def plotLoss(history):\n",
    "    plt.plot(history.history['loss'])\n",
    "    plt.plot(history.history['val_loss'])\n",
    "    plt.title('model_loss')\n",
    "    plt.ylabel('loss')\n",
    "    plt.xlabel('epoch')\n",
    "    plt.legend(['train', 'validation'], loc = 'upper right')"
   ]
  },
  {
   "cell_type": "code",
   "execution_count": 0,
   "metadata": {
    "colab": {},
    "colab_type": "code",
    "id": "FRbEZaxy7FK0"
   },
   "outputs": [],
   "source": [
    "# get the best accuracy result\n",
    "\n",
    "def getBest(record):\n",
    "    max_acc = 0\n",
    "    experiment = None\n",
    "    for value in record.values():\n",
    "        max_acc = max(max_acc, value[1])\n",
    "\n",
    "    for key in record.keys():\n",
    "        if record[key][1] == max_acc:\n",
    "            experiment = key\n",
    "      \n",
    "    return max_acc, experiment, record[experiment][3]"
   ]
  },
  {
   "cell_type": "code",
   "execution_count": 0,
   "metadata": {
    "colab": {},
    "colab_type": "code",
    "id": "AbWr1lnRy9nD"
   },
   "outputs": [],
   "source": [
    "# get the summary of all experiments\n",
    "\n",
    "import pandas as pd\n",
    "\n",
    "def get_allResult(record):\n",
    "    df_result = pd.DataFrame()\n",
    "    length = len(list(record.keys()))\n",
    "    df_result['Experiment'] = list(record.keys())\n",
    "    df_result['Loss'] = [list(record.values())[i][0] for i in range(length)]\n",
    "    df_result['Accuracy'] = [list(record.values())[i][1] for i in range(length)]\n",
    "    return df_result"
   ]
  },
  {
   "cell_type": "markdown",
   "metadata": {
    "colab_type": "text",
    "id": "BI6BP3DMqdNM"
   },
   "source": [
    "### 3. EXPERIMENTS - TEST WITH ACTIVATION FUNCTIONS"
   ]
  },
  {
   "cell_type": "markdown",
   "metadata": {
    "colab_type": "text",
    "id": "7x2KUFAjqdNO"
   },
   "source": [
    "#### 1. Set up hyperparameters for activation functions"
   ]
  },
  {
   "cell_type": "code",
   "execution_count": 0,
   "metadata": {
    "colab": {},
    "colab_type": "code",
    "id": "6FcjteQjqdNQ"
   },
   "outputs": [],
   "source": [
    "# as 'relu' has tested in previous experiments, here only other functions are added\n",
    "list_activation = ['tanh', 'sigmoid', 'softsign', 'softplus']"
   ]
  },
  {
   "cell_type": "markdown",
   "metadata": {
    "colab_type": "text",
    "id": "ZJ7fAF3_qdNT"
   },
   "source": [
    "#### 2. Control other conditions and hyperparameters"
   ]
  },
  {
   "cell_type": "code",
   "execution_count": 0,
   "metadata": {
    "colab": {},
    "colab_type": "code",
    "id": "990ZhE20qdNV"
   },
   "outputs": [],
   "source": [
    "# set conditions\n",
    "n_class = 10\n",
    "input_dimension = 32*32*3\n",
    "\n",
    "# hyper parameters\n",
    "n_neuron = 256\n",
    "batch_size = 128\n",
    "dropout_rate = 0.2\n",
    "epochs = 20\n",
    "\n",
    "# use the best combo of optimizer and lr from optimizer experiment\n",
    "optimizer = keras.optimizers.Adam(lr = 0.0003)\n",
    "\n",
    "# record hyper parameter information in dictionary                 \n",
    "param_dict = {\n",
    "        'num_neurons': 256,\n",
    "        'num_layers': 2,\n",
    "        'batch_size': 128,\n",
    "        'dropout_rate': 0.2,\n",
    "        'epochs': 20,\n",
    "        'optimizer':'Adam with 0.0003 lr'\n",
    "    }"
   ]
  },
  {
   "cell_type": "markdown",
   "metadata": {
    "colab_type": "text",
    "id": "0_mhevTwqdNY"
   },
   "source": [
    "#### 3. Set up experiment function"
   ]
  },
  {
   "cell_type": "code",
   "execution_count": 0,
   "metadata": {
    "colab": {},
    "colab_type": "code",
    "id": "dNQ4OINvqdNY"
   },
   "outputs": [],
   "source": [
    "def experiment_activation(list_activation):\n",
    "    \n",
    "    record = {}    \n",
    "    for i, _ in enumerate(list_activation):\n",
    "        \n",
    "        model = Sequential()\n",
    "        model.add(Dense(n_neuron, activation = _, input_dim = input_dimension))\n",
    "        model.add(Dropout(dropout_rate))\n",
    "        model.add(Dense(n_neuron, activation = _))\n",
    "        model.add(Dropout(dropout_rate))\n",
    "        model.add(Dense(n_class, activation = 'softmax'))\n",
    "\n",
    "        model.compile(optimizer = optimizer,\n",
    "                     loss = 'categorical_crossentropy',\n",
    "                     metrics = ['accuracy'])\n",
    "\n",
    "        start = time.clock()\n",
    "        exp_activation = model.fit(x_train, \n",
    "                                  y_train, \n",
    "                                  epochs = epochs, \n",
    "                                  batch_size = batch_size,\n",
    "                                  verbose = 2,\n",
    "                                  validation_data = (x_test, y_test))\n",
    "        elapsed = (time.clock() - start)\n",
    "        scores = model.evaluate(x_test, y_test, verbose=1)\n",
    "        \n",
    "        # record experiment information:\n",
    "        record[str(list_activation[i])] = [scores[0], scores[1], elapsed, exp_activation]\n",
    "        \n",
    "        # print experiment name:\n",
    "        print('*******************************************************')\n",
    "        print('=======================================================')\n",
    "        print('Experiment' + str(i) + ':'  + '\\t' + str(list_activation[i]))\n",
    "        print('=======================================================')\n",
    "        # print all used parameters for this model\n",
    "#         for i,j in param_dict.items():\n",
    "#             print(str(i) + '\\t' + str(j)) \n",
    "#             print('-------------------------------------------------------')\n",
    "            \n",
    "        # print running time used\n",
    "        print('Time Used: {}'.format(elapsed))\n",
    "        print('-------------------------------------------------------')\n",
    "        \n",
    "        # print best loss and accuracy result\n",
    "        print('Test loss:', scores[0])\n",
    "        print('-------------------------------------------------------')\n",
    "        print('Test accuracy:', scores[1])\n",
    "        \n",
    "        print('*******************************************************')\n",
    "        \n",
    "    return record"
   ]
  },
  {
   "cell_type": "markdown",
   "metadata": {
    "colab_type": "text",
    "id": "91Gx78kSqdNc"
   },
   "source": [
    "#### 4. Experiment"
   ]
  },
  {
   "cell_type": "code",
   "execution_count": 12,
   "metadata": {
    "colab": {
     "base_uri": "https://localhost:8080/",
     "height": 3553
    },
    "colab_type": "code",
    "id": "dqee8E75qdNc",
    "outputId": "fa374369-22bc-48c6-8f51-2666c6bb497c"
   },
   "outputs": [
    {
     "name": "stdout",
     "output_type": "stream",
     "text": [
      "Train on 50000 samples, validate on 10000 samples\n",
      "Epoch 1/20\n",
      " - 4s - loss: 1.9752 - acc: 0.2935 - val_loss: 1.7843 - val_acc: 0.3656\n",
      "Epoch 2/20\n",
      " - 3s - loss: 1.8244 - acc: 0.3484 - val_loss: 1.7244 - val_acc: 0.3870\n",
      "Epoch 3/20\n",
      " - 3s - loss: 1.7447 - acc: 0.3759 - val_loss: 1.6357 - val_acc: 0.4179\n",
      "Epoch 4/20\n",
      " - 3s - loss: 1.6997 - acc: 0.3946 - val_loss: 1.5978 - val_acc: 0.4414\n",
      "Epoch 5/20\n",
      " - 3s - loss: 1.6612 - acc: 0.4078 - val_loss: 1.5688 - val_acc: 0.4363\n",
      "Epoch 6/20\n",
      " - 3s - loss: 1.6382 - acc: 0.4187 - val_loss: 1.5601 - val_acc: 0.4526\n",
      "Epoch 7/20\n",
      " - 3s - loss: 1.6101 - acc: 0.4252 - val_loss: 1.5423 - val_acc: 0.4527\n",
      "Epoch 8/20\n",
      " - 3s - loss: 1.5891 - acc: 0.4333 - val_loss: 1.5380 - val_acc: 0.4559\n",
      "Epoch 9/20\n",
      " - 3s - loss: 1.5682 - acc: 0.4402 - val_loss: 1.5148 - val_acc: 0.4565\n",
      "Epoch 10/20\n",
      " - 3s - loss: 1.5525 - acc: 0.4457 - val_loss: 1.5047 - val_acc: 0.4633\n",
      "Epoch 11/20\n",
      " - 3s - loss: 1.5375 - acc: 0.4536 - val_loss: 1.4868 - val_acc: 0.4666\n",
      "Epoch 12/20\n",
      " - 3s - loss: 1.5157 - acc: 0.4594 - val_loss: 1.4478 - val_acc: 0.4880\n",
      "Epoch 13/20\n",
      " - 3s - loss: 1.5028 - acc: 0.4670 - val_loss: 1.4505 - val_acc: 0.4892\n",
      "Epoch 14/20\n",
      " - 3s - loss: 1.4937 - acc: 0.4678 - val_loss: 1.4679 - val_acc: 0.4773\n",
      "Epoch 15/20\n",
      " - 3s - loss: 1.4755 - acc: 0.4773 - val_loss: 1.4462 - val_acc: 0.4837\n",
      "Epoch 16/20\n",
      " - 3s - loss: 1.4657 - acc: 0.4788 - val_loss: 1.4593 - val_acc: 0.4896\n",
      "Epoch 17/20\n",
      " - 3s - loss: 1.4496 - acc: 0.4850 - val_loss: 1.4189 - val_acc: 0.4959\n",
      "Epoch 18/20\n",
      " - 3s - loss: 1.4444 - acc: 0.4853 - val_loss: 1.4465 - val_acc: 0.4917\n",
      "Epoch 19/20\n",
      " - 3s - loss: 1.4318 - acc: 0.4925 - val_loss: 1.3951 - val_acc: 0.5046\n",
      "Epoch 20/20\n",
      " - 3s - loss: 1.4208 - acc: 0.4937 - val_loss: 1.4709 - val_acc: 0.4873\n",
      "10000/10000 [==============================] - 1s 54us/step\n",
      "*******************************************************\n",
      "=======================================================\n",
      "Experiment0:\ttanh\n",
      "=======================================================\n",
      "Time Used: 68.511809\n",
      "-------------------------------------------------------\n",
      "Test loss: 1.470879542350769\n",
      "-------------------------------------------------------\n",
      "Test accuracy: 0.4873\n",
      "*******************************************************\n",
      "Train on 50000 samples, validate on 10000 samples\n",
      "Epoch 1/20\n",
      " - 3s - loss: 1.9964 - acc: 0.2658 - val_loss: 1.8303 - val_acc: 0.3437\n",
      "Epoch 2/20\n",
      " - 3s - loss: 1.8281 - acc: 0.3426 - val_loss: 1.7451 - val_acc: 0.3806\n",
      "Epoch 3/20\n",
      " - 3s - loss: 1.7640 - acc: 0.3678 - val_loss: 1.6944 - val_acc: 0.3972\n",
      "Epoch 4/20\n",
      " - 3s - loss: 1.7169 - acc: 0.3850 - val_loss: 1.6531 - val_acc: 0.4091\n",
      "Epoch 5/20\n",
      " - 3s - loss: 1.6825 - acc: 0.3959 - val_loss: 1.6116 - val_acc: 0.4233\n",
      "Epoch 6/20\n",
      " - 3s - loss: 1.6520 - acc: 0.4091 - val_loss: 1.5842 - val_acc: 0.4352\n",
      "Epoch 7/20\n",
      " - 3s - loss: 1.6253 - acc: 0.4181 - val_loss: 1.5718 - val_acc: 0.4427\n",
      "Epoch 8/20\n",
      " - 3s - loss: 1.6025 - acc: 0.4287 - val_loss: 1.5500 - val_acc: 0.4444\n",
      "Epoch 9/20\n",
      " - 3s - loss: 1.5824 - acc: 0.4348 - val_loss: 1.5371 - val_acc: 0.4507\n",
      "Epoch 10/20\n",
      " - 3s - loss: 1.5664 - acc: 0.4395 - val_loss: 1.5135 - val_acc: 0.4594\n",
      "Epoch 11/20\n",
      " - 3s - loss: 1.5488 - acc: 0.4446 - val_loss: 1.4965 - val_acc: 0.4641\n",
      "Epoch 12/20\n",
      " - 3s - loss: 1.5299 - acc: 0.4545 - val_loss: 1.5064 - val_acc: 0.4699\n",
      "Epoch 13/20\n",
      " - 3s - loss: 1.5177 - acc: 0.4574 - val_loss: 1.4725 - val_acc: 0.4763\n",
      "Epoch 14/20\n",
      " - 3s - loss: 1.5043 - acc: 0.4625 - val_loss: 1.4662 - val_acc: 0.4729\n",
      "Epoch 15/20\n",
      " - 3s - loss: 1.4924 - acc: 0.4648 - val_loss: 1.4649 - val_acc: 0.4760\n",
      "Epoch 16/20\n",
      " - 3s - loss: 1.4817 - acc: 0.4678 - val_loss: 1.4556 - val_acc: 0.4772\n",
      "Epoch 17/20\n",
      " - 3s - loss: 1.4657 - acc: 0.4746 - val_loss: 1.4388 - val_acc: 0.4853\n",
      "Epoch 18/20\n",
      " - 3s - loss: 1.4572 - acc: 0.4770 - val_loss: 1.4451 - val_acc: 0.4878\n",
      "Epoch 19/20\n",
      " - 3s - loss: 1.4448 - acc: 0.4857 - val_loss: 1.4279 - val_acc: 0.4859\n",
      "Epoch 20/20\n",
      " - 3s - loss: 1.4363 - acc: 0.4856 - val_loss: 1.4208 - val_acc: 0.4912\n",
      "10000/10000 [==============================] - 1s 56us/step\n",
      "*******************************************************\n",
      "=======================================================\n",
      "Experiment1:\tsigmoid\n",
      "=======================================================\n",
      "Time Used: 68.29929200000001\n",
      "-------------------------------------------------------\n",
      "Test loss: 1.4208058559417724\n",
      "-------------------------------------------------------\n",
      "Test accuracy: 0.4912\n",
      "*******************************************************\n",
      "Train on 50000 samples, validate on 10000 samples\n",
      "Epoch 1/20\n",
      " - 3s - loss: 2.0262 - acc: 0.2565 - val_loss: 1.8485 - val_acc: 0.3376\n",
      "Epoch 2/20\n",
      " - 3s - loss: 1.8310 - acc: 0.3395 - val_loss: 1.7281 - val_acc: 0.3823\n",
      "Epoch 3/20\n",
      " - 3s - loss: 1.7634 - acc: 0.3690 - val_loss: 1.6685 - val_acc: 0.4019\n",
      "Epoch 4/20\n",
      " - 3s - loss: 1.7169 - acc: 0.3896 - val_loss: 1.6644 - val_acc: 0.4072\n",
      "Epoch 5/20\n",
      " - 3s - loss: 1.6862 - acc: 0.3986 - val_loss: 1.5960 - val_acc: 0.4277\n",
      "Epoch 6/20\n",
      " - 3s - loss: 1.6552 - acc: 0.4105 - val_loss: 1.5913 - val_acc: 0.4297\n",
      "Epoch 7/20\n",
      " - 3s - loss: 1.6364 - acc: 0.4200 - val_loss: 1.5685 - val_acc: 0.4388\n",
      "Epoch 8/20\n",
      " - 3s - loss: 1.6171 - acc: 0.4249 - val_loss: 1.5707 - val_acc: 0.4372\n",
      "Epoch 9/20\n",
      " - 3s - loss: 1.6028 - acc: 0.4297 - val_loss: 1.5436 - val_acc: 0.4516\n",
      "Epoch 10/20\n",
      " - 3s - loss: 1.5893 - acc: 0.4364 - val_loss: 1.5370 - val_acc: 0.4558\n",
      "Epoch 11/20\n",
      " - 3s - loss: 1.5697 - acc: 0.4425 - val_loss: 1.5239 - val_acc: 0.4570\n",
      "Epoch 12/20\n",
      " - 3s - loss: 1.5523 - acc: 0.4493 - val_loss: 1.5208 - val_acc: 0.4605\n",
      "Epoch 13/20\n",
      " - 3s - loss: 1.5430 - acc: 0.4542 - val_loss: 1.4948 - val_acc: 0.4657\n",
      "Epoch 14/20\n",
      " - 3s - loss: 1.5311 - acc: 0.4564 - val_loss: 1.4834 - val_acc: 0.4691\n",
      "Epoch 15/20\n",
      " - 3s - loss: 1.5243 - acc: 0.4590 - val_loss: 1.4798 - val_acc: 0.4716\n",
      "Epoch 16/20\n",
      " - 3s - loss: 1.5167 - acc: 0.4632 - val_loss: 1.4934 - val_acc: 0.4693\n",
      "Epoch 17/20\n",
      " - 3s - loss: 1.5046 - acc: 0.4654 - val_loss: 1.4773 - val_acc: 0.4747\n",
      "Epoch 18/20\n",
      " - 3s - loss: 1.4933 - acc: 0.4693 - val_loss: 1.4646 - val_acc: 0.4773\n",
      "Epoch 19/20\n",
      " - 3s - loss: 1.4835 - acc: 0.4753 - val_loss: 1.4482 - val_acc: 0.4861\n",
      "Epoch 20/20\n",
      " - 3s - loss: 1.4795 - acc: 0.4755 - val_loss: 1.4547 - val_acc: 0.4792\n",
      "10000/10000 [==============================] - 1s 57us/step\n",
      "*******************************************************\n",
      "=======================================================\n",
      "Experiment2:\tsoftsign\n",
      "=======================================================\n",
      "Time Used: 68.79297399999999\n",
      "-------------------------------------------------------\n",
      "Test loss: 1.4546552169799805\n",
      "-------------------------------------------------------\n",
      "Test accuracy: 0.4792\n",
      "*******************************************************\n",
      "Train on 50000 samples, validate on 10000 samples\n",
      "Epoch 1/20\n",
      " - 3s - loss: 2.0096 - acc: 0.2673 - val_loss: 1.7816 - val_acc: 0.3629\n",
      "Epoch 2/20\n",
      " - 3s - loss: 1.8136 - acc: 0.3432 - val_loss: 1.6931 - val_acc: 0.3965\n",
      "Epoch 3/20\n",
      " - 3s - loss: 1.7495 - acc: 0.3693 - val_loss: 1.6505 - val_acc: 0.4146\n",
      "Epoch 4/20\n",
      " - 3s - loss: 1.7035 - acc: 0.3882 - val_loss: 1.6108 - val_acc: 0.4287\n",
      "Epoch 5/20\n",
      " - 3s - loss: 1.6652 - acc: 0.4039 - val_loss: 1.5754 - val_acc: 0.4446\n",
      "Epoch 6/20\n",
      " - 3s - loss: 1.6343 - acc: 0.4113 - val_loss: 1.5441 - val_acc: 0.4507\n",
      "Epoch 7/20\n",
      " - 3s - loss: 1.6076 - acc: 0.4250 - val_loss: 1.5366 - val_acc: 0.4503\n",
      "Epoch 8/20\n",
      " - 3s - loss: 1.5867 - acc: 0.4334 - val_loss: 1.5182 - val_acc: 0.4669\n",
      "Epoch 9/20\n",
      " - 3s - loss: 1.5632 - acc: 0.4393 - val_loss: 1.5027 - val_acc: 0.4687\n",
      "Epoch 10/20\n",
      " - 3s - loss: 1.5450 - acc: 0.4462 - val_loss: 1.4801 - val_acc: 0.4763\n",
      "Epoch 11/20\n",
      " - 3s - loss: 1.5243 - acc: 0.4533 - val_loss: 1.4692 - val_acc: 0.4799\n",
      "Epoch 12/20\n",
      " - 3s - loss: 1.5115 - acc: 0.4586 - val_loss: 1.4621 - val_acc: 0.4791\n",
      "Epoch 13/20\n",
      " - 3s - loss: 1.4963 - acc: 0.4629 - val_loss: 1.4415 - val_acc: 0.4860\n",
      "Epoch 14/20\n",
      " - 3s - loss: 1.4803 - acc: 0.4689 - val_loss: 1.4319 - val_acc: 0.4941\n",
      "Epoch 15/20\n",
      " - 3s - loss: 1.4675 - acc: 0.4730 - val_loss: 1.4276 - val_acc: 0.4919\n",
      "Epoch 16/20\n",
      " - 3s - loss: 1.4553 - acc: 0.4769 - val_loss: 1.4103 - val_acc: 0.4960\n",
      "Epoch 17/20\n",
      " - 3s - loss: 1.4435 - acc: 0.4822 - val_loss: 1.3990 - val_acc: 0.5047\n",
      "Epoch 18/20\n",
      " - 3s - loss: 1.4341 - acc: 0.4909 - val_loss: 1.3941 - val_acc: 0.5047\n",
      "Epoch 19/20\n",
      " - 3s - loss: 1.4202 - acc: 0.4896 - val_loss: 1.3844 - val_acc: 0.5051\n",
      "Epoch 20/20\n",
      " - 3s - loss: 1.4091 - acc: 0.4951 - val_loss: 1.3743 - val_acc: 0.5070\n",
      "10000/10000 [==============================] - 1s 57us/step\n",
      "*******************************************************\n",
      "=======================================================\n",
      "Experiment3:\tsoftplus\n",
      "=======================================================\n",
      "Time Used: 68.77311499999999\n",
      "-------------------------------------------------------\n",
      "Test loss: 1.3742593772888183\n",
      "-------------------------------------------------------\n",
      "Test accuracy: 0.507\n",
      "*******************************************************\n"
     ]
    }
   ],
   "source": [
    "record = experiment_activation(list_activation)"
   ]
  },
  {
   "cell_type": "markdown",
   "metadata": {
    "colab_type": "text",
    "id": "PSDOmAw5zp6U"
   },
   "source": [
    "### 4. SUMMRIZE EXPERIMENTS RESULTS"
   ]
  },
  {
   "cell_type": "markdown",
   "metadata": {
    "colab_type": "text",
    "id": "mqDiqlo67heE"
   },
   "source": [
    "#### 1. Best result"
   ]
  },
  {
   "cell_type": "code",
   "execution_count": 13,
   "metadata": {
    "colab": {
     "base_uri": "https://localhost:8080/",
     "height": 51
    },
    "colab_type": "code",
    "id": "Yg_QkZk8hIny",
    "outputId": "d94210c4-e730-41b7-a372-a6c23ecdbce6"
   },
   "outputs": [
    {
     "name": "stdout",
     "output_type": "stream",
     "text": [
      "The Best Result is:\n"
     ]
    },
    {
     "data": {
      "text/plain": [
       "(0.507, 'softplus')"
      ]
     },
     "execution_count": 13,
     "metadata": {
      "tags": []
     },
     "output_type": "execute_result"
    }
   ],
   "source": [
    "max_acc, experiment, history = getBest(record)\n",
    "print('The Best Result is:')\n",
    "max_acc, experiment"
   ]
  },
  {
   "cell_type": "code",
   "execution_count": 14,
   "metadata": {
    "colab": {
     "base_uri": "https://localhost:8080/",
     "height": 294
    },
    "colab_type": "code",
    "id": "S0JuxvIGiycn",
    "outputId": "6e319170-94c5-49a7-cf71-25dfa379d134"
   },
   "outputs": [
    {
     "data": {
      "image/png": "[encoded data removed]",
      "text/plain": [
       "<Figure size 432x288 with 1 Axes>"
      ]
     },
     "metadata": {
      "tags": []
     },
     "output_type": "display_data"
    }
   ],
   "source": [
    "plotAcc(history)"
   ]
  },
  {
   "cell_type": "code",
   "execution_count": 15,
   "metadata": {
    "colab": {
     "base_uri": "https://localhost:8080/",
     "height": 294
    },
    "colab_type": "code",
    "id": "PA60iLgxkQLs",
    "outputId": "e9c6230b-a7bd-458a-ce38-a18c18374959"
   },
   "outputs": [
    {
     "data": {
      "image/png": "[encoded data removed]",
      "text/plain": [
       "<Figure size 432x288 with 1 Axes>"
      ]
     },
     "metadata": {
      "tags": []
     },
     "output_type": "display_data"
    }
   ],
   "source": [
    "plotLoss(history)"
   ]
  },
  {
   "cell_type": "markdown",
   "metadata": {
    "colab_type": "text",
    "id": "YDEpaVye7yUg"
   },
   "source": [
    "#### 2. Result summary"
   ]
  },
  {
   "cell_type": "code",
   "execution_count": 0,
   "metadata": {
    "colab": {},
    "colab_type": "code",
    "id": "fs_6L4zE772Y"
   },
   "outputs": [],
   "source": [
    "df_result = get_allResult(record)\n",
    "\n",
    "# add control parameters\n",
    "\n",
    "df_result['optimizer'] = 'Adam with learning rate @ 0.0003'\n",
    "df_result['num_layers'] = 3\n",
    "df_result['num_neurons'] = 256\n",
    "df_result['batch_size'] = 128\n",
    "df_result['dropout_rate'] = 0.2\n",
    "df_result['epochs'] = 20"
   ]
  },
  {
   "cell_type": "code",
   "execution_count": 18,
   "metadata": {
    "colab": {
     "base_uri": "https://localhost:8080/",
     "height": 173
    },
    "colab_type": "code",
    "id": "BV4qTLCy7-fJ",
    "outputId": "c8304df6-217d-41e7-c18f-2365b5058721"
   },
   "outputs": [
    {
     "data": {
      "text/html": [
       "<div>\n",
       "<style scoped>\n",
       "    .dataframe tbody tr th:only-of-type {\n",
       "        vertical-align: middle;\n",
       "    }\n",
       "\n",
       "    .dataframe tbody tr th {\n",
       "        vertical-align: top;\n",
       "    }\n",
       "\n",
       "    .dataframe thead th {\n",
       "        text-align: right;\n",
       "    }\n",
       "</style>\n",
       "<table border=\"1\" class=\"dataframe\">\n",
       "  <thead>\n",
       "    <tr style=\"text-align: right;\">\n",
       "      <th></th>\n",
       "      <th>activation</th>\n",
       "      <th>Loss</th>\n",
       "      <th>Accuracy</th>\n",
       "      <th>optimizer</th>\n",
       "      <th>num_layers</th>\n",
       "      <th>num_neurons</th>\n",
       "      <th>batch_size</th>\n",
       "      <th>dropout_rate</th>\n",
       "      <th>epochs</th>\n",
       "    </tr>\n",
       "  </thead>\n",
       "  <tbody>\n",
       "    <tr>\n",
       "      <th>3</th>\n",
       "      <td>softplus</td>\n",
       "      <td>1.374259</td>\n",
       "      <td>0.5070</td>\n",
       "      <td>Adam with learning rate @ 0.0003</td>\n",
       "      <td>3</td>\n",
       "      <td>256</td>\n",
       "      <td>128</td>\n",
       "      <td>0.2</td>\n",
       "      <td>20</td>\n",
       "    </tr>\n",
       "    <tr>\n",
       "      <th>1</th>\n",
       "      <td>sigmoid</td>\n",
       "      <td>1.420806</td>\n",
       "      <td>0.4912</td>\n",
       "      <td>Adam with learning rate @ 0.0003</td>\n",
       "      <td>3</td>\n",
       "      <td>256</td>\n",
       "      <td>128</td>\n",
       "      <td>0.2</td>\n",
       "      <td>20</td>\n",
       "    </tr>\n",
       "    <tr>\n",
       "      <th>0</th>\n",
       "      <td>tanh</td>\n",
       "      <td>1.470880</td>\n",
       "      <td>0.4873</td>\n",
       "      <td>Adam with learning rate @ 0.0003</td>\n",
       "      <td>3</td>\n",
       "      <td>256</td>\n",
       "      <td>128</td>\n",
       "      <td>0.2</td>\n",
       "      <td>20</td>\n",
       "    </tr>\n",
       "    <tr>\n",
       "      <th>2</th>\n",
       "      <td>softsign</td>\n",
       "      <td>1.454655</td>\n",
       "      <td>0.4792</td>\n",
       "      <td>Adam with learning rate @ 0.0003</td>\n",
       "      <td>3</td>\n",
       "      <td>256</td>\n",
       "      <td>128</td>\n",
       "      <td>0.2</td>\n",
       "      <td>20</td>\n",
       "    </tr>\n",
       "  </tbody>\n",
       "</table>\n",
       "</div>"
      ],
      "text/plain": [
       "  activation      Loss  Accuracy                         optimizer  \\\n",
       "3   softplus  1.374259    0.5070  Adam with learning rate @ 0.0003   \n",
       "1    sigmoid  1.420806    0.4912  Adam with learning rate @ 0.0003   \n",
       "0       tanh  1.470880    0.4873  Adam with learning rate @ 0.0003   \n",
       "2   softsign  1.454655    0.4792  Adam with learning rate @ 0.0003   \n",
       "\n",
       "   num_layers  num_neurons  batch_size  dropout_rate  epochs  \n",
       "3           3          256         128           0.2      20  \n",
       "1           3          256         128           0.2      20  \n",
       "0           3          256         128           0.2      20  \n",
       "2           3          256         128           0.2      20  "
      ]
     },
     "execution_count": 18,
     "metadata": {
      "tags": []
     },
     "output_type": "execute_result"
    }
   ],
   "source": [
    "df_result.rename(columns = {\"Experiment\": \"activation\"}, inplace = True)\n",
    "df_result.sort_values(by = 'Accuracy', axis = 0, ascending = False)"
   ]
  }
 ],
 "metadata": {
  "accelerator": "GPU",
  "colab": {
   "collapsed_sections": [],
   "name": "EXP_ActivationFunction.ipynb",
   "provenance": [],
   "version": "0.3.2"
  },
  "kernelspec": {
   "display_name": "Python 3",
   "language": "python",
   "name": "python3"
  },
  "language_info": {
   "codemirror_mode": {
    "name": "ipython",
    "version": 3
   },
   "file_extension": ".py",
   "mimetype": "text/x-python",
   "name": "python",
   "nbconvert_exporter": "python",
   "pygments_lexer": "ipython3",
   "version": "3.6.5"
  }
 },
 "nbformat": 4,
 "nbformat_minor": 1
}
