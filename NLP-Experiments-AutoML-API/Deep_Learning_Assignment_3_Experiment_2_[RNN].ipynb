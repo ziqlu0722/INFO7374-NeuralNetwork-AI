{
  "nbformat": 4,
  "nbformat_minor": 0,
  "metadata": {
    "colab": {
      "name": "Deep Learning Assignment 3 Experiment 2 [RNN]",
      "version": "0.3.2",
      "provenance": [],
      "collapsed_sections": [],
      "toc_visible": true
    },
    "kernelspec": {
      "name": "python3",
      "display_name": "Python 3"
    }
  },
  "cells": [
    {
      "metadata": {
        "id": "PHHE5uEoAZZi",
        "colab_type": "text"
      },
      "cell_type": "markdown",
      "source": [
        "## Assignment 3 Experiment 2 [Transfer Learning using RNNs]"
      ]
    },
    {
      "metadata": {
        "id": "BQyyfDWuKKeB",
        "colab_type": "code",
        "outputId": "48df4f7b-9001-443e-950a-4e2b7b3407f5",
        "colab": {
          "base_uri": "https://localhost:8080/",
          "height": 54
        }
      },
      "cell_type": "code",
      "source": [
        "%matplotlib inline\n",
        "\n",
        "from keras.preprocessing import sequence\n",
        "from keras.models import Sequential\n",
        "from keras.layers import Dense, Embedding, Dropout\n",
        "from keras.layers import LSTM, CuDNNLSTM\n",
        "from keras.datasets import imdb\n",
        "\n",
        "from distutils.version import LooseVersion as LV\n",
        "from keras import __version__\n",
        "from keras import backend as K\n",
        "\n",
        "from IPython.display import SVG\n",
        "from keras.utils.vis_utils import model_to_dot\n",
        "\n",
        "import numpy as np\n",
        "import matplotlib.pyplot as plt\n",
        "import seaborn as sns\n",
        "sns.set()\n",
        "\n",
        "print('Using Keras version:', __version__, 'backend:', K.backend())\n",
        "assert(LV(__version__) >= LV(\"2.0.0\"))"
      ],
      "execution_count": 0,
      "outputs": [
        {
          "output_type": "stream",
          "text": [
            "Using TensorFlow backend.\n"
          ],
          "name": "stderr"
        },
        {
          "output_type": "stream",
          "text": [
            "Using Keras version: 2.2.4 backend: tensorflow\n"
          ],
          "name": "stdout"
        }
      ]
    },
    {
      "metadata": {
        "id": "mwKKKyf8gKz7",
        "colab_type": "code",
        "colab": {}
      },
      "cell_type": "code",
      "source": [
        "import matplotlib.pyplot as plt\n",
        "def plotLosses(history):  \n",
        "    plt.plot(history.history['loss'])\n",
        "    plt.plot(history.history['val_loss'])\n",
        "    plt.title('model loss')\n",
        "    plt.ylabel('loss')\n",
        "    plt.xlabel('epoch')\n",
        "    plt.legend(['train', 'validation'], loc='upper right')\n",
        "    plt.show()\n",
        "    \n",
        "def plotAcc(history):  \n",
        "    plt.plot(history.history['acc'])\n",
        "    plt.plot(history.history['val_acc'])\n",
        "    plt.title('model accuracy')\n",
        "    plt.ylabel('accuracy')\n",
        "    plt.xlabel('epoch')\n",
        "    plt.legend(['train', 'validation'], loc='upper right')\n",
        "    plt.show()"
      ],
      "execution_count": 0,
      "outputs": []
    },
    {
      "metadata": {
        "id": "t3Ox-mh8BdeZ",
        "colab_type": "code",
        "colab": {}
      },
      "cell_type": "code",
      "source": [
        "def print_cm(cm, labels, hide_zeroes=False, hide_diagonal=False, hide_threshold=None):\n",
        "    \"\"\"pretty print for confusion matrixes\"\"\"\n",
        "    columnwidth = max([len(x) for x in labels] + [5])  # 5 is value length\n",
        "    empty_cell = \" \" * columnwidth\n",
        "    \n",
        "    # Begin CHANGES\n",
        "    fst_empty_cell = (columnwidth-3)//2 * \" \" + \"t/p\" + (columnwidth-3)//2 * \" \"\n",
        "    \n",
        "    if len(fst_empty_cell) < len(empty_cell):\n",
        "        fst_empty_cell = \" \" * (len(empty_cell) - len(fst_empty_cell)) + fst_empty_cell\n",
        "    # Print header\n",
        "    print(\"    \" + fst_empty_cell, end=\" \")\n",
        "    # End CHANGES\n",
        "    \n",
        "    for label in labels:\n",
        "        print(\"%{0}s\".format(columnwidth) % label, end=\" \")\n",
        "        \n",
        "    print()\n",
        "    # Print rows\n",
        "    for i, label1 in enumerate(labels):\n",
        "        print(\"    %{0}s\".format(columnwidth) % label1, end=\" \")\n",
        "        for j in range(len(labels)):\n",
        "            cell = \"%{0}.1f\".format(columnwidth) % cm[i, j]\n",
        "            if hide_zeroes:\n",
        "                cell = cell if float(cm[i, j]) != 0 else empty_cell\n",
        "            if hide_diagonal:\n",
        "                cell = cell if i != j else empty_cell\n",
        "            if hide_threshold:\n",
        "                cell = cell if cm[i, j] > hide_threshold else empty_cell\n",
        "            print(cell, end=\" \")\n",
        "        print()"
      ],
      "execution_count": 0,
      "outputs": []
    },
    {
      "metadata": {
        "id": "Yh21ZyoJNlDw",
        "colab_type": "code",
        "outputId": "5db72f5f-b101-4811-d41f-057202abac5b",
        "colab": {
          "base_uri": "https://localhost:8080/",
          "height": 184
        }
      },
      "cell_type": "code",
      "source": [
        "# number of most-frequent words to use\n",
        "nb_words = 10000\n",
        "# cut texts after this number of words\n",
        "maxlen = 80\n",
        "\n",
        "print('Loading data...')\n",
        "(x_train, y_train), (x_test, y_test) = imdb.load_data(num_words=nb_words)\n",
        "print('x_train:', x_train.shape)\n",
        "print('x_test:', x_test.shape)\n",
        "print()\n",
        "\n",
        "print('Pad sequences (samples x time)')\n",
        "x_train = sequence.pad_sequences(x_train, maxlen=maxlen)\n",
        "x_test = sequence.pad_sequences(x_test, maxlen=maxlen)\n",
        "print('x_train shape:', x_train.shape)\n",
        "print('x_test shape:', x_test.shape)"
      ],
      "execution_count": 0,
      "outputs": [
        {
          "output_type": "stream",
          "text": [
            "Loading data...\n",
            "Downloading data from https://s3.amazonaws.com/text-datasets/imdb.npz\n",
            "17465344/17464789 [==============================] - 1s 0us/step\n",
            "x_train: (25000,)\n",
            "x_test: (25000,)\n",
            "\n",
            "Pad sequences (samples x time)\n",
            "x_train shape: (25000, 80)\n",
            "x_test shape: (25000, 80)\n"
          ],
          "name": "stdout"
        }
      ]
    },
    {
      "metadata": {
        "id": "alwl4J8PNn8l",
        "colab_type": "code",
        "colab": {}
      },
      "cell_type": "code",
      "source": [
        "# model parameters:\n",
        "embedding_dims = 50\n",
        "lstm_units = 32\n"
      ],
      "execution_count": 0,
      "outputs": []
    },
    {
      "metadata": {
        "id": "BODknvGYuQ-8",
        "colab_type": "text"
      },
      "cell_type": "markdown",
      "source": [
        "## Using best RNN model from experiment 1 to train IMDB dataset"
      ]
    },
    {
      "metadata": {
        "id": "c20iAF6PtiC7",
        "colab_type": "code",
        "colab": {}
      },
      "cell_type": "code",
      "source": [
        "from keras.utils import to_categorical\n",
        "y_train = to_categorical(y_train)\n"
      ],
      "execution_count": 0,
      "outputs": []
    },
    {
      "metadata": {
        "id": "w6G_1ysStiGT",
        "colab_type": "code",
        "outputId": "0f2058d8-9d06-45a3-9c9a-1422aca936b2",
        "colab": {
          "base_uri": "https://localhost:8080/",
          "height": 1148
        }
      },
      "cell_type": "code",
      "source": [
        "from keras.layers import LSTM\n",
        "\n",
        "model = Sequential()\n",
        "model.add(Embedding(nb_words, embedding_dims, input_length=maxlen))\n",
        "model.add(LSTM(32))\n",
        "model.add(Dense(2, activation='softmax'))\n",
        "\n",
        "model.compile(optimizer='adadelta',\n",
        "              loss='poisson',\n",
        "              metrics=['acc'])\n",
        "\n",
        "model.summary()\n",
        "history1 = model.fit(x_train, y_train,\n",
        "                    epochs=20,\n",
        "                    batch_size=128,\n",
        "                    validation_split=0.2)\n",
        "model.save_weights('imdb_weights.h5')\n"
      ],
      "execution_count": 0,
      "outputs": [
        {
          "output_type": "stream",
          "text": [
            "WARNING:tensorflow:From /usr/local/lib/python3.6/dist-packages/tensorflow/python/framework/op_def_library.py:263: colocate_with (from tensorflow.python.framework.ops) is deprecated and will be removed in a future version.\n",
            "Instructions for updating:\n",
            "Colocations handled automatically by placer.\n",
            "_________________________________________________________________\n",
            "Layer (type)                 Output Shape              Param #   \n",
            "=================================================================\n",
            "embedding_1 (Embedding)      (None, 80, 50)            500000    \n",
            "_________________________________________________________________\n",
            "lstm_1 (LSTM)                (None, 32)                10624     \n",
            "_________________________________________________________________\n",
            "dense_1 (Dense)              (None, 2)                 66        \n",
            "=================================================================\n",
            "Total params: 510,690\n",
            "Trainable params: 510,690\n",
            "Non-trainable params: 0\n",
            "_________________________________________________________________\n",
            "WARNING:tensorflow:From /usr/local/lib/python3.6/dist-packages/tensorflow/python/ops/math_ops.py:3066: to_int32 (from tensorflow.python.ops.math_ops) is deprecated and will be removed in a future version.\n",
            "Instructions for updating:\n",
            "Use tf.cast instead.\n",
            "Train on 20000 samples, validate on 5000 samples\n",
            "Epoch 1/20\n",
            "20000/20000 [==============================] - 15s 756us/step - loss: 0.8447 - acc: 0.5505 - val_loss: 0.8411 - val_acc: 0.5868\n",
            "Epoch 2/20\n",
            "20000/20000 [==============================] - 14s 721us/step - loss: 0.8074 - acc: 0.6630 - val_loss: 0.7667 - val_acc: 0.7342\n",
            "Epoch 3/20\n",
            "20000/20000 [==============================] - 14s 695us/step - loss: 0.7433 - acc: 0.7663 - val_loss: 0.7782 - val_acc: 0.7126\n",
            "Epoch 4/20\n",
            "20000/20000 [==============================] - 14s 694us/step - loss: 0.7057 - acc: 0.8166 - val_loss: 0.7847 - val_acc: 0.7388\n",
            "Epoch 5/20\n",
            "20000/20000 [==============================] - 14s 698us/step - loss: 0.6849 - acc: 0.8396 - val_loss: 0.7044 - val_acc: 0.8200\n",
            "Epoch 6/20\n",
            "20000/20000 [==============================] - 14s 693us/step - loss: 0.6685 - acc: 0.8579 - val_loss: 0.6940 - val_acc: 0.8300\n",
            "Epoch 7/20\n",
            "20000/20000 [==============================] - 14s 696us/step - loss: 0.6558 - acc: 0.8696 - val_loss: 0.6877 - val_acc: 0.8328\n",
            "Epoch 8/20\n",
            "20000/20000 [==============================] - 14s 695us/step - loss: 0.6454 - acc: 0.8828 - val_loss: 0.6889 - val_acc: 0.8364\n",
            "Epoch 9/20\n",
            "20000/20000 [==============================] - 14s 696us/step - loss: 0.6381 - acc: 0.8893 - val_loss: 0.7163 - val_acc: 0.8210\n",
            "Epoch 10/20\n",
            "20000/20000 [==============================] - 14s 711us/step - loss: 0.6275 - acc: 0.9002 - val_loss: 0.7342 - val_acc: 0.8244\n",
            "Epoch 11/20\n",
            "20000/20000 [==============================] - 14s 701us/step - loss: 0.6213 - acc: 0.9062 - val_loss: 0.6920 - val_acc: 0.8318\n",
            "Epoch 12/20\n",
            "20000/20000 [==============================] - 14s 706us/step - loss: 0.6152 - acc: 0.9118 - val_loss: 0.7046 - val_acc: 0.8370\n",
            "Epoch 13/20\n",
            "20000/20000 [==============================] - 14s 705us/step - loss: 0.6081 - acc: 0.9200 - val_loss: 0.7439 - val_acc: 0.8274\n",
            "Epoch 14/20\n",
            "20000/20000 [==============================] - 14s 702us/step - loss: 0.6040 - acc: 0.9217 - val_loss: 0.7118 - val_acc: 0.8336\n",
            "Epoch 15/20\n",
            "20000/20000 [==============================] - 14s 697us/step - loss: 0.5987 - acc: 0.9263 - val_loss: 0.7126 - val_acc: 0.8274\n",
            "Epoch 16/20\n",
            "20000/20000 [==============================] - 14s 696us/step - loss: 0.5917 - acc: 0.9339 - val_loss: 0.7243 - val_acc: 0.8318\n",
            "Epoch 17/20\n",
            "20000/20000 [==============================] - 14s 700us/step - loss: 0.5888 - acc: 0.9358 - val_loss: 0.7424 - val_acc: 0.8286\n",
            "Epoch 18/20\n",
            "20000/20000 [==============================] - 14s 707us/step - loss: 0.5820 - acc: 0.9416 - val_loss: 0.7354 - val_acc: 0.8170\n",
            "Epoch 19/20\n",
            "20000/20000 [==============================] - 14s 698us/step - loss: 0.5779 - acc: 0.9457 - val_loss: 0.7604 - val_acc: 0.8080\n",
            "Epoch 20/20\n",
            "20000/20000 [==============================] - 14s 700us/step - loss: 0.5747 - acc: 0.9470 - val_loss: 0.7934 - val_acc: 0.8102\n"
          ],
          "name": "stdout"
        }
      ]
    },
    {
      "metadata": {
        "id": "HD-x3tOmgM2C",
        "colab_type": "code",
        "outputId": "6df49b70-35cb-4439-9ac2-e582216b8d94",
        "colab": {
          "base_uri": "https://localhost:8080/",
          "height": 735
        }
      },
      "cell_type": "code",
      "source": [
        "plotLosses(history1)\n",
        "plotAcc(history1)"
      ],
      "execution_count": 0,
      "outputs": [
        {
          "output_type": "display_data",
          "data": {
            "image/png": "[encoded data removed]",
            "text/plain": [
              "<Figure size 576x396 with 1 Axes>"
            ]
          },
          "metadata": {
            "tags": []
          }
        },
        {
          "output_type": "display_data",
          "data": {
            "image/png": "[encoded data removed]",
            "text/plain": [
              "<Figure size 576x396 with 1 Axes>"
            ]
          },
          "metadata": {
            "tags": []
          }
        }
      ]
    },
    {
      "metadata": {
        "id": "h61wGG1Pdtb9",
        "colab_type": "text"
      },
      "cell_type": "markdown",
      "source": [
        "## Using IMDB weights for our financial dataset\n",
        "\n",
        "\n"
      ]
    },
    {
      "metadata": {
        "id": "UOWtEfzFtxDt",
        "colab_type": "code",
        "colab": {}
      },
      "cell_type": "code",
      "source": [
        "import zipfile\n",
        "zip_ref = zipfile.ZipFile(\"INFO7374_Assignment_3.zip\", 'r')\n",
        "zip_ref.extractall()\n",
        "zip_ref.close()"
      ],
      "execution_count": 0,
      "outputs": []
    },
    {
      "metadata": {
        "id": "b_IHvnGeuFDX",
        "colab_type": "code",
        "colab": {}
      },
      "cell_type": "code",
      "source": [
        "import os\n",
        "import json\n",
        "import numpy as np\n",
        "from random import randrange\n",
        "\n",
        "def load_data(link):\n",
        "  \n",
        "  text = []\n",
        "  sentiment = []\n",
        "\n",
        "  for filename in os.listdir(link):\n",
        "    if filename != '.ipynb_checkpoints':\n",
        "      file_path = os.path.join(link, filename)\n",
        "      with open(file_path, encoding = 'unicode_escape') as f:\n",
        "        dic = json.load(f)\n",
        "\n",
        "        for k, v in dic['text'].items():\n",
        "          text.append(v)\n",
        "        for k, v in dic['sentiment'].items():\n",
        "          sentiment.append(v)\n",
        "  return text, sentiment\n",
        "\n",
        "def preprocess_data(text, sentiment):\n",
        "  # 80-20 split\n",
        "  combo = [list(i) for i in zip(text, sentiment)]\n",
        "  \n",
        "  combo_test = []\n",
        "\n",
        "  test_size = int(len(combo)*0.2)\n",
        "  while len(combo_test) < test_size:\n",
        "    index = randrange(len(combo))\n",
        "    combo_test.append(combo.pop(index))\n",
        "  \n",
        "  x_train = []\n",
        "  y_train = []\n",
        "  x_test = []\n",
        "  y_test = []\n",
        "  # x, y split\n",
        "  for line in combo:\n",
        "    x_train.append(line[0])\n",
        "    if line[1] in ['Positive', 'positive', 'postive']:\n",
        "      y_train.append(2)\n",
        "    elif line[1] in ['Neutral', 'neutral', 'neutra', 'neutra;', 'Neural']:\n",
        "      y_train.append(1)\n",
        "    elif line[1] in ['Negative', 'negative', 'Negetive']:\n",
        "      y_train.append(0)\n",
        "    else:\n",
        "      print('error in sentiment label {}'.format(line[1]))\n",
        "  for line in combo_test:\n",
        "    x_test.append(line[0])\n",
        "    if line[1] in ['Positive', 'positive', 'postive']:\n",
        "      y_test.append(2)\n",
        "    elif line[1] in ['Neutral', 'neutral', 'neutra', 'neutra;', 'Neural']:\n",
        "      y_test.append(1)\n",
        "    elif line[1] in ['Negative', 'negative', 'Negetive']:\n",
        "      y_test.append(0)\n",
        "    else:\n",
        "      print('error in sentiment label {}'.format(line[1]))\n",
        "      \n",
        "  return (x_train, y_train), (x_test, y_test)"
      ],
      "execution_count": 0,
      "outputs": []
    },
    {
      "metadata": {
        "id": "aEIR9Ew5d5SA",
        "colab_type": "code",
        "colab": {}
      },
      "cell_type": "code",
      "source": [
        "link = \"updated-json-files\"\n",
        "text, sentiment = load_data(link)\n",
        "(x_train, y_train), (x_test, y_test) = preprocess_data(text, sentiment)\n",
        "\n"
      ],
      "execution_count": 0,
      "outputs": []
    },
    {
      "metadata": {
        "id": "AR_6j2DFd6_1",
        "colab_type": "code",
        "outputId": "327124d8-178b-4ec5-9d99-c4919e56e677",
        "colab": {
          "base_uri": "https://localhost:8080/",
          "height": 73
        }
      },
      "cell_type": "code",
      "source": [
        "from keras.preprocessing.text import Tokenizer\n",
        "from keras.preprocessing.sequence import pad_sequences\n",
        "import numpy as np\n",
        "\n",
        "maxlen = 100  # We will cut reviews after 100 words\n",
        "training_samples = len(x_train)  # We will be training on 200 samples\n",
        "validation_samples = 10000  # We will be validating on 10000 samples\n",
        "max_words = 10000  # We will only consider the top 10,000 words in the dataset\n",
        "\n",
        "tokenizer = Tokenizer(num_words=max_words)\n",
        "tokenizer.fit_on_texts(text)\n",
        "sequences = tokenizer.texts_to_sequences(text)\n",
        "\n",
        "word_index = tokenizer.word_index\n",
        "print('Found %s unique tokens.' % len(word_index))\n",
        "\n",
        "data = pad_sequences(sequences, maxlen=maxlen)\n",
        "\n",
        "labels = np.asarray(sentiment)\n",
        "print('Shape of data tensor:', data.shape)\n",
        "print('Shape of label tensor:', labels.shape)\n",
        "\n",
        "# Split the data into a training set and a validation set\n",
        "# But first, shuffle the data, since we started from data\n",
        "# where sample are ordered (all negative first, then all positive).\n",
        "indices = np.arange(data.shape[0])\n",
        "np.random.shuffle(indices)\n",
        "data = data[indices]\n",
        "labels = labels[indices]\n",
        "\n",
        "x_train = data[:training_samples]\n",
        "#y_train = labels[:training_samples]\n",
        "x_val = data[training_samples: training_samples + validation_samples]\n",
        "y_val = labels[training_samples: training_samples + validation_samples]"
      ],
      "execution_count": 0,
      "outputs": [
        {
          "output_type": "stream",
          "text": [
            "Found 6396 unique tokens.\n",
            "Shape of data tensor: (1644, 100)\n",
            "Shape of label tensor: (1644,)\n"
          ],
          "name": "stdout"
        }
      ]
    },
    {
      "metadata": {
        "id": "5MNsedXud9jB",
        "colab_type": "code",
        "outputId": "38cdef5d-d247-4ce9-9b09-30c673a24ef8",
        "colab": {
          "base_uri": "https://localhost:8080/",
          "height": 293
        }
      },
      "cell_type": "code",
      "source": [
        "!wget http://nlp.stanford.edu/data/glove.6B.zip"
      ],
      "execution_count": 0,
      "outputs": [
        {
          "output_type": "stream",
          "text": [
            "--2019-03-18 20:22:24--  http://nlp.stanford.edu/data/glove.6B.zip\n",
            "Resolving nlp.stanford.edu (nlp.stanford.edu)... 171.64.67.140\n",
            "Connecting to nlp.stanford.edu (nlp.stanford.edu)|171.64.67.140|:80... connected.\n",
            "HTTP request sent, awaiting response... 302 Found\n",
            "Location: https://nlp.stanford.edu/data/glove.6B.zip [following]\n",
            "--2019-03-18 20:22:24--  https://nlp.stanford.edu/data/glove.6B.zip\n",
            "Connecting to nlp.stanford.edu (nlp.stanford.edu)|171.64.67.140|:443... connected.\n",
            "HTTP request sent, awaiting response... 200 OK\n",
            "Length: 862182613 (822M) [application/zip]\n",
            "Saving to: ‘glove.6B.zip’\n",
            "\n",
            "glove.6B.zip        100%[===================>] 822.24M  5.46MB/s    in 3m 46s  \n",
            "\n",
            "2019-03-18 20:26:10 (3.65 MB/s) - ‘glove.6B.zip’ saved [862182613/862182613]\n",
            "\n"
          ],
          "name": "stdout"
        }
      ]
    },
    {
      "metadata": {
        "id": "w_dOv0GueDlk",
        "colab_type": "code",
        "colab": {}
      },
      "cell_type": "code",
      "source": [
        "import zipfile\n",
        "with zipfile.ZipFile(\"glove.6B.zip\",\"r\") as zip_ref:\n",
        "    zip_ref.extractall()"
      ],
      "execution_count": 0,
      "outputs": []
    },
    {
      "metadata": {
        "id": "nc_rPSRXeFdd",
        "colab_type": "code",
        "outputId": "2172b4fe-f423-4cd0-fdbd-3f14e4fe88f2",
        "colab": {
          "base_uri": "https://localhost:8080/",
          "height": 36
        }
      },
      "cell_type": "code",
      "source": [
        "embeddings_index = {}\n",
        "f = open('glove.6B.100d.txt')\n",
        "for line in f:\n",
        "    values = line.split()\n",
        "    word = values[0]\n",
        "    coefs = np.asarray(values[1:], dtype='float32')\n",
        "    embeddings_index[word] = coefs\n",
        "f.close()\n",
        "\n",
        "print('Found %s word vectors.' % len(embeddings_index))"
      ],
      "execution_count": 0,
      "outputs": [
        {
          "output_type": "stream",
          "text": [
            "Found 400000 word vectors.\n"
          ],
          "name": "stdout"
        }
      ]
    },
    {
      "metadata": {
        "id": "YvoSdBvyeHZ1",
        "colab_type": "code",
        "colab": {}
      },
      "cell_type": "code",
      "source": [
        "embedding_dim = 100\n",
        "\n",
        "embedding_matrix = np.zeros((max_words, embedding_dim))\n",
        "for word, i in word_index.items():\n",
        "    embedding_vector = embeddings_index.get(word)\n",
        "    if i < max_words:\n",
        "        if embedding_vector is not None:\n",
        "            # Words not found in embedding index will be all-zeros.\n",
        "            embedding_matrix[i] = embedding_vector"
      ],
      "execution_count": 0,
      "outputs": []
    },
    {
      "metadata": {
        "id": "3njC_89ye-vd",
        "colab_type": "code",
        "colab": {}
      },
      "cell_type": "code",
      "source": [
        "from keras.utils import to_categorical\n",
        "y_train = to_categorical(y_train)\n",
        "y_test = to_categorical(y_test)"
      ],
      "execution_count": 0,
      "outputs": []
    },
    {
      "metadata": {
        "id": "HiESILg-eJJ_",
        "colab_type": "code",
        "outputId": "1be1188d-1772-4653-fac2-4e4626ccf0c8",
        "colab": {
          "base_uri": "https://localhost:8080/",
          "height": 3980
        }
      },
      "cell_type": "code",
      "source": [
        "from keras.layers import LSTM\n",
        "\n",
        "model = Sequential()\n",
        "model.add(Embedding(max_words, embedding_dim, input_length=maxlen))\n",
        "model.add(LSTM(32))\n",
        "model.add(Dense(3, activation='softmax'))\n",
        "\n",
        "model.compile(optimizer='adadelta',\n",
        "              loss='poisson',\n",
        "              metrics=['acc'])\n",
        "model.load_weights('imdb_weights.h5',by_name=True)\n",
        "\n",
        "model.summary()\n",
        "history2 = model.fit(x_train, y_train,\n",
        "                    epochs=100,\n",
        "                    batch_size=128,\n",
        "                    validation_data=(x_val,y_test))\n",
        "\n"
      ],
      "execution_count": 0,
      "outputs": [
        {
          "output_type": "stream",
          "text": [
            "_________________________________________________________________\n",
            "Layer (type)                 Output Shape              Param #   \n",
            "=================================================================\n",
            "embedding_3 (Embedding)      (None, 100, 100)          1000000   \n",
            "_________________________________________________________________\n",
            "lstm_3 (LSTM)                (None, 32)                17024     \n",
            "_________________________________________________________________\n",
            "dense_3 (Dense)              (None, 3)                 99        \n",
            "=================================================================\n",
            "Total params: 1,017,123\n",
            "Trainable params: 1,017,123\n",
            "Non-trainable params: 0\n",
            "_________________________________________________________________\n",
            "Train on 1316 samples, validate on 328 samples\n",
            "Epoch 1/100\n",
            "1316/1316 [==============================] - 3s 2ms/step - loss: 0.6940 - acc: 0.4605 - val_loss: 0.6859 - val_acc: 0.5061\n",
            "Epoch 2/100\n",
            "1316/1316 [==============================] - 1s 1ms/step - loss: 0.6791 - acc: 0.5068 - val_loss: 0.6682 - val_acc: 0.5061\n",
            "Epoch 3/100\n",
            "1316/1316 [==============================] - 2s 1ms/step - loss: 0.6588 - acc: 0.5068 - val_loss: 0.6492 - val_acc: 0.5061\n",
            "Epoch 4/100\n",
            "1316/1316 [==============================] - 2s 1ms/step - loss: 0.6467 - acc: 0.5068 - val_loss: 0.6463 - val_acc: 0.5061\n",
            "Epoch 5/100\n",
            "1316/1316 [==============================] - 1s 1ms/step - loss: 0.6451 - acc: 0.5068 - val_loss: 0.6465 - val_acc: 0.5061\n",
            "Epoch 6/100\n",
            "1316/1316 [==============================] - 1s 1ms/step - loss: 0.6451 - acc: 0.5068 - val_loss: 0.6466 - val_acc: 0.5061\n",
            "Epoch 7/100\n",
            "1316/1316 [==============================] - 1s 1ms/step - loss: 0.6450 - acc: 0.5068 - val_loss: 0.6470 - val_acc: 0.5061\n",
            "Epoch 8/100\n",
            "1316/1316 [==============================] - 1s 1ms/step - loss: 0.6451 - acc: 0.5068 - val_loss: 0.6460 - val_acc: 0.5061\n",
            "Epoch 9/100\n",
            "1316/1316 [==============================] - 1s 1ms/step - loss: 0.6446 - acc: 0.5068 - val_loss: 0.6473 - val_acc: 0.5061\n",
            "Epoch 10/100\n",
            "1316/1316 [==============================] - 1s 1ms/step - loss: 0.6444 - acc: 0.5068 - val_loss: 0.6459 - val_acc: 0.5061\n",
            "Epoch 11/100\n",
            "1316/1316 [==============================] - 1s 1ms/step - loss: 0.6443 - acc: 0.5068 - val_loss: 0.6459 - val_acc: 0.5061\n",
            "Epoch 12/100\n",
            "1316/1316 [==============================] - 2s 1ms/step - loss: 0.6438 - acc: 0.5068 - val_loss: 0.6459 - val_acc: 0.5061\n",
            "Epoch 13/100\n",
            "1316/1316 [==============================] - 1s 1ms/step - loss: 0.6440 - acc: 0.5068 - val_loss: 0.6460 - val_acc: 0.5061\n",
            "Epoch 14/100\n",
            "1316/1316 [==============================] - 1s 1ms/step - loss: 0.6436 - acc: 0.5068 - val_loss: 0.6465 - val_acc: 0.5061\n",
            "Epoch 15/100\n",
            "1316/1316 [==============================] - 1s 1ms/step - loss: 0.6438 - acc: 0.5068 - val_loss: 0.6461 - val_acc: 0.5061\n",
            "Epoch 16/100\n",
            "1316/1316 [==============================] - 1s 1ms/step - loss: 0.6433 - acc: 0.5068 - val_loss: 0.6462 - val_acc: 0.5061\n",
            "Epoch 17/100\n",
            "1316/1316 [==============================] - 1s 1ms/step - loss: 0.6430 - acc: 0.5068 - val_loss: 0.6463 - val_acc: 0.5061\n",
            "Epoch 18/100\n",
            "1316/1316 [==============================] - 1s 1ms/step - loss: 0.6433 - acc: 0.5068 - val_loss: 0.6463 - val_acc: 0.5061\n",
            "Epoch 19/100\n",
            "1316/1316 [==============================] - 1s 1ms/step - loss: 0.6429 - acc: 0.5068 - val_loss: 0.6470 - val_acc: 0.5061\n",
            "Epoch 20/100\n",
            "1316/1316 [==============================] - 1s 1ms/step - loss: 0.6429 - acc: 0.5068 - val_loss: 0.6464 - val_acc: 0.5061\n",
            "Epoch 21/100\n",
            "1316/1316 [==============================] - 1s 1ms/step - loss: 0.6422 - acc: 0.5068 - val_loss: 0.6464 - val_acc: 0.5061\n",
            "Epoch 22/100\n",
            "1316/1316 [==============================] - 1s 1ms/step - loss: 0.6419 - acc: 0.5068 - val_loss: 0.6464 - val_acc: 0.5061\n",
            "Epoch 23/100\n",
            "1316/1316 [==============================] - 1s 1ms/step - loss: 0.6419 - acc: 0.5068 - val_loss: 0.6465 - val_acc: 0.5061\n",
            "Epoch 24/100\n",
            "1316/1316 [==============================] - 1s 1ms/step - loss: 0.6416 - acc: 0.5068 - val_loss: 0.6470 - val_acc: 0.5000\n",
            "Epoch 25/100\n",
            "1316/1316 [==============================] - 1s 1ms/step - loss: 0.6410 - acc: 0.5099 - val_loss: 0.6472 - val_acc: 0.5061\n",
            "Epoch 26/100\n",
            "1316/1316 [==============================] - 1s 1ms/step - loss: 0.6408 - acc: 0.5068 - val_loss: 0.6471 - val_acc: 0.5061\n",
            "Epoch 27/100\n",
            "1316/1316 [==============================] - 1s 1ms/step - loss: 0.6406 - acc: 0.5091 - val_loss: 0.6467 - val_acc: 0.5061\n",
            "Epoch 28/100\n",
            "1316/1316 [==============================] - 1s 1ms/step - loss: 0.6399 - acc: 0.5061 - val_loss: 0.6473 - val_acc: 0.5061\n",
            "Epoch 29/100\n",
            "1316/1316 [==============================] - 1s 1ms/step - loss: 0.6396 - acc: 0.5068 - val_loss: 0.6472 - val_acc: 0.5061\n",
            "Epoch 30/100\n",
            "1316/1316 [==============================] - 1s 1ms/step - loss: 0.6389 - acc: 0.5068 - val_loss: 0.6471 - val_acc: 0.5061\n",
            "Epoch 31/100\n",
            "1316/1316 [==============================] - 1s 1ms/step - loss: 0.6385 - acc: 0.5046 - val_loss: 0.6477 - val_acc: 0.5061\n",
            "Epoch 32/100\n",
            "1316/1316 [==============================] - 1s 1ms/step - loss: 0.6374 - acc: 0.5076 - val_loss: 0.6474 - val_acc: 0.4848\n",
            "Epoch 33/100\n",
            "1316/1316 [==============================] - 1s 1ms/step - loss: 0.6374 - acc: 0.5084 - val_loss: 0.6474 - val_acc: 0.4878\n",
            "Epoch 34/100\n",
            "1316/1316 [==============================] - 1s 1ms/step - loss: 0.6364 - acc: 0.5160 - val_loss: 0.6478 - val_acc: 0.4970\n",
            "Epoch 35/100\n",
            "1316/1316 [==============================] - 1s 1ms/step - loss: 0.6358 - acc: 0.5152 - val_loss: 0.6480 - val_acc: 0.5061\n",
            "Epoch 36/100\n",
            "1316/1316 [==============================] - 1s 1ms/step - loss: 0.6344 - acc: 0.5220 - val_loss: 0.6509 - val_acc: 0.5061\n",
            "Epoch 37/100\n",
            "1316/1316 [==============================] - 1s 1ms/step - loss: 0.6343 - acc: 0.5122 - val_loss: 0.6483 - val_acc: 0.5061\n",
            "Epoch 38/100\n",
            "1316/1316 [==============================] - 1s 1ms/step - loss: 0.6328 - acc: 0.5312 - val_loss: 0.6495 - val_acc: 0.4817\n",
            "Epoch 39/100\n",
            "1316/1316 [==============================] - 1s 1ms/step - loss: 0.6315 - acc: 0.5403 - val_loss: 0.6491 - val_acc: 0.5030\n",
            "Epoch 40/100\n",
            "1316/1316 [==============================] - 1s 1ms/step - loss: 0.6297 - acc: 0.5365 - val_loss: 0.6494 - val_acc: 0.4970\n",
            "Epoch 41/100\n",
            "1316/1316 [==============================] - 1s 1ms/step - loss: 0.6279 - acc: 0.5456 - val_loss: 0.6508 - val_acc: 0.4756\n",
            "Epoch 42/100\n",
            "1316/1316 [==============================] - 1s 1ms/step - loss: 0.6264 - acc: 0.5471 - val_loss: 0.6503 - val_acc: 0.5030\n",
            "Epoch 43/100\n",
            "1316/1316 [==============================] - 1s 1ms/step - loss: 0.6238 - acc: 0.5585 - val_loss: 0.6510 - val_acc: 0.4909\n",
            "Epoch 44/100\n",
            "1316/1316 [==============================] - 1s 1ms/step - loss: 0.6223 - acc: 0.5600 - val_loss: 0.6522 - val_acc: 0.4695\n",
            "Epoch 45/100\n",
            "1316/1316 [==============================] - 2s 1ms/step - loss: 0.6190 - acc: 0.5805 - val_loss: 0.6555 - val_acc: 0.4970\n",
            "Epoch 46/100\n",
            "1316/1316 [==============================] - 1s 1ms/step - loss: 0.6157 - acc: 0.5767 - val_loss: 0.6561 - val_acc: 0.4360\n",
            "Epoch 47/100\n",
            "1316/1316 [==============================] - 1s 1ms/step - loss: 0.6134 - acc: 0.5973 - val_loss: 0.6558 - val_acc: 0.4695\n",
            "Epoch 48/100\n",
            "1316/1316 [==============================] - 1s 1ms/step - loss: 0.6083 - acc: 0.6299 - val_loss: 0.6640 - val_acc: 0.5000\n",
            "Epoch 49/100\n",
            "1316/1316 [==============================] - 1s 1ms/step - loss: 0.6066 - acc: 0.6254 - val_loss: 0.6583 - val_acc: 0.4939\n",
            "Epoch 50/100\n",
            "1316/1316 [==============================] - 1s 1ms/step - loss: 0.6016 - acc: 0.6299 - val_loss: 0.6645 - val_acc: 0.5061\n",
            "Epoch 51/100\n",
            "1316/1316 [==============================] - 1s 1ms/step - loss: 0.5944 - acc: 0.6459 - val_loss: 0.6712 - val_acc: 0.5091\n",
            "Epoch 52/100\n",
            "1316/1316 [==============================] - 1s 1ms/step - loss: 0.5890 - acc: 0.6695 - val_loss: 0.6671 - val_acc: 0.4421\n",
            "Epoch 53/100\n",
            "1316/1316 [==============================] - 1s 1ms/step - loss: 0.5873 - acc: 0.6626 - val_loss: 0.6677 - val_acc: 0.4939\n",
            "Epoch 54/100\n",
            "1316/1316 [==============================] - 2s 1ms/step - loss: 0.5760 - acc: 0.6930 - val_loss: 0.6764 - val_acc: 0.4360\n",
            "Epoch 55/100\n",
            "1316/1316 [==============================] - 2s 1ms/step - loss: 0.5717 - acc: 0.6953 - val_loss: 0.6667 - val_acc: 0.4665\n",
            "Epoch 56/100\n",
            "1316/1316 [==============================] - 2s 1ms/step - loss: 0.5651 - acc: 0.7188 - val_loss: 0.6820 - val_acc: 0.4695\n",
            "Epoch 57/100\n",
            "1316/1316 [==============================] - 2s 1ms/step - loss: 0.5573 - acc: 0.7249 - val_loss: 0.7323 - val_acc: 0.5274\n",
            "Epoch 58/100\n",
            "1316/1316 [==============================] - 1s 1ms/step - loss: 0.5634 - acc: 0.7097 - val_loss: 0.6782 - val_acc: 0.4573\n",
            "Epoch 59/100\n",
            "1316/1316 [==============================] - 1s 1ms/step - loss: 0.5385 - acc: 0.7553 - val_loss: 0.6801 - val_acc: 0.4878\n",
            "Epoch 60/100\n",
            "1316/1316 [==============================] - 1s 1ms/step - loss: 0.5310 - acc: 0.7622 - val_loss: 0.7003 - val_acc: 0.4573\n",
            "Epoch 61/100\n",
            "1316/1316 [==============================] - 1s 1ms/step - loss: 0.5347 - acc: 0.7599 - val_loss: 0.7111 - val_acc: 0.5274\n",
            "Epoch 62/100\n",
            "1316/1316 [==============================] - 1s 1ms/step - loss: 0.5166 - acc: 0.7857 - val_loss: 0.6931 - val_acc: 0.4817\n",
            "Epoch 63/100\n",
            "1316/1316 [==============================] - 1s 1ms/step - loss: 0.5047 - acc: 0.8047 - val_loss: 0.7341 - val_acc: 0.5091\n",
            "Epoch 64/100\n",
            "1316/1316 [==============================] - 1s 1ms/step - loss: 0.4973 - acc: 0.8237 - val_loss: 0.7148 - val_acc: 0.4421\n",
            "Epoch 65/100\n",
            "1316/1316 [==============================] - 1s 1ms/step - loss: 0.4925 - acc: 0.8184 - val_loss: 0.7117 - val_acc: 0.4726\n",
            "Epoch 66/100\n",
            "1316/1316 [==============================] - 1s 1ms/step - loss: 0.4741 - acc: 0.8526 - val_loss: 0.7771 - val_acc: 0.4482\n",
            "Epoch 67/100\n",
            "1316/1316 [==============================] - 1s 1ms/step - loss: 0.4892 - acc: 0.8237 - val_loss: 0.7605 - val_acc: 0.3963\n",
            "Epoch 68/100\n",
            "1316/1316 [==============================] - 1s 1ms/step - loss: 0.4722 - acc: 0.8625 - val_loss: 0.7496 - val_acc: 0.4665\n",
            "Epoch 69/100\n",
            "1316/1316 [==============================] - 1s 1ms/step - loss: 0.4556 - acc: 0.8761 - val_loss: 0.7618 - val_acc: 0.4970\n",
            "Epoch 70/100\n",
            "1316/1316 [==============================] - 1s 1ms/step - loss: 0.4524 - acc: 0.8769 - val_loss: 0.7514 - val_acc: 0.4787\n",
            "Epoch 71/100\n",
            "1316/1316 [==============================] - 1s 1ms/step - loss: 0.4432 - acc: 0.8944 - val_loss: 0.7646 - val_acc: 0.4817\n",
            "Epoch 72/100\n",
            "1316/1316 [==============================] - 1s 1ms/step - loss: 0.4378 - acc: 0.8967 - val_loss: 0.7766 - val_acc: 0.4634\n",
            "Epoch 73/100\n",
            "1316/1316 [==============================] - 1s 1ms/step - loss: 0.4311 - acc: 0.9081 - val_loss: 0.7895 - val_acc: 0.5000\n",
            "Epoch 74/100\n",
            "1316/1316 [==============================] - 1s 1ms/step - loss: 0.4159 - acc: 0.9248 - val_loss: 0.8520 - val_acc: 0.3841\n",
            "Epoch 75/100\n",
            "1316/1316 [==============================] - 1s 1ms/step - loss: 0.4358 - acc: 0.8929 - val_loss: 0.7847 - val_acc: 0.4695\n",
            "Epoch 76/100\n",
            "1316/1316 [==============================] - 1s 1ms/step - loss: 0.4049 - acc: 0.9354 - val_loss: 0.8524 - val_acc: 0.4878\n",
            "Epoch 77/100\n",
            "1316/1316 [==============================] - 1s 1ms/step - loss: 0.4007 - acc: 0.9384 - val_loss: 0.8284 - val_acc: 0.5213\n",
            "Epoch 78/100\n",
            "1316/1316 [==============================] - 1s 1ms/step - loss: 0.3976 - acc: 0.9331 - val_loss: 0.8643 - val_acc: 0.4939\n",
            "Epoch 79/100\n",
            "1316/1316 [==============================] - 1s 1ms/step - loss: 0.4056 - acc: 0.9149 - val_loss: 0.8635 - val_acc: 0.5091\n",
            "Epoch 80/100\n",
            "1316/1316 [==============================] - 1s 1ms/step - loss: 0.3891 - acc: 0.9491 - val_loss: 0.8716 - val_acc: 0.4909\n",
            "Epoch 81/100\n",
            "1316/1316 [==============================] - 1s 1ms/step - loss: 0.3864 - acc: 0.9468 - val_loss: 0.8986 - val_acc: 0.5122\n",
            "Epoch 82/100\n",
            "1316/1316 [==============================] - 1s 1ms/step - loss: 0.3827 - acc: 0.9498 - val_loss: 0.9164 - val_acc: 0.5030\n",
            "Epoch 83/100\n",
            "1316/1316 [==============================] - 1s 1ms/step - loss: 0.3937 - acc: 0.9392 - val_loss: 0.9096 - val_acc: 0.4939\n",
            "Epoch 84/100\n",
            "1316/1316 [==============================] - 1s 1ms/step - loss: 0.3784 - acc: 0.9514 - val_loss: 0.9482 - val_acc: 0.5091\n",
            "Epoch 85/100\n",
            "1316/1316 [==============================] - 1s 1ms/step - loss: 0.3778 - acc: 0.9491 - val_loss: 0.9517 - val_acc: 0.4878\n",
            "Epoch 86/100\n",
            "1316/1316 [==============================] - 1s 1ms/step - loss: 0.3740 - acc: 0.9552 - val_loss: 0.9331 - val_acc: 0.4787\n",
            "Epoch 87/100\n",
            "1316/1316 [==============================] - 1s 1ms/step - loss: 0.3755 - acc: 0.9529 - val_loss: 0.9995 - val_acc: 0.4848\n",
            "Epoch 88/100\n",
            "1316/1316 [==============================] - 1s 1ms/step - loss: 0.3731 - acc: 0.9529 - val_loss: 0.9625 - val_acc: 0.4726\n",
            "Epoch 89/100\n",
            "1316/1316 [==============================] - 1s 1ms/step - loss: 0.3714 - acc: 0.9590 - val_loss: 0.9835 - val_acc: 0.4726\n",
            "Epoch 90/100\n",
            "1316/1316 [==============================] - 1s 1ms/step - loss: 0.3727 - acc: 0.9506 - val_loss: 1.0048 - val_acc: 0.4787\n",
            "Epoch 91/100\n",
            "1316/1316 [==============================] - 1s 1ms/step - loss: 0.3708 - acc: 0.9559 - val_loss: 1.0353 - val_acc: 0.4848\n",
            "Epoch 92/100\n",
            "1316/1316 [==============================] - 1s 1ms/step - loss: 0.3706 - acc: 0.9597 - val_loss: 1.0484 - val_acc: 0.4878\n",
            "Epoch 93/100\n",
            "1316/1316 [==============================] - 1s 1ms/step - loss: 0.3681 - acc: 0.9544 - val_loss: 1.0230 - val_acc: 0.4665\n",
            "Epoch 94/100\n",
            "1316/1316 [==============================] - 2s 1ms/step - loss: 0.3667 - acc: 0.9574 - val_loss: 1.0256 - val_acc: 0.4787\n",
            "Epoch 95/100\n",
            "1316/1316 [==============================] - 1s 1ms/step - loss: 0.3665 - acc: 0.9582 - val_loss: 1.0508 - val_acc: 0.5061\n",
            "Epoch 96/100\n",
            "1316/1316 [==============================] - 1s 1ms/step - loss: 0.3675 - acc: 0.9590 - val_loss: 1.0829 - val_acc: 0.4665\n",
            "Epoch 97/100\n",
            "1316/1316 [==============================] - 1s 1ms/step - loss: 0.3765 - acc: 0.9476 - val_loss: 1.0630 - val_acc: 0.4848\n",
            "Epoch 98/100\n",
            "1316/1316 [==============================] - 1s 1ms/step - loss: 0.3657 - acc: 0.9574 - val_loss: 1.0806 - val_acc: 0.4726\n",
            "Epoch 99/100\n",
            "1316/1316 [==============================] - 1s 1ms/step - loss: 0.3678 - acc: 0.9552 - val_loss: 1.0444 - val_acc: 0.4970\n",
            "Epoch 100/100\n",
            "1316/1316 [==============================] - 1s 1ms/step - loss: 0.3654 - acc: 0.9597 - val_loss: 1.0712 - val_acc: 0.4939\n"
          ],
          "name": "stdout"
        }
      ]
    },
    {
      "metadata": {
        "id": "J9Mkl4dofRFY",
        "colab_type": "code",
        "outputId": "ee25221b-dffb-4279-9c1a-a722cdcd5e49",
        "colab": {
          "base_uri": "https://localhost:8080/",
          "height": 735
        }
      },
      "cell_type": "code",
      "source": [
        "plotLosses(history2)\n",
        "plotAcc(history2)"
      ],
      "execution_count": 0,
      "outputs": [
        {
          "output_type": "display_data",
          "data": {
            "image/png": "[encoded data removed]",
            "text/plain": [
              "<Figure size 576x396 with 1 Axes>"
            ]
          },
          "metadata": {
            "tags": []
          }
        },
        {
          "output_type": "display_data",
          "data": {
            "image/png": "[encoded data removed]",
            "text/plain": [
              "<Figure size 576x396 with 1 Axes>"
            ]
          },
          "metadata": {
            "tags": []
          }
        }
      ]
    },
    {
      "metadata": {
        "id": "ibk7jlPKgRvy",
        "colab_type": "code",
        "outputId": "4382ece6-94a2-4e7c-b278-0e475d6b470b",
        "colab": {
          "base_uri": "https://localhost:8080/",
          "height": 110
        }
      },
      "cell_type": "code",
      "source": [
        "y_pred = model.predict_classes(x_val)\n",
        "from sklearn.metrics import accuracy_score\n",
        "from sklearn.metrics import confusion_matrix\n",
        "cm = confusion_matrix(y_test.argmax(axis=1),y_pred)\n",
        "print(\"The accuracy score for this model is \"+str(100*accuracy_score(y_test.argmax(axis=1),y_pred))+\"% accurate.\")\n",
        "\n",
        "print_cm(cm,[\"positive\",\"negative\",\"neutral\"])"
      ],
      "execution_count": 0,
      "outputs": [
        {
          "output_type": "stream",
          "text": [
            "The accuracy score for this model is 49.390243902439025% accurate.\n",
            "       t/p   positive negative  neutral \n",
            "    positive      1.0     20.0     10.0 \n",
            "    negative      4.0     97.0     65.0 \n",
            "     neutral      8.0     59.0     64.0 \n"
          ],
          "name": "stdout"
        }
      ]
    },
    {
      "metadata": {
        "id": "GAinWLmPEKxP",
        "colab_type": "text"
      },
      "cell_type": "markdown",
      "source": [
        "We notice that transfer learning accuracy is slightly higher than RNN accuracy from experiment 1."
      ]
    },
    {
      "metadata": {
        "id": "uo-iWY3VDLr0",
        "colab_type": "code",
        "colab": {}
      },
      "cell_type": "code",
      "source": [
        ""
      ],
      "execution_count": 0,
      "outputs": []
    }
  ]
}