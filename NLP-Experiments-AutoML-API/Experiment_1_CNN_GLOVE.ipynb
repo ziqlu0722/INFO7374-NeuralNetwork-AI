{
  "nbformat": 4,
  "nbformat_minor": 0,
  "metadata": {
    "colab": {
      "name": "Experiment-1-CNN-GLOVE.ipynb",
      "version": "0.3.2",
      "provenance": [],
      "collapsed_sections": [
        "Rsx9iwfj4Ak3",
        "CyWVTaPs2qJm",
        "psNtoKXXoJNA"
      ],
      "toc_visible": true
    },
    "kernelspec": {
      "name": "python3",
      "display_name": "Python 3"
    },
    "accelerator": "GPU"
  },
  "cells": [
    {
      "metadata": {
        "id": "Pbw_PwyYjJO1",
        "colab_type": "code",
        "colab": {}
      },
      "cell_type": "code",
      "source": [
        "import os\n",
        "import json\n",
        "import numpy as np\n",
        "from random import randrange\n",
        "import zipfile"
      ],
      "execution_count": 0,
      "outputs": []
    },
    {
      "metadata": {
        "id": "Rsx9iwfj4Ak3",
        "colab_type": "text"
      },
      "cell_type": "markdown",
      "source": [
        "# 1.Preprocess Data\n"
      ]
    },
    {
      "metadata": {
        "id": "CyWVTaPs2qJm",
        "colab_type": "text"
      },
      "cell_type": "markdown",
      "source": [
        "###1.Load Data"
      ]
    },
    {
      "metadata": {
        "id": "d7wBjICwjQVq",
        "colab_type": "code",
        "colab": {}
      },
      "cell_type": "code",
      "source": [
        "def load_data(link):\n",
        "  \n",
        "  text = []\n",
        "  sentiment = []\n",
        "\n",
        "  for filename in os.listdir(link):\n",
        "    if filename != '.ipynb_checkpoints':\n",
        "      file_path = os.path.join(link, filename)\n",
        "      with open(file_path, encoding = 'unicode_escape') as f:\n",
        "        dic = json.load(f)\n",
        "\n",
        "        for k, v in dic['text'].items():\n",
        "          text.append(v)\n",
        "        for k, v in dic['sentiment'].items():\n",
        "          sentiment.append(v)\n",
        "  return text, sentiment"
      ],
      "execution_count": 0,
      "outputs": []
    },
    {
      "metadata": {
        "id": "3dJEd10c37c_",
        "colab_type": "code",
        "colab": {}
      },
      "cell_type": "code",
      "source": [
        "def preprocess_data(text, sentiment):\n",
        "  # 80-20 split\n",
        "  combo = [list(i) for i in zip(text, sentiment)]\n",
        "  \n",
        "  combo_test = []\n",
        "\n",
        "  test_size = int(len(combo)*0.2)\n",
        "  while len(combo_test) < test_size:\n",
        "    index = randrange(len(combo))\n",
        "    combo_test.append(combo.pop(index))\n",
        "  \n",
        "  x_train = []\n",
        "  y_train = []\n",
        "  x_test = []\n",
        "  y_test = []\n",
        "  # x, y split\n",
        "  for line in combo:\n",
        "    x_train.append(line[0])\n",
        "    if line[1] in ['Positive', 'positive', 'postive']:\n",
        "      y_train.append(2)\n",
        "    elif line[1] in ['Neutral', 'neutral', 'neutra', 'neutra;', 'Neural']:\n",
        "      y_train.append(1)\n",
        "    elif line[1] in ['Negative', 'negative', 'Negetive']:\n",
        "      y_train.append(0)\n",
        "    else:\n",
        "      print('error in sentiment label {}'.format(line[1]))\n",
        "  for line in combo_test:\n",
        "    x_test.append(line[0])\n",
        "    if line[1] in ['Positive', 'positive', 'postive']:\n",
        "      y_test.append(2)\n",
        "    elif line[1] in ['Neutral', 'neutral', 'neutra', 'neutra;', 'Neural']:\n",
        "      y_test.append(1)\n",
        "    elif line[1] in ['Negative', 'negative', 'Negetive']:\n",
        "      y_test.append(0)\n",
        "    else:\n",
        "      print('error in sentiment label {}'.format(line[1]))\n",
        "      \n",
        "  return (x_train, y_train), (x_test, y_test)"
      ],
      "execution_count": 0,
      "outputs": []
    },
    {
      "metadata": {
        "id": "qufGKe6S204Z",
        "colab_type": "code",
        "colab": {}
      },
      "cell_type": "code",
      "source": [
        "link = 'drive/INFO7374_NeuralNetwork&AI/Assignment_3/data/updated-json-files'\n",
        "text, sentiment = load_data(link)\n",
        "(x_train, y_train), (x_test, y_test) = preprocess_data(text, sentiment)"
      ],
      "execution_count": 0,
      "outputs": []
    },
    {
      "metadata": {
        "id": "5YZyfWNbd_hA",
        "colab_type": "code",
        "colab": {}
      },
      "cell_type": "code",
      "source": [
        "# convert to one-hot encoding\n",
        "\n",
        "from keras.utils import to_categorical\n",
        "\n",
        "y_train = to_categorical(y_train)\n",
        "y_test = to_categorical(y_test)"
      ],
      "execution_count": 0,
      "outputs": []
    },
    {
      "metadata": {
        "id": "XuMk60uocOoF",
        "colab_type": "code",
        "outputId": "80ea1b29-0d2a-43ba-a546-9f0f65b428a0",
        "colab": {
          "base_uri": "https://localhost:8080/",
          "height": 34
        }
      },
      "cell_type": "code",
      "source": [
        "len(x_train), len(x_test)"
      ],
      "execution_count": 0,
      "outputs": [
        {
          "output_type": "execute_result",
          "data": {
            "text/plain": [
              "(1316, 328)"
            ]
          },
          "metadata": {
            "tags": []
          },
          "execution_count": 31
        }
      ]
    },
    {
      "metadata": {
        "id": "E0U1ew2K-L2h",
        "colab_type": "text"
      },
      "cell_type": "markdown",
      "source": [
        "### 2.Tokenize The Data"
      ]
    },
    {
      "metadata": {
        "id": "G5vf1_Cv4V_M",
        "colab_type": "code",
        "outputId": "302f1e50-e5c1-4653-edd5-0b84fc704a19",
        "colab": {
          "base_uri": "https://localhost:8080/",
          "height": 68
        }
      },
      "cell_type": "code",
      "source": [
        "from keras.preprocessing.text import Tokenizer\n",
        "from keras.preprocessing.sequence import pad_sequences\n",
        "import numpy as np\n",
        "\n",
        "maxlen = 100  # We will cut reviews after 100 words\n",
        "training_samples = 1000  # We will be training on 1000 samples\n",
        "validation_samples = 316  # We will be validating on 316 samples\n",
        "max_words = 10000  # We will only consider the top 10,000 words in the dataset\n",
        "\n",
        "tokenizer = Tokenizer(num_words=max_words)\n",
        "tokenizer.fit_on_texts(x_train)\n",
        "sequences = tokenizer.texts_to_sequences(x_train)\n",
        "\n",
        "sequences_test = tokenizer.texts_to_sequences(x_test)\n",
        "x_test = pad_sequences(sequences_test, maxlen=maxlen)\n",
        "y_test = np.asarray(y_test)\n",
        "\n",
        "word_index = tokenizer.word_index\n",
        "print('Found %s unique tokens.' % len(word_index))\n",
        "\n",
        "data = pad_sequences(sequences, maxlen=maxlen)\n",
        "\n",
        "labels = np.asarray(y_train)\n",
        "print('Shape of data tensor:', data.shape)\n",
        "print('Shape of label tensor:', labels.shape)\n",
        "\n",
        "# Split the data into a training set and a validation set\n",
        "# But first, shuffle the data, since we started from data\n",
        "# where sample are ordered (all negative first, then all positive).\n",
        "indices = np.arange(data.shape[0])\n",
        "np.random.shuffle(indices)\n",
        "data = data[indices]\n",
        "labels = labels[indices]\n",
        "\n",
        "x_train = data[:training_samples]\n",
        "y_train = labels[:training_samples]\n",
        "x_val = data[training_samples: training_samples + validation_samples]\n",
        "y_val = labels[training_samples: training_samples + validation_samples]"
      ],
      "execution_count": 0,
      "outputs": [
        {
          "output_type": "stream",
          "text": [
            "Found 5792 unique tokens.\n",
            "Shape of data tensor: (1316, 100)\n",
            "Shape of label tensor: (1316, 3)\n"
          ],
          "name": "stdout"
        }
      ]
    },
    {
      "metadata": {
        "colab_type": "text",
        "id": "Rfz0QkpTGP66"
      },
      "cell_type": "markdown",
      "source": [
        "# 2.Experiment -  Trainig From Scratch\n",
        "\n",
        "Observation: seems not a good idea due to poor accuracy result and the fact that data points is too limited"
      ]
    },
    {
      "metadata": {
        "colab_type": "code",
        "id": "EImJrssmGP69",
        "colab": {}
      },
      "cell_type": "code",
      "source": [
        "embedding_dim = 300"
      ],
      "execution_count": 0,
      "outputs": []
    },
    {
      "metadata": {
        "colab_type": "code",
        "outputId": "3cf92e87-d661-43fa-e6b0-98b445809f7a",
        "id": "ogP9JPU9GP6_",
        "colab": {
          "base_uri": "https://localhost:8080/",
          "height": 496
        }
      },
      "cell_type": "code",
      "source": [
        "from keras.models import Sequential\n",
        "from keras.layers import Embedding, Flatten, Dense\n",
        "\n",
        "model = Sequential()\n",
        "model.add(Embedding(max_words, embedding_dim, input_length=maxlen))\n",
        "model.add(Flatten())\n",
        "model.add(Dense(32, activation='relu'))\n",
        "model.add(Dense(3, activation='softmax'))\n",
        "model.summary()\n",
        "\n",
        "optimizer = optimizers.Adam(lr=0.1)\n",
        "loss = 'categorical_crossentropy'\n",
        "epochs = 200\n",
        "batch_size = 54\n",
        "\n",
        "model.compile(optimizer= optimizer,\n",
        "              loss = loss,\n",
        "              metrics=['acc'])\n",
        "\n",
        "history_6 = model.fit(x_train, y_train,\n",
        "                    epochs=epochs,\n",
        "                    batch_size=batch_size,\n",
        "                    validation_data=(x_val, y_val),\n",
        "                    callbacks = callbacks_list)"
      ],
      "execution_count": 0,
      "outputs": [
        {
          "output_type": "stream",
          "text": [
            "_________________________________________________________________\n",
            "Layer (type)                 Output Shape              Param #   \n",
            "=================================================================\n",
            "embedding_7 (Embedding)      (None, 100, 300)          3000000   \n",
            "_________________________________________________________________\n",
            "flatten_7 (Flatten)          (None, 30000)             0         \n",
            "_________________________________________________________________\n",
            "dense_13 (Dense)             (None, 32)                960032    \n",
            "_________________________________________________________________\n",
            "dense_14 (Dense)             (None, 3)                 99        \n",
            "=================================================================\n",
            "Total params: 3,960,131\n",
            "Trainable params: 3,960,131\n",
            "Non-trainable params: 0\n",
            "_________________________________________________________________\n",
            "Train on 1000 samples, validate on 316 samples\n",
            "Epoch 1/200\n",
            "1000/1000 [==============================] - 2s 2ms/step - loss: 7.3150 - acc: 0.5070 - val_loss: 7.5490 - val_acc: 0.5316\n",
            "Epoch 2/200\n",
            "1000/1000 [==============================] - 0s 213us/step - loss: 7.7528 - acc: 0.5190 - val_loss: 7.5490 - val_acc: 0.5316\n",
            "Epoch 3/200\n",
            "1000/1000 [==============================] - 0s 214us/step - loss: 7.7528 - acc: 0.5190 - val_loss: 7.5490 - val_acc: 0.5316\n",
            "Epoch 4/200\n",
            "1000/1000 [==============================] - 0s 211us/step - loss: 7.7528 - acc: 0.5190 - val_loss: 7.5490 - val_acc: 0.5316\n",
            "Epoch 5/200\n",
            "1000/1000 [==============================] - 0s 208us/step - loss: 7.7528 - acc: 0.5190 - val_loss: 7.5490 - val_acc: 0.5316\n",
            "Epoch 00005: early stopping\n"
          ],
          "name": "stdout"
        }
      ]
    },
    {
      "metadata": {
        "id": "P1GsiX6ygEVP",
        "colab_type": "text"
      },
      "cell_type": "markdown",
      "source": [
        ""
      ]
    },
    {
      "metadata": {
        "id": "01vPHPTXk9PF",
        "colab_type": "text"
      },
      "cell_type": "markdown",
      "source": [
        "# 3.Experiment - Freezed Embedding Layer - GloVe"
      ]
    },
    {
      "metadata": {
        "id": "rhzsYxq38LsD",
        "colab_type": "text"
      },
      "cell_type": "markdown",
      "source": [
        "## 3.1 Embedding_dim = 100"
      ]
    },
    {
      "metadata": {
        "id": "9jGtXFZrDo18",
        "colab_type": "text"
      },
      "cell_type": "markdown",
      "source": [
        "### 3.1.1 Training"
      ]
    },
    {
      "metadata": {
        "id": "sQWBwuvdcAM4",
        "colab_type": "code",
        "colab": {}
      },
      "cell_type": "code",
      "source": [
        "# Load Glove data\n",
        "    \n",
        "with zipfile.ZipFile('drive/INFO7374_NeuralNetwork&AI/Assignment_3/data/glove.6B.zip','r') as zip_ref:\n",
        "   zip_ref.extractall('')"
      ],
      "execution_count": 0,
      "outputs": []
    },
    {
      "metadata": {
        "id": "TnBC4QLh4V9E",
        "colab_type": "code",
        "outputId": "8a68797c-6827-4880-ec95-d5226735a26a",
        "colab": {
          "base_uri": "https://localhost:8080/",
          "height": 34
        }
      },
      "cell_type": "code",
      "source": [
        "embeddings_index = {}\n",
        "\n",
        "with open('glove.6B.100d.txt') as f:\n",
        "  for line in f:\n",
        "      values = line.split()\n",
        "      word = values[0]\n",
        "      coefs = np.asarray(values[1:], dtype='float32')\n",
        "      embeddings_index[word] = coefs\n",
        "\n",
        "print('Found %s word vectors.' % len(embeddings_index))"
      ],
      "execution_count": 0,
      "outputs": [
        {
          "output_type": "stream",
          "text": [
            "Found 400000 word vectors.\n"
          ],
          "name": "stdout"
        }
      ]
    },
    {
      "metadata": {
        "id": "_Aj2dxeEcuVN",
        "colab_type": "code",
        "colab": {}
      },
      "cell_type": "code",
      "source": [
        "# set dimemsions (# features for each word vector) for embedding layer\n",
        "embedding_dim = 100\n",
        "\n",
        "embedding_matrix = np.zeros((max_words, embedding_dim))\n",
        "for word, i in word_index.items():\n",
        "    embedding_vector = embeddings_index.get(word)\n",
        "    if i < max_words:\n",
        "        if embedding_vector is not None:\n",
        "            # Words not found in embedding index will be all-zeros.\n",
        "            embedding_matrix[i] = embedding_vector"
      ],
      "execution_count": 0,
      "outputs": []
    },
    {
      "metadata": {
        "id": "SMMRIlUX8ogr",
        "colab_type": "code",
        "colab": {}
      },
      "cell_type": "code",
      "source": [
        "from keras import optimizers\n",
        "from keras.models import Sequential\n",
        "from keras.layers import Embedding, Flatten, Dense\n",
        "from keras.callbacks import EarlyStopping"
      ],
      "execution_count": 0,
      "outputs": []
    },
    {
      "metadata": {
        "id": "c4pKjY5T4V6r",
        "colab_type": "code",
        "outputId": "6712d130-03a5-4ae8-9896-8950b6ed167d",
        "colab": {
          "base_uri": "https://localhost:8080/",
          "height": 272
        }
      },
      "cell_type": "code",
      "source": [
        "model = Sequential()\n",
        "model.add(Embedding(max_words, embedding_dim, weights = [embedding_matrix], trainable = False, input_length=maxlen))\n",
        "model.add(Flatten())\n",
        "model.add(Dense(32, activation='relu'))\n",
        "model.add(Dense(3, activation='softmax'))\n",
        "model.summary()"
      ],
      "execution_count": 0,
      "outputs": [
        {
          "output_type": "stream",
          "text": [
            "_________________________________________________________________\n",
            "Layer (type)                 Output Shape              Param #   \n",
            "=================================================================\n",
            "embedding_3 (Embedding)      (None, 100, 100)          1000000   \n",
            "_________________________________________________________________\n",
            "flatten_3 (Flatten)          (None, 10000)             0         \n",
            "_________________________________________________________________\n",
            "dense_5 (Dense)              (None, 32)                320032    \n",
            "_________________________________________________________________\n",
            "dense_6 (Dense)              (None, 3)                 99        \n",
            "=================================================================\n",
            "Total params: 1,320,131\n",
            "Trainable params: 320,131\n",
            "Non-trainable params: 1,000,000\n",
            "_________________________________________________________________\n"
          ],
          "name": "stdout"
        }
      ]
    },
    {
      "metadata": {
        "id": "Q2ALuToD8I9Z",
        "colab_type": "code",
        "colab": {}
      },
      "cell_type": "code",
      "source": [
        "#define callbacks\n",
        "\n",
        "early_stopping = EarlyStopping(monitor='val_loss', min_delta=0.01, patience=4, verbose=1)\n",
        "callbacks_list = [early_stopping]"
      ],
      "execution_count": 0,
      "outputs": []
    },
    {
      "metadata": {
        "id": "glEFtKOGdMFI",
        "colab_type": "code",
        "outputId": "d720fc9f-e92f-47db-92b8-97a8105a6031",
        "colab": {
          "base_uri": "https://localhost:8080/",
          "height": 241
        }
      },
      "cell_type": "code",
      "source": [
        "optimizer = optimizers.SGD(lr=0.01, nesterov=True)\n",
        "loss = 'categorical_crossentropy'\n",
        "epochs = 200\n",
        "batch_size = 32\n",
        "\n",
        "model.compile(optimizer= optimizer,\n",
        "              loss = loss,\n",
        "              metrics=['acc'])\n",
        "\n",
        "history_1 = model.fit(x_train, y_train,\n",
        "                    epochs=epochs,\n",
        "                    batch_size=batch_size,\n",
        "                    validation_data=(x_val, y_val),\n",
        "                    callbacks=callbacks_list)\n",
        "\n",
        "model.save_weights('model_1.h5')"
      ],
      "execution_count": 0,
      "outputs": [
        {
          "output_type": "stream",
          "text": [
            "Train on 1000 samples, validate on 316 samples\n",
            "Epoch 1/200\n",
            "1000/1000 [==============================] - 1s 623us/step - loss: 0.0162 - acc: 0.9990 - val_loss: 2.5002 - val_acc: 0.6013\n",
            "Epoch 2/200\n",
            "1000/1000 [==============================] - 0s 126us/step - loss: 0.0162 - acc: 0.9990 - val_loss: 2.5003 - val_acc: 0.6013\n",
            "Epoch 3/200\n",
            "1000/1000 [==============================] - 0s 121us/step - loss: 0.0162 - acc: 0.9990 - val_loss: 2.5003 - val_acc: 0.6013\n",
            "Epoch 4/200\n",
            "1000/1000 [==============================] - 0s 134us/step - loss: 0.0162 - acc: 0.9990 - val_loss: 2.5003 - val_acc: 0.6013\n",
            "Epoch 5/200\n",
            "1000/1000 [==============================] - 0s 124us/step - loss: 0.0162 - acc: 0.9990 - val_loss: 2.5004 - val_acc: 0.6013\n",
            "Epoch 00005: early stopping\n"
          ],
          "name": "stdout"
        }
      ]
    },
    {
      "metadata": {
        "id": "Cwb0pKWLgyK8",
        "colab_type": "code",
        "outputId": "1f5ee89d-02b7-4a53-e8a2-3226dcce482d",
        "colab": {
          "base_uri": "https://localhost:8080/",
          "height": 241
        }
      },
      "cell_type": "code",
      "source": [
        "optimizer = optimizers.SGD(lr=0.001, nesterov=True)\n",
        "loss = 'categorical_crossentropy'\n",
        "epochs = 100\n",
        "batch_size = 32\n",
        "\n",
        "model.compile(optimizer= optimizer,\n",
        "              loss = loss,\n",
        "              metrics=['acc'])\n",
        "\n",
        "history_2 = model.fit(x_train, y_train,\n",
        "                    epochs=epochs,\n",
        "                    batch_size=batch_size,\n",
        "                    validation_data=(x_val, y_val),\n",
        "                    callbacks=callbacks_list )\n",
        "\n",
        "model.save_weights('model_2.h5')"
      ],
      "execution_count": 0,
      "outputs": [
        {
          "output_type": "stream",
          "text": [
            "Train on 1000 samples, validate on 316 samples\n",
            "Epoch 1/100\n",
            "1000/1000 [==============================] - 1s 778us/step - loss: 0.0162 - acc: 0.9990 - val_loss: 2.5006 - val_acc: 0.6013\n",
            "Epoch 2/100\n",
            "1000/1000 [==============================] - 0s 125us/step - loss: 0.0162 - acc: 0.9990 - val_loss: 2.5006 - val_acc: 0.6013\n",
            "Epoch 3/100\n",
            "1000/1000 [==============================] - 0s 123us/step - loss: 0.0162 - acc: 0.9990 - val_loss: 2.5006 - val_acc: 0.6013\n",
            "Epoch 4/100\n",
            "1000/1000 [==============================] - 0s 126us/step - loss: 0.0162 - acc: 0.9990 - val_loss: 2.5007 - val_acc: 0.6013\n",
            "Epoch 5/100\n",
            "1000/1000 [==============================] - 0s 130us/step - loss: 0.0162 - acc: 0.9990 - val_loss: 2.5007 - val_acc: 0.6013\n",
            "Epoch 00005: early stopping\n"
          ],
          "name": "stdout"
        }
      ]
    },
    {
      "metadata": {
        "id": "ognjWcIFhRZ1",
        "colab_type": "code",
        "outputId": "1c36af5e-af66-4961-b1ec-1fedaa89243a",
        "colab": {
          "base_uri": "https://localhost:8080/",
          "height": 275
        }
      },
      "cell_type": "code",
      "source": [
        "optimizer = optimizers.Adam(lr=0.001)\n",
        "loss = 'categorical_crossentropy'\n",
        "epochs = 100\n",
        "batch_size = 32\n",
        "\n",
        "model.compile(optimizer= optimizer,\n",
        "              loss = loss,\n",
        "              metrics=['acc'])\n",
        "\n",
        "history_3 = model.fit(x_train, y_train,\n",
        "                    epochs=epochs,\n",
        "                    batch_size=batch_size,\n",
        "                    validation_data=(x_val, y_val),\n",
        "                    callbacks=callbacks_list)\n",
        "\n",
        "model.save_weights('model_3.h5')"
      ],
      "execution_count": 0,
      "outputs": [
        {
          "output_type": "stream",
          "text": [
            "Train on 1000 samples, validate on 316 samples\n",
            "Epoch 1/100\n",
            "1000/1000 [==============================] - 1s 883us/step - loss: 0.0248 - acc: 0.9950 - val_loss: 2.6093 - val_acc: 0.5823\n",
            "Epoch 2/100\n",
            "1000/1000 [==============================] - 0s 169us/step - loss: 0.0600 - acc: 0.9820 - val_loss: 2.4021 - val_acc: 0.6171\n",
            "Epoch 3/100\n",
            "1000/1000 [==============================] - 0s 175us/step - loss: 0.0219 - acc: 0.9970 - val_loss: 2.6868 - val_acc: 0.6044\n",
            "Epoch 4/100\n",
            "1000/1000 [==============================] - 0s 202us/step - loss: 0.0295 - acc: 0.9950 - val_loss: 3.0276 - val_acc: 0.6234\n",
            "Epoch 5/100\n",
            "1000/1000 [==============================] - 0s 167us/step - loss: 0.0202 - acc: 0.9980 - val_loss: 2.8011 - val_acc: 0.5823\n",
            "Epoch 6/100\n",
            "1000/1000 [==============================] - 0s 158us/step - loss: 0.0198 - acc: 0.9980 - val_loss: 2.9315 - val_acc: 0.6076\n",
            "Epoch 00006: early stopping\n"
          ],
          "name": "stdout"
        }
      ]
    },
    {
      "metadata": {
        "id": "xeBGKg6Ni77a",
        "colab_type": "code",
        "outputId": "242dd13b-08fe-48aa-feac-bec3d91113e5",
        "colab": {
          "base_uri": "https://localhost:8080/",
          "height": 411
        }
      },
      "cell_type": "code",
      "source": [
        "optimizer = optimizers.Adam(lr=0.01)\n",
        "loss = 'categorical_crossentropy'\n",
        "epochs = 100\n",
        "batch_size = 32\n",
        "\n",
        "model.compile(optimizer= optimizer,\n",
        "              loss = loss,\n",
        "              metrics=['acc'])\n",
        "\n",
        "history_4 = model.fit(x_train, y_train,\n",
        "                    epochs=epochs,\n",
        "                    batch_size=batch_size,\n",
        "                    validation_data=(x_val, y_val),\n",
        "                    callbacks=callbacks_list)\n",
        "\n",
        "model.save_weights('model_4.h5')"
      ],
      "execution_count": 0,
      "outputs": [
        {
          "output_type": "stream",
          "text": [
            "Train on 1000 samples, validate on 316 samples\n",
            "Epoch 1/100\n",
            "1000/1000 [==============================] - 1s 911us/step - loss: 5.7507 - acc: 0.6190 - val_loss: 6.0806 - val_acc: 0.6139\n",
            "Epoch 2/100\n",
            "1000/1000 [==============================] - 0s 168us/step - loss: 5.8155 - acc: 0.6240 - val_loss: 5.7280 - val_acc: 0.6329\n",
            "Epoch 3/100\n",
            "1000/1000 [==============================] - 0s 153us/step - loss: 5.2341 - acc: 0.6630 - val_loss: 5.8223 - val_acc: 0.6139\n",
            "Epoch 4/100\n",
            "1000/1000 [==============================] - 0s 153us/step - loss: 5.4282 - acc: 0.6460 - val_loss: 5.5876 - val_acc: 0.6456\n",
            "Epoch 5/100\n",
            "1000/1000 [==============================] - 0s 163us/step - loss: 5.3346 - acc: 0.6600 - val_loss: 5.8533 - val_acc: 0.6171\n",
            "Epoch 6/100\n",
            "1000/1000 [==============================] - 0s 152us/step - loss: 5.5716 - acc: 0.6460 - val_loss: 5.2685 - val_acc: 0.6677\n",
            "Epoch 7/100\n",
            "1000/1000 [==============================] - 0s 154us/step - loss: 5.1381 - acc: 0.6730 - val_loss: 6.1230 - val_acc: 0.6076\n",
            "Epoch 8/100\n",
            "1000/1000 [==============================] - 0s 156us/step - loss: 4.9850 - acc: 0.6750 - val_loss: 5.3958 - val_acc: 0.6487\n",
            "Epoch 9/100\n",
            "1000/1000 [==============================] - 0s 149us/step - loss: 4.6946 - acc: 0.6990 - val_loss: 5.6009 - val_acc: 0.6266\n",
            "Epoch 10/100\n",
            "1000/1000 [==============================] - 0s 173us/step - loss: 4.8026 - acc: 0.6950 - val_loss: 5.6278 - val_acc: 0.6297\n",
            "Epoch 00010: early stopping\n"
          ],
          "name": "stdout"
        }
      ]
    },
    {
      "metadata": {
        "id": "JGFdyUWvjTAz",
        "colab_type": "code",
        "outputId": "be135dee-087b-4b10-d4dc-cfd4c3255703",
        "colab": {
          "base_uri": "https://localhost:8080/",
          "height": 241
        }
      },
      "cell_type": "code",
      "source": [
        "optimizer = optimizers.Adam(lr=0.1)\n",
        "loss = 'categorical_crossentropy'\n",
        "epochs = 100\n",
        "batch_size = 32\n",
        "\n",
        "model.compile(optimizer= optimizer,\n",
        "              loss = loss,\n",
        "              metrics=['acc'])\n",
        "\n",
        "history_5 = model.fit(x_train, y_train,\n",
        "                    epochs=epochs,\n",
        "                    batch_size=batch_size,\n",
        "                    validation_data=(x_val, y_val),\n",
        "                    callbacks=callbacks_list)\n",
        "\n",
        "model.save_weights('model_5.h5')"
      ],
      "execution_count": 0,
      "outputs": [
        {
          "output_type": "stream",
          "text": [
            "Train on 1000 samples, validate on 316 samples\n",
            "Epoch 1/100\n",
            "1000/1000 [==============================] - 1s 933us/step - loss: 7.1728 - acc: 0.5530 - val_loss: 7.5490 - val_acc: 0.5316\n",
            "Epoch 2/100\n",
            "1000/1000 [==============================] - 0s 192us/step - loss: 7.7528 - acc: 0.5190 - val_loss: 7.5490 - val_acc: 0.5316\n",
            "Epoch 3/100\n",
            "1000/1000 [==============================] - 0s 173us/step - loss: 7.7528 - acc: 0.5190 - val_loss: 7.5490 - val_acc: 0.5316\n",
            "Epoch 4/100\n",
            "1000/1000 [==============================] - 0s 173us/step - loss: 7.7528 - acc: 0.5190 - val_loss: 7.5490 - val_acc: 0.5316\n",
            "Epoch 5/100\n",
            "1000/1000 [==============================] - 0s 169us/step - loss: 7.7528 - acc: 0.5190 - val_loss: 7.5490 - val_acc: 0.5316\n",
            "Epoch 00005: early stopping\n"
          ],
          "name": "stdout"
        }
      ]
    },
    {
      "metadata": {
        "id": "ib0qbP4vjnAZ",
        "colab_type": "code",
        "outputId": "b7a4c40e-a540-4fd0-dd10-bec9f93d3308",
        "colab": {
          "base_uri": "https://localhost:8080/",
          "height": 241
        }
      },
      "cell_type": "code",
      "source": [
        "optimizer = optimizers.Adam(lr=0.1)\n",
        "loss = 'categorical_crossentropy'\n",
        "epochs = 200\n",
        "batch_size = 54\n",
        "\n",
        "model.compile(optimizer= optimizer,\n",
        "              loss = loss,\n",
        "              metrics=['acc'])\n",
        "\n",
        "history_6 = model.fit(x_train, y_train,\n",
        "                    epochs=epochs,\n",
        "                    batch_size=batch_size,\n",
        "                    validation_data=(x_val, y_val),\n",
        "                    callbacks=callbacks_list)\n",
        "\n",
        "model.save_weights('model_6.h5')"
      ],
      "execution_count": 0,
      "outputs": [
        {
          "output_type": "stream",
          "text": [
            "Train on 1000 samples, validate on 316 samples\n",
            "Epoch 1/200\n",
            "1000/1000 [==============================] - 1s 962us/step - loss: 7.7528 - acc: 0.5190 - val_loss: 7.5490 - val_acc: 0.5316\n",
            "Epoch 2/200\n",
            "1000/1000 [==============================] - 0s 110us/step - loss: 7.7528 - acc: 0.5190 - val_loss: 7.5490 - val_acc: 0.5316\n",
            "Epoch 3/200\n",
            "1000/1000 [==============================] - 0s 104us/step - loss: 7.7528 - acc: 0.5190 - val_loss: 7.5490 - val_acc: 0.5316\n",
            "Epoch 4/200\n",
            "1000/1000 [==============================] - 0s 102us/step - loss: 7.7528 - acc: 0.5190 - val_loss: 7.5490 - val_acc: 0.5316\n",
            "Epoch 5/200\n",
            "1000/1000 [==============================] - 0s 103us/step - loss: 7.7528 - acc: 0.5190 - val_loss: 7.5490 - val_acc: 0.5316\n",
            "Epoch 00005: early stopping\n"
          ],
          "name": "stdout"
        }
      ]
    },
    {
      "metadata": {
        "id": "psNtoKXXoJNA",
        "colab_type": "text"
      },
      "cell_type": "markdown",
      "source": [
        "### 3.1.2 Plot Confusion Matrix\n",
        "\n",
        "Model 4 delivers the best accuracy"
      ]
    },
    {
      "metadata": {
        "id": "NQ6p2CMQeVps",
        "colab_type": "code",
        "outputId": "307c8ac8-7fe8-4f9f-a21c-45078f4832a0",
        "colab": {
          "base_uri": "https://localhost:8080/",
          "height": 51
        }
      },
      "cell_type": "code",
      "source": [
        "model.load_weights('model_4.h5')\n",
        "model.evaluate(x_test, y_test)"
      ],
      "execution_count": 0,
      "outputs": [
        {
          "output_type": "stream",
          "text": [
            "328/328 [==============================] - 0s 77us/step\n"
          ],
          "name": "stdout"
        },
        {
          "output_type": "execute_result",
          "data": {
            "text/plain": [
              "[5.285326236631812, 0.6585365853658537]"
            ]
          },
          "metadata": {
            "tags": []
          },
          "execution_count": 53
        }
      ]
    },
    {
      "metadata": {
        "id": "zlsrzOhi-cUv",
        "colab_type": "code",
        "outputId": "7aada713-8f4b-4553-8ce4-e612ddf5cb14",
        "colab": {
          "base_uri": "https://localhost:8080/",
          "height": 364
        }
      },
      "cell_type": "code",
      "source": [
        "import seaborn as sns\n",
        "from sklearn import metrics\n",
        "\n",
        "y_pred = model.predict(x_test)\n",
        "matrix = metrics.confusion_matrix(y_test.argmax(axis=1), y_pred.argmax(axis=1))\n",
        "sns.heatmap(matrix,annot=True,fmt='.5g')"
      ],
      "execution_count": 0,
      "outputs": [
        {
          "output_type": "execute_result",
          "data": {
            "text/plain": [
              "<matplotlib.axes._subplots.AxesSubplot at 0x7f000e7aecc0>"
            ]
          },
          "metadata": {
            "tags": []
          },
          "execution_count": 54
        },
        {
          "output_type": "display_data",
          "data": {
            "image/png": "[encoded data removed]",
            "text/plain": [
              "<Figure size 576x396 with 2 Axes>"
            ]
          },
          "metadata": {
            "tags": []
          }
        }
      ]
    },
    {
      "metadata": {
        "id": "G7ZusRI8EIdm",
        "colab_type": "text"
      },
      "cell_type": "markdown",
      "source": [
        "### 3.1.3 Observation: \n",
        "\n",
        "- For Negative: None were correctory classified\n",
        "- For Positive: Accuracy is high\n",
        "- For Neutral: Ambiguity exists between Nuetral and Positive"
      ]
    },
    {
      "metadata": {
        "id": "ATuu0vXw--up",
        "colab_type": "text"
      },
      "cell_type": "markdown",
      "source": [
        "## 3.2 Embedding_dim = 300"
      ]
    },
    {
      "metadata": {
        "id": "oFa5LAO8D2uF",
        "colab_type": "text"
      },
      "cell_type": "markdown",
      "source": [
        "### 3.2.1 Training"
      ]
    },
    {
      "metadata": {
        "id": "uizXmIJH_a9j",
        "colab_type": "code",
        "outputId": "74c4e423-4320-480c-b1b5-28e42927953e",
        "colab": {
          "base_uri": "https://localhost:8080/",
          "height": 34
        }
      },
      "cell_type": "code",
      "source": [
        "embeddings_index = {}\n",
        "\n",
        "with open('glove.6B.300d.txt') as f:\n",
        "  for line in f:\n",
        "      values = line.split()\n",
        "      word = values[0]\n",
        "      coefs = np.asarray(values[1:], dtype='float32')\n",
        "      embeddings_index[word] = coefs\n",
        "\n",
        "print('Found %s word vectors.' % len(embeddings_index))"
      ],
      "execution_count": 0,
      "outputs": [
        {
          "output_type": "stream",
          "text": [
            "Found 400000 word vectors.\n"
          ],
          "name": "stdout"
        }
      ]
    },
    {
      "metadata": {
        "id": "BUn_ID9Q_Cng",
        "colab_type": "code",
        "colab": {}
      },
      "cell_type": "code",
      "source": [
        "# set dimemsions (# features for each word vector) for embedding layer\n",
        "embedding_dim = 300\n",
        "\n",
        "embedding_matrix = np.zeros((max_words, embedding_dim))\n",
        "for word, i in word_index.items():\n",
        "    embedding_vector = embeddings_index.get(word)\n",
        "    if i < max_words:\n",
        "        if embedding_vector is not None:\n",
        "            # Words not found in embedding index will be all-zeros.\n",
        "            embedding_matrix[i] = embedding_vector"
      ],
      "execution_count": 0,
      "outputs": []
    },
    {
      "metadata": {
        "colab_type": "code",
        "id": "cbhDW7CH_UwE",
        "colab": {}
      },
      "cell_type": "code",
      "source": [
        "from keras import optimizers\n",
        "from keras.models import Sequential\n",
        "from keras.layers import Embedding, Flatten, Dense\n",
        "from keras.callbacks import EarlyStopping"
      ],
      "execution_count": 0,
      "outputs": []
    },
    {
      "metadata": {
        "colab_type": "code",
        "outputId": "8c4dba49-27d2-4fab-d559-e758cf551eef",
        "id": "O6Bz7RQ__UwH",
        "colab": {
          "base_uri": "https://localhost:8080/",
          "height": 272
        }
      },
      "cell_type": "code",
      "source": [
        "model = Sequential()\n",
        "model.add(Embedding(max_words, embedding_dim, weights = [embedding_matrix], trainable = False, input_length=maxlen))\n",
        "model.add(Flatten())\n",
        "model.add(Dense(32, activation='relu'))\n",
        "model.add(Dense(3, activation='softmax'))\n",
        "model.summary()"
      ],
      "execution_count": 0,
      "outputs": [
        {
          "output_type": "stream",
          "text": [
            "_________________________________________________________________\n",
            "Layer (type)                 Output Shape              Param #   \n",
            "=================================================================\n",
            "embedding_4 (Embedding)      (None, 100, 300)          3000000   \n",
            "_________________________________________________________________\n",
            "flatten_4 (Flatten)          (None, 30000)             0         \n",
            "_________________________________________________________________\n",
            "dense_7 (Dense)              (None, 32)                960032    \n",
            "_________________________________________________________________\n",
            "dense_8 (Dense)              (None, 3)                 99        \n",
            "=================================================================\n",
            "Total params: 3,960,131\n",
            "Trainable params: 960,131\n",
            "Non-trainable params: 3,000,000\n",
            "_________________________________________________________________\n"
          ],
          "name": "stdout"
        }
      ]
    },
    {
      "metadata": {
        "colab_type": "code",
        "id": "s3lfZ_Vl_UwL",
        "colab": {}
      },
      "cell_type": "code",
      "source": [
        "#define callbacks\n",
        "\n",
        "early_stopping = EarlyStopping(monitor='val_loss', min_delta=0.01, patience=4, verbose=1)\n",
        "callbacks_list = [early_stopping]"
      ],
      "execution_count": 0,
      "outputs": []
    },
    {
      "metadata": {
        "colab_type": "code",
        "outputId": "b9ffce3e-5315-4782-9add-fdcf94421006",
        "id": "1M-SHT4k_UwO",
        "colab": {
          "base_uri": "https://localhost:8080/",
          "height": 309
        }
      },
      "cell_type": "code",
      "source": [
        "optimizer = optimizers.SGD(lr=0.01, nesterov=True)\n",
        "loss = 'categorical_crossentropy'\n",
        "epochs = 200\n",
        "batch_size = 32\n",
        "\n",
        "model.compile(optimizer= optimizer,\n",
        "              loss = loss,\n",
        "              metrics=['acc'])\n",
        "\n",
        "history_1 = model.fit(x_train, y_train,\n",
        "                    epochs=epochs,\n",
        "                    batch_size=batch_size,\n",
        "                    validation_data=(x_val, y_val),\n",
        "                    callbacks=callbacks_list)\n",
        "\n",
        "model.save_weights('model_1.h5')"
      ],
      "execution_count": 0,
      "outputs": [
        {
          "output_type": "stream",
          "text": [
            "Train on 1000 samples, validate on 316 samples\n",
            "Epoch 1/200\n",
            "1000/1000 [==============================] - 1s 1ms/step - loss: 0.9821 - acc: 0.5300 - val_loss: 0.9422 - val_acc: 0.6171\n",
            "Epoch 2/200\n",
            "1000/1000 [==============================] - 0s 174us/step - loss: 0.7840 - acc: 0.6960 - val_loss: 0.8738 - val_acc: 0.6234\n",
            "Epoch 3/200\n",
            "1000/1000 [==============================] - 0s 169us/step - loss: 0.6424 - acc: 0.7720 - val_loss: 0.8597 - val_acc: 0.5981\n",
            "Epoch 4/200\n",
            "1000/1000 [==============================] - 0s 191us/step - loss: 0.5151 - acc: 0.8610 - val_loss: 0.8901 - val_acc: 0.5854\n",
            "Epoch 5/200\n",
            "1000/1000 [==============================] - 0s 157us/step - loss: 0.3917 - acc: 0.9100 - val_loss: 0.9797 - val_acc: 0.5665\n",
            "Epoch 6/200\n",
            "1000/1000 [==============================] - 0s 179us/step - loss: 0.3193 - acc: 0.9380 - val_loss: 1.0398 - val_acc: 0.6297\n",
            "Epoch 7/200\n",
            "1000/1000 [==============================] - 0s 177us/step - loss: 0.2509 - acc: 0.9510 - val_loss: 0.9745 - val_acc: 0.5823\n",
            "Epoch 00007: early stopping\n"
          ],
          "name": "stdout"
        }
      ]
    },
    {
      "metadata": {
        "colab_type": "code",
        "outputId": "806e6d04-9335-47fc-bf58-41b729643612",
        "id": "BwjXocMk_UwQ",
        "colab": {
          "base_uri": "https://localhost:8080/",
          "height": 241
        }
      },
      "cell_type": "code",
      "source": [
        "optimizer = optimizers.SGD(lr=0.001, nesterov=True)\n",
        "loss = 'categorical_crossentropy'\n",
        "epochs = 100\n",
        "batch_size = 32\n",
        "\n",
        "model.compile(optimizer= optimizer,\n",
        "              loss = loss,\n",
        "              metrics=['acc'])\n",
        "\n",
        "history_2 = model.fit(x_train, y_train,\n",
        "                    epochs=epochs,\n",
        "                    batch_size=batch_size,\n",
        "                    validation_data=(x_val, y_val),\n",
        "                    callbacks=callbacks_list )\n",
        "\n",
        "model.save_weights('model_2.h5')"
      ],
      "execution_count": 0,
      "outputs": [
        {
          "output_type": "stream",
          "text": [
            "Train on 1000 samples, validate on 316 samples\n",
            "Epoch 1/100\n",
            "1000/1000 [==============================] - 1s 1ms/step - loss: 0.2063 - acc: 0.9750 - val_loss: 0.8802 - val_acc: 0.6392\n",
            "Epoch 2/100\n",
            "1000/1000 [==============================] - 0s 194us/step - loss: 0.1929 - acc: 0.9770 - val_loss: 0.8845 - val_acc: 0.6297\n",
            "Epoch 3/100\n",
            "1000/1000 [==============================] - 0s 178us/step - loss: 0.1889 - acc: 0.9770 - val_loss: 0.8891 - val_acc: 0.6297\n",
            "Epoch 4/100\n",
            "1000/1000 [==============================] - 0s 174us/step - loss: 0.1856 - acc: 0.9770 - val_loss: 0.8886 - val_acc: 0.6266\n",
            "Epoch 5/100\n",
            "1000/1000 [==============================] - 0s 177us/step - loss: 0.1820 - acc: 0.9780 - val_loss: 0.8901 - val_acc: 0.6203\n",
            "Epoch 00005: early stopping\n"
          ],
          "name": "stdout"
        }
      ]
    },
    {
      "metadata": {
        "colab_type": "code",
        "outputId": "4242a537-6d88-4449-ec48-0116cc795280",
        "id": "9mQfLB0K_UwT",
        "colab": {
          "base_uri": "https://localhost:8080/",
          "height": 241
        }
      },
      "cell_type": "code",
      "source": [
        "optimizer = optimizers.Adam(lr=0.001)\n",
        "loss = 'categorical_crossentropy'\n",
        "epochs = 100\n",
        "batch_size = 32\n",
        "\n",
        "model.compile(optimizer= optimizer,\n",
        "              loss = loss,\n",
        "              metrics=['acc'])\n",
        "\n",
        "history_3 = model.fit(x_train, y_train,\n",
        "                    epochs=epochs,\n",
        "                    batch_size=batch_size,\n",
        "                    validation_data=(x_val, y_val),\n",
        "                    callbacks=callbacks_list)\n",
        "\n",
        "model.save_weights('model_3.h5')"
      ],
      "execution_count": 0,
      "outputs": [
        {
          "output_type": "stream",
          "text": [
            "Train on 1000 samples, validate on 316 samples\n",
            "Epoch 1/100\n",
            "1000/1000 [==============================] - 1s 1ms/step - loss: 0.4110 - acc: 0.8500 - val_loss: 1.0829 - val_acc: 0.6234\n",
            "Epoch 2/100\n",
            "1000/1000 [==============================] - 0s 229us/step - loss: 0.0949 - acc: 0.9760 - val_loss: 1.1846 - val_acc: 0.6519\n",
            "Epoch 3/100\n",
            "1000/1000 [==============================] - 0s 216us/step - loss: 0.0326 - acc: 0.9950 - val_loss: 1.3972 - val_acc: 0.6519\n",
            "Epoch 4/100\n",
            "1000/1000 [==============================] - 0s 213us/step - loss: 0.0191 - acc: 0.9960 - val_loss: 1.4071 - val_acc: 0.6487\n",
            "Epoch 5/100\n",
            "1000/1000 [==============================] - 0s 212us/step - loss: 0.0126 - acc: 0.9980 - val_loss: 1.4127 - val_acc: 0.6361\n",
            "Epoch 00005: early stopping\n"
          ],
          "name": "stdout"
        }
      ]
    },
    {
      "metadata": {
        "colab_type": "code",
        "outputId": "ac7c365c-27cc-4472-e566-c3c5840fc276",
        "id": "kJ6NfzfO_UwW",
        "colab": {
          "base_uri": "https://localhost:8080/",
          "height": 241
        }
      },
      "cell_type": "code",
      "source": [
        "optimizer = optimizers.Adam(lr=0.01)\n",
        "loss = 'categorical_crossentropy'\n",
        "epochs = 100\n",
        "batch_size = 32\n",
        "\n",
        "model.compile(optimizer= optimizer,\n",
        "              loss = loss,\n",
        "              metrics=['acc'])\n",
        "\n",
        "history_4 = model.fit(x_train, y_train,\n",
        "                    epochs=epochs,\n",
        "                    batch_size=batch_size,\n",
        "                    validation_data=(x_val, y_val),\n",
        "                    callbacks=callbacks_list)\n",
        "\n",
        "model.save_weights('model_4.h5')"
      ],
      "execution_count": 0,
      "outputs": [
        {
          "output_type": "stream",
          "text": [
            "Train on 1000 samples, validate on 316 samples\n",
            "Epoch 1/100\n",
            "1000/1000 [==============================] - 1s 1ms/step - loss: 7.4520 - acc: 0.5300 - val_loss: 7.5059 - val_acc: 0.5316\n",
            "Epoch 2/100\n",
            "1000/1000 [==============================] - 0s 217us/step - loss: 7.7069 - acc: 0.5210 - val_loss: 7.4992 - val_acc: 0.5316\n",
            "Epoch 3/100\n",
            "1000/1000 [==============================] - 0s 211us/step - loss: 7.7058 - acc: 0.5210 - val_loss: 7.5060 - val_acc: 0.5316\n",
            "Epoch 4/100\n",
            "1000/1000 [==============================] - 0s 228us/step - loss: 7.7056 - acc: 0.5210 - val_loss: 7.5205 - val_acc: 0.5316\n",
            "Epoch 5/100\n",
            "1000/1000 [==============================] - 0s 212us/step - loss: 7.7056 - acc: 0.5210 - val_loss: 7.5207 - val_acc: 0.5316\n",
            "Epoch 00005: early stopping\n"
          ],
          "name": "stdout"
        }
      ]
    },
    {
      "metadata": {
        "colab_type": "code",
        "outputId": "841ce84d-0e87-4db8-9bdb-d0e650468246",
        "id": "rPMKGmcx_Uwb",
        "colab": {
          "base_uri": "https://localhost:8080/",
          "height": 241
        }
      },
      "cell_type": "code",
      "source": [
        "optimizer = optimizers.Adam(lr=0.1)\n",
        "loss = 'categorical_crossentropy'\n",
        "epochs = 100\n",
        "batch_size = 32\n",
        "\n",
        "model.compile(optimizer= optimizer,\n",
        "              loss = loss,\n",
        "              metrics=['acc'])\n",
        "\n",
        "history_5 = model.fit(x_train, y_train,\n",
        "                    epochs=epochs,\n",
        "                    batch_size=batch_size,\n",
        "                    validation_data=(x_val, y_val),\n",
        "                    callbacks=callbacks_list)\n",
        "\n",
        "model.save_weights('model_5.h5')"
      ],
      "execution_count": 0,
      "outputs": [
        {
          "output_type": "stream",
          "text": [
            "Train on 1000 samples, validate on 316 samples\n",
            "Epoch 1/100\n",
            "1000/1000 [==============================] - 1s 1ms/step - loss: 7.7407 - acc: 0.5190 - val_loss: 7.5490 - val_acc: 0.5316\n",
            "Epoch 2/100\n",
            "1000/1000 [==============================] - 0s 227us/step - loss: 7.7376 - acc: 0.5190 - val_loss: 7.5490 - val_acc: 0.5316\n",
            "Epoch 3/100\n",
            "1000/1000 [==============================] - 0s 214us/step - loss: 7.7372 - acc: 0.5200 - val_loss: 7.5490 - val_acc: 0.5316\n",
            "Epoch 4/100\n",
            "1000/1000 [==============================] - 0s 212us/step - loss: 7.7370 - acc: 0.5200 - val_loss: 7.5490 - val_acc: 0.5316\n",
            "Epoch 5/100\n",
            "1000/1000 [==============================] - 0s 208us/step - loss: 7.7369 - acc: 0.5200 - val_loss: 7.5490 - val_acc: 0.5316\n",
            "Epoch 00005: early stopping\n"
          ],
          "name": "stdout"
        }
      ]
    },
    {
      "metadata": {
        "colab_type": "code",
        "outputId": "216d4cf1-63b2-4c74-a30d-1eb2344b133b",
        "id": "peROD8eJ_Uwd",
        "colab": {
          "base_uri": "https://localhost:8080/",
          "height": 241
        }
      },
      "cell_type": "code",
      "source": [
        "optimizer = optimizers.Adam(lr=0.1)\n",
        "loss = 'categorical_crossentropy'\n",
        "epochs = 200\n",
        "batch_size = 54\n",
        "\n",
        "model.compile(optimizer= optimizer,\n",
        "              loss = loss,\n",
        "              metrics=['acc'])\n",
        "\n",
        "history_6 = model.fit(x_train, y_train,\n",
        "                    epochs=epochs,\n",
        "                    batch_size=batch_size,\n",
        "                    validation_data=(x_val, y_val),\n",
        "                    callbacks=callbacks_list)\n",
        "\n",
        "model.save_weights('model_6.h5')"
      ],
      "execution_count": 0,
      "outputs": [
        {
          "output_type": "stream",
          "text": [
            "Train on 1000 samples, validate on 316 samples\n",
            "Epoch 1/200\n",
            "1000/1000 [==============================] - 1s 1ms/step - loss: 7.7368 - acc: 0.5200 - val_loss: 7.5490 - val_acc: 0.5316\n",
            "Epoch 2/200\n",
            "1000/1000 [==============================] - 0s 157us/step - loss: 7.7367 - acc: 0.5200 - val_loss: 7.5490 - val_acc: 0.5316\n",
            "Epoch 3/200\n",
            "1000/1000 [==============================] - 0s 140us/step - loss: 7.7367 - acc: 0.5200 - val_loss: 7.5490 - val_acc: 0.5316\n",
            "Epoch 4/200\n",
            "1000/1000 [==============================] - 0s 139us/step - loss: 7.7367 - acc: 0.5200 - val_loss: 7.5490 - val_acc: 0.5316\n",
            "Epoch 5/200\n",
            "1000/1000 [==============================] - 0s 138us/step - loss: 7.7367 - acc: 0.5200 - val_loss: 7.5490 - val_acc: 0.5316\n",
            "Epoch 00005: early stopping\n"
          ],
          "name": "stdout"
        }
      ]
    },
    {
      "metadata": {
        "colab_type": "text",
        "id": "JtiTYerMA133"
      },
      "cell_type": "markdown",
      "source": [
        "### 3.2.2 Plot Confusion Matrix\n",
        "\n",
        "Model 3 delivers the best accuracy"
      ]
    },
    {
      "metadata": {
        "colab_type": "code",
        "outputId": "f7ebd9c4-e611-4858-8a87-4f90199ce43e",
        "id": "9vem8ieFA13-",
        "colab": {
          "base_uri": "https://localhost:8080/",
          "height": 51
        }
      },
      "cell_type": "code",
      "source": [
        "model.load_weights('model_3.h5')\n",
        "model.evaluate(x_test, y_test)"
      ],
      "execution_count": 0,
      "outputs": [
        {
          "output_type": "stream",
          "text": [
            "328/328 [==============================] - 0s 91us/step\n"
          ],
          "name": "stdout"
        },
        {
          "output_type": "execute_result",
          "data": {
            "text/plain": [
              "[1.5599273181543118, 0.6128048780487805]"
            ]
          },
          "metadata": {
            "tags": []
          },
          "execution_count": 75
        }
      ]
    },
    {
      "metadata": {
        "colab_type": "code",
        "outputId": "e1a3c621-2f06-4198-e2f1-f124bab57d94",
        "id": "jSfTDaenA14C",
        "colab": {
          "base_uri": "https://localhost:8080/",
          "height": 368
        }
      },
      "cell_type": "code",
      "source": [
        "import seaborn as sns\n",
        "from sklearn import metrics\n",
        "\n",
        "y_pred = model.predict(x_test)\n",
        "matrix = metrics.confusion_matrix(y_test.argmax(axis=1), y_pred.argmax(axis=1))\n",
        "sns.heatmap(matrix,annot=True,fmt='.5g')"
      ],
      "execution_count": 0,
      "outputs": [
        {
          "output_type": "execute_result",
          "data": {
            "text/plain": [
              "<matplotlib.axes._subplots.AxesSubplot at 0x7f0005850ac8>"
            ]
          },
          "metadata": {
            "tags": []
          },
          "execution_count": 76
        },
        {
          "output_type": "display_data",
          "data": {
            "image/png": "[encoded data removed]",
            "text/plain": [
              "<Figure size 576x396 with 2 Axes>"
            ]
          },
          "metadata": {
            "tags": []
          }
        }
      ]
    },
    {
      "metadata": {
        "id": "F-rYwL6nA9Sb",
        "colab_type": "text"
      },
      "cell_type": "markdown",
      "source": [
        "### 3.2.3 Observation:\n",
        "\n",
        "- Positive: 67.8% acc\n",
        "- Neutral: 68.4% acc\n",
        "- Negative: 5.5%\n",
        "\n",
        "Most negative are falsely predicted"
      ]
    },
    {
      "metadata": {
        "id": "_5cv7OJNG6T2",
        "colab_type": "text"
      },
      "cell_type": "markdown",
      "source": [
        "# 4.Experiment - Freezed Embedding Layer + CNN - GloVe"
      ]
    },
    {
      "metadata": {
        "id": "KaXbSolLIGNc",
        "colab_type": "code",
        "colab": {}
      },
      "cell_type": "code",
      "source": [
        "import keras\n",
        "from keras import regularizers\n",
        "from keras.layers import Dense, Activation, Dropout, Flatten\n",
        "from keras.layers import Embedding, Conv1D, MaxPooling1D, GlobalMaxPooling1D \n",
        "from keras.utils import plot_model\n",
        "from keras.preprocessing import sequence\n",
        "\n",
        "from tqdm import tqdm\n",
        "from nltk.corpus import stopwords\n",
        "from nltk.tokenize import RegexpTokenizer \n",
        "import os, re, csv, math, codecs"
      ],
      "execution_count": 0,
      "outputs": []
    },
    {
      "metadata": {
        "id": "KeTwa-jxTgV2",
        "colab_type": "text"
      },
      "cell_type": "markdown",
      "source": [
        "## 4.1 Embedding_dim = 100"
      ]
    },
    {
      "metadata": {
        "id": "oRtVwMfAMCSK",
        "colab_type": "text"
      },
      "cell_type": "markdown",
      "source": [
        "### 4.1.1 Training"
      ]
    },
    {
      "metadata": {
        "colab_type": "code",
        "outputId": "cc88e5fe-9e88-4270-9643-1a89ac98e13c",
        "id": "ScnM8GyZIQxV",
        "colab": {
          "base_uri": "https://localhost:8080/",
          "height": 34
        }
      },
      "cell_type": "code",
      "source": [
        "embeddings_index = {}\n",
        "\n",
        "with open('glove.6B.100d.txt') as f:\n",
        "  for line in f:\n",
        "      values = line.split()\n",
        "      word = values[0]\n",
        "      coefs = np.asarray(values[1:], dtype='float32')\n",
        "      embeddings_index[word] = coefs\n",
        "\n",
        "print('Found %s word vectors.' % len(embeddings_index))"
      ],
      "execution_count": 0,
      "outputs": [
        {
          "output_type": "stream",
          "text": [
            "Found 400000 word vectors.\n"
          ],
          "name": "stdout"
        }
      ]
    },
    {
      "metadata": {
        "colab_type": "code",
        "id": "H8f49YNSIQxd",
        "colab": {}
      },
      "cell_type": "code",
      "source": [
        "# set dimemsions (# features for each word vector) for embedding layer\n",
        "embedding_dim = 100\n",
        "\n",
        "embedding_matrix = np.zeros((max_words, embedding_dim))\n",
        "for word, i in word_index.items():\n",
        "    embedding_vector = embeddings_index.get(word)\n",
        "    if i < max_words:\n",
        "        if embedding_vector is not None:\n",
        "            # Words not found in embedding index will be all-zeros.\n",
        "            embedding_matrix[i] = embedding_vector"
      ],
      "execution_count": 0,
      "outputs": []
    },
    {
      "metadata": {
        "id": "aqE5nnZUHEqZ",
        "colab_type": "code",
        "colab": {}
      },
      "cell_type": "code",
      "source": [
        "#training params\n",
        "batch_size = 256 \n",
        "num_epochs = 50\n",
        "\n",
        "\n",
        "#model parameters\n",
        "num_filters = 64 \n",
        "embedding_dim = 100 \n",
        "weight_decay = 1e-4\n",
        "\n",
        "optimizer = optimizers.Adam(lr=0.001)"
      ],
      "execution_count": 0,
      "outputs": []
    },
    {
      "metadata": {
        "id": "wf418016HEoU",
        "colab_type": "code",
        "outputId": "d6a100de-de69-4e76-ad7c-a54022a68d46",
        "colab": {
          "base_uri": "https://localhost:8080/",
          "height": 408
        }
      },
      "cell_type": "code",
      "source": [
        "model = Sequential()\n",
        "model.add(Embedding(max_words, embedding_dim,\n",
        "          weights=[embedding_matrix], input_length=maxlen, trainable=False))\n",
        "model.add(Conv1D(num_filters, 7, activation='relu', padding='same'))\n",
        "model.add(MaxPooling1D(2))\n",
        "model.add(Conv1D(num_filters, 7, activation='relu', padding='same'))\n",
        "model.add(GlobalMaxPooling1D())\n",
        "model.add(Dropout(0.5))\n",
        "model.add(Dense(32, activation='relu', kernel_regularizer=regularizers.l2(weight_decay)))\n",
        "model.add(Dense(3, activation='softmax'))  #multi-label (k-hot encoding)\n",
        "\n",
        "\n",
        "model.compile(loss='categorical_crossentropy', optimizer=optimizer, metrics=['accuracy'])\n",
        "model.summary()"
      ],
      "execution_count": 0,
      "outputs": [
        {
          "output_type": "stream",
          "text": [
            "_________________________________________________________________\n",
            "Layer (type)                 Output Shape              Param #   \n",
            "=================================================================\n",
            "embedding_23 (Embedding)     (None, 100, 100)          1000000   \n",
            "_________________________________________________________________\n",
            "conv1d_29 (Conv1D)           (None, 100, 64)           44864     \n",
            "_________________________________________________________________\n",
            "max_pooling1d_15 (MaxPooling (None, 50, 64)            0         \n",
            "_________________________________________________________________\n",
            "conv1d_30 (Conv1D)           (None, 50, 64)            28736     \n",
            "_________________________________________________________________\n",
            "global_max_pooling1d_15 (Glo (None, 64)                0         \n",
            "_________________________________________________________________\n",
            "dropout_15 (Dropout)         (None, 64)                0         \n",
            "_________________________________________________________________\n",
            "dense_43 (Dense)             (None, 32)                2080      \n",
            "_________________________________________________________________\n",
            "dense_44 (Dense)             (None, 3)                 99        \n",
            "=================================================================\n",
            "Total params: 1,075,779\n",
            "Trainable params: 75,779\n",
            "Non-trainable params: 1,000,000\n",
            "_________________________________________________________________\n"
          ],
          "name": "stdout"
        }
      ]
    },
    {
      "metadata": {
        "id": "aL7Ae8DPHxqI",
        "colab_type": "code",
        "outputId": "361080c7-8b63-4c4f-dca1-53168dcd138a",
        "colab": {
          "base_uri": "https://localhost:8080/",
          "height": 221
        }
      },
      "cell_type": "code",
      "source": [
        "#define callbacks\n",
        "early_stopping = EarlyStopping(monitor='val_loss', min_delta=0.01, patience=4, verbose=1)\n",
        "callbacks_list = [early_stopping]\n",
        "\n",
        "#model training\n",
        "hist = model.fit(x_train, \n",
        "                 y_train, \n",
        "                 batch_size=batch_size, \n",
        "                 epochs=num_epochs, \n",
        "                 callbacks=callbacks_list, \n",
        "                 validation_split=0.1, \n",
        "                 shuffle=True, \n",
        "                 verbose=2)\n",
        "\n",
        "model.save_weights('model_txtCNN_1.h5')"
      ],
      "execution_count": 0,
      "outputs": [
        {
          "output_type": "stream",
          "text": [
            "Train on 900 samples, validate on 100 samples\n",
            "Epoch 1/50\n",
            " - 0s - loss: 0.0525 - acc: 0.9889 - val_loss: 1.0812 - val_acc: 0.7000\n",
            "Epoch 2/50\n",
            " - 0s - loss: 0.0464 - acc: 0.9956 - val_loss: 1.1763 - val_acc: 0.6000\n",
            "Epoch 3/50\n",
            " - 0s - loss: 0.0493 - acc: 0.9911 - val_loss: 1.1026 - val_acc: 0.7000\n",
            "Epoch 4/50\n",
            " - 0s - loss: 0.0485 - acc: 0.9911 - val_loss: 1.1636 - val_acc: 0.6400\n",
            "Epoch 5/50\n",
            " - 0s - loss: 0.0402 - acc: 0.9922 - val_loss: 1.1510 - val_acc: 0.7300\n",
            "Epoch 00005: early stopping\n"
          ],
          "name": "stdout"
        }
      ]
    },
    {
      "metadata": {
        "id": "xXV7kPQ3Iz7H",
        "colab_type": "code",
        "outputId": "077c7727-deb8-4aec-ab55-7eea13e50a2e",
        "colab": {
          "base_uri": "https://localhost:8080/",
          "height": 782
        }
      },
      "cell_type": "code",
      "source": [
        "#training params\n",
        "batch_size = 256 \n",
        "num_epochs = 50\n",
        "\n",
        "\n",
        "#model parameters\n",
        "num_filters = 64 \n",
        "embedding_dim = 100 \n",
        "weight_decay = 1e-4\n",
        "\n",
        "optimizer = optimizers.Adam(lr=0.01)\n",
        "\n",
        "model = Sequential()\n",
        "model.add(Embedding(max_words, embedding_dim,\n",
        "          weights=[embedding_matrix], input_length=maxlen, trainable=False))\n",
        "model.add(Conv1D(num_filters, 7, activation='relu', padding='same'))\n",
        "model.add(MaxPooling1D(2))\n",
        "model.add(Conv1D(num_filters, 7, activation='relu', padding='same'))\n",
        "model.add(GlobalMaxPooling1D())\n",
        "model.add(Dropout(0.5))\n",
        "model.add(Dense(32, activation='relu', kernel_regularizer=regularizers.l2(weight_decay)))\n",
        "model.add(Dense(3, activation='softmax'))  #multi-label (k-hot encoding)\n",
        "\n",
        "\n",
        "model.compile(loss='categorical_crossentropy', optimizer=optimizer, metrics=['accuracy'])\n",
        "model.summary()\n",
        "\n",
        "#define callbacks\n",
        "early_stopping = EarlyStopping(monitor='val_loss', min_delta=0.01, patience=4, verbose=1)\n",
        "callbacks_list = [early_stopping]\n",
        "\n",
        "#model training\n",
        "hist = model.fit(x_train, \n",
        "                 y_train, \n",
        "                 batch_size=batch_size, \n",
        "                 epochs=num_epochs, \n",
        "                 callbacks=callbacks_list, \n",
        "                 validation_split=0.1, \n",
        "                 shuffle=True, \n",
        "                 verbose=2)\n",
        "\n",
        "model.save_weights('model_txtCNN_2.h5')"
      ],
      "execution_count": 0,
      "outputs": [
        {
          "output_type": "stream",
          "text": [
            "_________________________________________________________________\n",
            "Layer (type)                 Output Shape              Param #   \n",
            "=================================================================\n",
            "embedding_17 (Embedding)     (None, 100, 100)          1000000   \n",
            "_________________________________________________________________\n",
            "conv1d_17 (Conv1D)           (None, 100, 64)           44864     \n",
            "_________________________________________________________________\n",
            "max_pooling1d_9 (MaxPooling1 (None, 50, 64)            0         \n",
            "_________________________________________________________________\n",
            "conv1d_18 (Conv1D)           (None, 50, 64)            28736     \n",
            "_________________________________________________________________\n",
            "global_max_pooling1d_9 (Glob (None, 64)                0         \n",
            "_________________________________________________________________\n",
            "dropout_9 (Dropout)          (None, 64)                0         \n",
            "_________________________________________________________________\n",
            "dense_31 (Dense)             (None, 32)                2080      \n",
            "_________________________________________________________________\n",
            "dense_32 (Dense)             (None, 3)                 99        \n",
            "=================================================================\n",
            "Total params: 1,075,779\n",
            "Trainable params: 75,779\n",
            "Non-trainable params: 1,000,000\n",
            "_________________________________________________________________\n",
            "Train on 900 samples, validate on 100 samples\n",
            "Epoch 1/50\n",
            " - 2s - loss: 2.4411 - acc: 0.4678 - val_loss: 1.0066 - val_acc: 0.5000\n",
            "Epoch 2/50\n",
            " - 0s - loss: 0.9950 - acc: 0.4844 - val_loss: 0.9807 - val_acc: 0.5000\n",
            "Epoch 3/50\n",
            " - 0s - loss: 0.9343 - acc: 0.5000 - val_loss: 0.9269 - val_acc: 0.5000\n",
            "Epoch 4/50\n",
            " - 0s - loss: 0.8744 - acc: 0.5556 - val_loss: 0.9152 - val_acc: 0.5700\n",
            "Epoch 5/50\n",
            " - 0s - loss: 0.8417 - acc: 0.5611 - val_loss: 0.8861 - val_acc: 0.5900\n",
            "Epoch 6/50\n",
            " - 0s - loss: 0.8139 - acc: 0.5889 - val_loss: 0.8729 - val_acc: 0.5800\n",
            "Epoch 7/50\n",
            " - 0s - loss: 0.7788 - acc: 0.6111 - val_loss: 0.9089 - val_acc: 0.6100\n",
            "Epoch 8/50\n",
            " - 0s - loss: 0.7483 - acc: 0.6611 - val_loss: 0.9113 - val_acc: 0.6000\n",
            "Epoch 9/50\n",
            " - 0s - loss: 0.7541 - acc: 0.6344 - val_loss: 0.9115 - val_acc: 0.6200\n",
            "Epoch 10/50\n",
            " - 0s - loss: 0.7066 - acc: 0.6778 - val_loss: 0.8971 - val_acc: 0.5900\n",
            "Epoch 00010: early stopping\n"
          ],
          "name": "stdout"
        }
      ]
    },
    {
      "metadata": {
        "id": "ihYb6klSKk-L",
        "colab_type": "code",
        "outputId": "5b5729ff-0af5-4b22-da9e-8b4f8176198e",
        "colab": {
          "base_uri": "https://localhost:8080/",
          "height": 1020
        }
      },
      "cell_type": "code",
      "source": [
        "#training params\n",
        "batch_size = 256 \n",
        "num_epochs = 50\n",
        "\n",
        "\n",
        "#model parameters\n",
        "num_filters = 128 \n",
        "embedding_dim = 100 \n",
        "weight_decay = 1e-4\n",
        "\n",
        "optimizer = optimizers.Adam(lr=0.001)\n",
        "\n",
        "model = Sequential()\n",
        "model.add(Embedding(max_words, embedding_dim,\n",
        "          weights=[embedding_matrix], input_length=maxlen, trainable=False))\n",
        "model.add(Conv1D(num_filters, 7, activation='relu', padding='same'))\n",
        "model.add(MaxPooling1D(2))\n",
        "model.add(Conv1D(num_filters, 7, activation='relu', padding='same'))\n",
        "model.add(GlobalMaxPooling1D())\n",
        "model.add(Dropout(0.5))\n",
        "model.add(Dense(32, activation='relu', kernel_regularizer=regularizers.l2(weight_decay)))\n",
        "model.add(Dense(3, activation='softmax'))  #multi-label (k-hot encoding)\n",
        "\n",
        "\n",
        "model.compile(loss='categorical_crossentropy', optimizer=optimizer, metrics=['accuracy'])\n",
        "model.summary()\n",
        "\n",
        "#define callbacks\n",
        "early_stopping = EarlyStopping(monitor='val_loss', min_delta=0.01, patience=4, verbose=1)\n",
        "callbacks_list = [early_stopping]\n",
        "\n",
        "#model training\n",
        "hist = model.fit(x_train, \n",
        "                 y_train, \n",
        "                 batch_size=batch_size, \n",
        "                 epochs=num_epochs, \n",
        "                 callbacks=callbacks_list, \n",
        "                 validation_split=0.1, \n",
        "                 shuffle=True, \n",
        "                 verbose=2)\n",
        "\n",
        "model.save_weights('model_txtCNN_2.h5')"
      ],
      "execution_count": 0,
      "outputs": [
        {
          "output_type": "stream",
          "text": [
            "_________________________________________________________________\n",
            "Layer (type)                 Output Shape              Param #   \n",
            "=================================================================\n",
            "embedding_18 (Embedding)     (None, 100, 100)          1000000   \n",
            "_________________________________________________________________\n",
            "conv1d_19 (Conv1D)           (None, 100, 128)          89728     \n",
            "_________________________________________________________________\n",
            "max_pooling1d_10 (MaxPooling (None, 50, 128)           0         \n",
            "_________________________________________________________________\n",
            "conv1d_20 (Conv1D)           (None, 50, 128)           114816    \n",
            "_________________________________________________________________\n",
            "global_max_pooling1d_10 (Glo (None, 128)               0         \n",
            "_________________________________________________________________\n",
            "dropout_10 (Dropout)         (None, 128)               0         \n",
            "_________________________________________________________________\n",
            "dense_33 (Dense)             (None, 32)                4128      \n",
            "_________________________________________________________________\n",
            "dense_34 (Dense)             (None, 3)                 99        \n",
            "=================================================================\n",
            "Total params: 1,208,771\n",
            "Trainable params: 208,771\n",
            "Non-trainable params: 1,000,000\n",
            "_________________________________________________________________\n",
            "Train on 900 samples, validate on 100 samples\n",
            "Epoch 1/50\n",
            " - 4s - loss: 1.2569 - acc: 0.4500 - val_loss: 1.0015 - val_acc: 0.5500\n",
            "Epoch 2/50\n",
            " - 0s - loss: 1.0112 - acc: 0.4900 - val_loss: 0.9905 - val_acc: 0.5700\n",
            "Epoch 3/50\n",
            " - 0s - loss: 0.9592 - acc: 0.5300 - val_loss: 0.9656 - val_acc: 0.5100\n",
            "Epoch 4/50\n",
            " - 0s - loss: 0.9030 - acc: 0.5611 - val_loss: 0.9579 - val_acc: 0.5000\n",
            "Epoch 5/50\n",
            " - 0s - loss: 0.8884 - acc: 0.5644 - val_loss: 0.9204 - val_acc: 0.5000\n",
            "Epoch 6/50\n",
            " - 0s - loss: 0.8480 - acc: 0.5789 - val_loss: 0.8875 - val_acc: 0.6200\n",
            "Epoch 7/50\n",
            " - 0s - loss: 0.8024 - acc: 0.5911 - val_loss: 0.8757 - val_acc: 0.6000\n",
            "Epoch 8/50\n",
            " - 0s - loss: 0.7752 - acc: 0.6378 - val_loss: 0.8413 - val_acc: 0.6500\n",
            "Epoch 9/50\n",
            " - 0s - loss: 0.7696 - acc: 0.6267 - val_loss: 0.8325 - val_acc: 0.6600\n",
            "Epoch 10/50\n",
            " - 0s - loss: 0.7419 - acc: 0.6489 - val_loss: 0.8446 - val_acc: 0.6600\n",
            "Epoch 11/50\n",
            " - 0s - loss: 0.7185 - acc: 0.6456 - val_loss: 0.8223 - val_acc: 0.6700\n",
            "Epoch 12/50\n",
            " - 0s - loss: 0.6966 - acc: 0.6800 - val_loss: 0.8221 - val_acc: 0.7000\n",
            "Epoch 13/50\n",
            " - 0s - loss: 0.6409 - acc: 0.7067 - val_loss: 0.7909 - val_acc: 0.6900\n",
            "Epoch 14/50\n",
            " - 0s - loss: 0.6242 - acc: 0.7344 - val_loss: 0.7986 - val_acc: 0.7000\n",
            "Epoch 15/50\n",
            " - 0s - loss: 0.5894 - acc: 0.7544 - val_loss: 0.8155 - val_acc: 0.7300\n",
            "Epoch 16/50\n",
            " - 0s - loss: 0.5464 - acc: 0.7778 - val_loss: 0.7823 - val_acc: 0.6800\n",
            "Epoch 17/50\n",
            " - 0s - loss: 0.5284 - acc: 0.7867 - val_loss: 0.8012 - val_acc: 0.7100\n",
            "Epoch 00017: early stopping\n"
          ],
          "name": "stdout"
        }
      ]
    },
    {
      "metadata": {
        "colab_type": "text",
        "id": "Lb2cDQvSLFjO"
      },
      "cell_type": "markdown",
      "source": [
        "### 4.1.2 Plot Confusion Matrix\n",
        "\n",
        "Model 1 delivers the best accuracy"
      ]
    },
    {
      "metadata": {
        "colab_type": "code",
        "outputId": "49e43fb8-3e60-4511-89b1-6bba2ea20f09",
        "id": "uwf41mdKLFjQ",
        "colab": {
          "base_uri": "https://localhost:8080/",
          "height": 51
        }
      },
      "cell_type": "code",
      "source": [
        "# model.load_weights('model_txtCNN_1.h5')\n",
        "model.evaluate(x_test, y_test)"
      ],
      "execution_count": 0,
      "outputs": [
        {
          "output_type": "stream",
          "text": [
            "328/328 [==============================] - 0s 347us/step\n"
          ],
          "name": "stdout"
        },
        {
          "output_type": "execute_result",
          "data": {
            "text/plain": [
              "[1.1832514274411086, 0.6432926829268293]"
            ]
          },
          "metadata": {
            "tags": []
          },
          "execution_count": 131
        }
      ]
    },
    {
      "metadata": {
        "colab_type": "code",
        "outputId": "8bf5b546-3a21-4498-d5d7-90cf18d11c99",
        "id": "PeqfIrS6LFja",
        "colab": {
          "base_uri": "https://localhost:8080/",
          "height": 364
        }
      },
      "cell_type": "code",
      "source": [
        "import seaborn as sns\n",
        "from sklearn import metrics\n",
        "\n",
        "y_pred = model.predict(x_test)\n",
        "matrix = metrics.confusion_matrix(y_test.argmax(axis=1), y_pred.argmax(axis=1))\n",
        "sns.heatmap(matrix,annot=True,fmt='.5g')"
      ],
      "execution_count": 0,
      "outputs": [
        {
          "output_type": "execute_result",
          "data": {
            "text/plain": [
              "<matplotlib.axes._subplots.AxesSubplot at 0x7efffa6f11d0>"
            ]
          },
          "metadata": {
            "tags": []
          },
          "execution_count": 132
        },
        {
          "output_type": "display_data",
          "data": {
            "image/png": "[encoded data removed]",
            "text/plain": [
              "<Figure size 576x396 with 2 Axes>"
            ]
          },
          "metadata": {
            "tags": []
          }
        }
      ]
    },
    {
      "metadata": {
        "colab_type": "text",
        "id": "eP8vxZ-WLFjd"
      },
      "cell_type": "markdown",
      "source": [
        "### 4.1.3 Observation: \n",
        "\n",
        "- For Negative: 2.7% accuracy\n",
        "- For Positive: 79.5% accuracy\n",
        "- For Neutral: 64.4% accuracy"
      ]
    },
    {
      "metadata": {
        "colab_type": "text",
        "id": "kwZBH41qM4XO"
      },
      "cell_type": "markdown",
      "source": [
        "## 4.2 Embedding_dim = 300"
      ]
    },
    {
      "metadata": {
        "colab_type": "text",
        "id": "X3sHXKMiM4XR"
      },
      "cell_type": "markdown",
      "source": [
        "### 4.2.1 Training"
      ]
    },
    {
      "metadata": {
        "colab_type": "code",
        "outputId": "bf50daf5-76ce-4a89-aff3-e4da508f3f98",
        "id": "swvmhFYXM4XS",
        "colab": {
          "base_uri": "https://localhost:8080/",
          "height": 34
        }
      },
      "cell_type": "code",
      "source": [
        "embeddings_index = {}\n",
        "\n",
        "with open('glove.6B.300d.txt') as f:\n",
        "  for line in f:\n",
        "      values = line.split()\n",
        "      word = values[0]\n",
        "      coefs = np.asarray(values[1:], dtype='float32')\n",
        "      embeddings_index[word] = coefs\n",
        "\n",
        "print('Found %s word vectors.' % len(embeddings_index))"
      ],
      "execution_count": 0,
      "outputs": [
        {
          "output_type": "stream",
          "text": [
            "Found 400000 word vectors.\n"
          ],
          "name": "stdout"
        }
      ]
    },
    {
      "metadata": {
        "colab_type": "code",
        "id": "xBh4ziy5M4XV",
        "colab": {}
      },
      "cell_type": "code",
      "source": [
        "# set dimemsions (# features for each word vector) for embedding layer\n",
        "embedding_dim = 300\n",
        "\n",
        "embedding_matrix = np.zeros((max_words, embedding_dim))\n",
        "for word, i in word_index.items():\n",
        "    embedding_vector = embeddings_index.get(word)\n",
        "    if i < max_words:\n",
        "        if embedding_vector is not None:\n",
        "            # Words not found in embedding index will be all-zeros.\n",
        "            embedding_matrix[i] = embedding_vector"
      ],
      "execution_count": 0,
      "outputs": []
    },
    {
      "metadata": {
        "colab_type": "code",
        "id": "i3GjK3uaM4XY",
        "colab": {}
      },
      "cell_type": "code",
      "source": [
        "#training params\n",
        "batch_size = 256 \n",
        "num_epochs = 50\n",
        "\n",
        "\n",
        "#model parameters\n",
        "num_filters = 64 \n",
        "embedding_dim = 300 \n",
        "weight_decay = 1e-4\n",
        "\n",
        "optimizer = optimizers.Adam(lr=0.001)"
      ],
      "execution_count": 0,
      "outputs": []
    },
    {
      "metadata": {
        "colab_type": "code",
        "outputId": "6dc2b20a-c11b-4ea7-9a02-cdbf9b8b39d2",
        "id": "jXaSWrV_M4Xa",
        "colab": {
          "base_uri": "https://localhost:8080/",
          "height": 408
        }
      },
      "cell_type": "code",
      "source": [
        "model = Sequential()\n",
        "model.add(Embedding(max_words, embedding_dim,\n",
        "          weights=[embedding_matrix], input_length=maxlen, trainable=False))\n",
        "model.add(Conv1D(num_filters, 7, activation='relu', padding='same'))\n",
        "model.add(MaxPooling1D(2))\n",
        "model.add(Conv1D(num_filters, 7, activation='relu', padding='same'))\n",
        "model.add(GlobalMaxPooling1D())\n",
        "model.add(Dropout(0.5))\n",
        "model.add(Dense(32, activation='relu', kernel_regularizer=regularizers.l2(weight_decay)))\n",
        "model.add(Dense(3, activation='softmax'))  #multi-label (k-hot encoding)\n",
        "\n",
        "\n",
        "model.compile(loss='categorical_crossentropy', optimizer=optimizer, metrics=['accuracy'])\n",
        "model.summary()"
      ],
      "execution_count": 0,
      "outputs": [
        {
          "output_type": "stream",
          "text": [
            "_________________________________________________________________\n",
            "Layer (type)                 Output Shape              Param #   \n",
            "=================================================================\n",
            "embedding_24 (Embedding)     (None, 100, 300)          3000000   \n",
            "_________________________________________________________________\n",
            "conv1d_31 (Conv1D)           (None, 100, 64)           134464    \n",
            "_________________________________________________________________\n",
            "max_pooling1d_16 (MaxPooling (None, 50, 64)            0         \n",
            "_________________________________________________________________\n",
            "conv1d_32 (Conv1D)           (None, 50, 64)            28736     \n",
            "_________________________________________________________________\n",
            "global_max_pooling1d_16 (Glo (None, 64)                0         \n",
            "_________________________________________________________________\n",
            "dropout_16 (Dropout)         (None, 64)                0         \n",
            "_________________________________________________________________\n",
            "dense_45 (Dense)             (None, 32)                2080      \n",
            "_________________________________________________________________\n",
            "dense_46 (Dense)             (None, 3)                 99        \n",
            "=================================================================\n",
            "Total params: 3,165,379\n",
            "Trainable params: 165,379\n",
            "Non-trainable params: 3,000,000\n",
            "_________________________________________________________________\n"
          ],
          "name": "stdout"
        }
      ]
    },
    {
      "metadata": {
        "colab_type": "code",
        "outputId": "a51d594e-9b03-4376-a18b-8eaab9255b16",
        "id": "ZvGYbPejM4Xi",
        "colab": {
          "base_uri": "https://localhost:8080/",
          "height": 595
        }
      },
      "cell_type": "code",
      "source": [
        "#define callbacks\n",
        "early_stopping = EarlyStopping(monitor='val_loss', min_delta=0.01, patience=4, verbose=1)\n",
        "callbacks_list = [early_stopping]\n",
        "\n",
        "#model training\n",
        "hist = model.fit(x_train, \n",
        "                 y_train, \n",
        "                 batch_size=batch_size, \n",
        "                 epochs=num_epochs, \n",
        "                 callbacks=callbacks_list, \n",
        "                 validation_split=0.1, \n",
        "                 shuffle=True, \n",
        "                 verbose=2)\n",
        "\n",
        "model.save_weights('model_txtCNN_1.h5')"
      ],
      "execution_count": 0,
      "outputs": [
        {
          "output_type": "stream",
          "text": [
            "Train on 900 samples, validate on 100 samples\n",
            "Epoch 1/50\n",
            " - 4s - loss: 1.0663 - acc: 0.4322 - val_loss: 1.0170 - val_acc: 0.4900\n",
            "Epoch 2/50\n",
            " - 0s - loss: 0.9562 - acc: 0.5611 - val_loss: 0.9688 - val_acc: 0.6300\n",
            "Epoch 3/50\n",
            " - 0s - loss: 0.9119 - acc: 0.6089 - val_loss: 0.9334 - val_acc: 0.6600\n",
            "Epoch 4/50\n",
            " - 0s - loss: 0.8673 - acc: 0.6211 - val_loss: 0.9013 - val_acc: 0.6200\n",
            "Epoch 5/50\n",
            " - 0s - loss: 0.8290 - acc: 0.6567 - val_loss: 0.8717 - val_acc: 0.6600\n",
            "Epoch 6/50\n",
            " - 0s - loss: 0.7830 - acc: 0.6778 - val_loss: 0.8594 - val_acc: 0.6700\n",
            "Epoch 7/50\n",
            " - 0s - loss: 0.7455 - acc: 0.7022 - val_loss: 0.8260 - val_acc: 0.6600\n",
            "Epoch 8/50\n",
            " - 0s - loss: 0.7045 - acc: 0.7233 - val_loss: 0.7938 - val_acc: 0.6900\n",
            "Epoch 9/50\n",
            " - 0s - loss: 0.6646 - acc: 0.7356 - val_loss: 0.7920 - val_acc: 0.6800\n",
            "Epoch 10/50\n",
            " - 0s - loss: 0.6120 - acc: 0.7611 - val_loss: 0.7854 - val_acc: 0.7100\n",
            "Epoch 11/50\n",
            " - 0s - loss: 0.5683 - acc: 0.7844 - val_loss: 0.8244 - val_acc: 0.5600\n",
            "Epoch 12/50\n",
            " - 0s - loss: 0.5245 - acc: 0.8122 - val_loss: 0.7656 - val_acc: 0.6900\n",
            "Epoch 13/50\n",
            " - 0s - loss: 0.4797 - acc: 0.8400 - val_loss: 0.7834 - val_acc: 0.6700\n",
            "Epoch 14/50\n",
            " - 0s - loss: 0.4473 - acc: 0.8467 - val_loss: 0.7976 - val_acc: 0.6500\n",
            "Epoch 15/50\n",
            " - 0s - loss: 0.3973 - acc: 0.8733 - val_loss: 0.7807 - val_acc: 0.6700\n",
            "Epoch 16/50\n",
            " - 0s - loss: 0.3820 - acc: 0.8656 - val_loss: 0.8010 - val_acc: 0.6900\n",
            "Epoch 00016: early stopping\n"
          ],
          "name": "stdout"
        }
      ]
    },
    {
      "metadata": {
        "colab_type": "code",
        "outputId": "15c69626-1dc9-489b-eefa-d9a957510e28",
        "id": "K_brx_F-M4Xl",
        "colab": {
          "base_uri": "https://localhost:8080/",
          "height": 680
        }
      },
      "cell_type": "code",
      "source": [
        "#training params\n",
        "batch_size = 256 \n",
        "num_epochs = 50\n",
        "\n",
        "\n",
        "#model parameters\n",
        "num_filters = 64 \n",
        "embedding_dim = 300 \n",
        "weight_decay = 1e-4\n",
        "\n",
        "optimizer = optimizers.Adam(lr=0.01)\n",
        "\n",
        "model = Sequential()\n",
        "model.add(Embedding(max_words, embedding_dim,\n",
        "          weights=[embedding_matrix], input_length=maxlen, trainable=False))\n",
        "model.add(Conv1D(num_filters, 7, activation='relu', padding='same'))\n",
        "model.add(MaxPooling1D(2))\n",
        "model.add(Conv1D(num_filters, 7, activation='relu', padding='same'))\n",
        "model.add(GlobalMaxPooling1D())\n",
        "model.add(Dropout(0.5))\n",
        "model.add(Dense(32, activation='relu', kernel_regularizer=regularizers.l2(weight_decay)))\n",
        "model.add(Dense(3, activation='softmax'))  #multi-label (k-hot encoding)\n",
        "\n",
        "\n",
        "model.compile(loss='categorical_crossentropy', optimizer=optimizer, metrics=['accuracy'])\n",
        "model.summary()\n",
        "\n",
        "#define callbacks\n",
        "early_stopping = EarlyStopping(monitor='val_loss', min_delta=0.01, patience=4, verbose=1)\n",
        "callbacks_list = [early_stopping]\n",
        "\n",
        "#model training\n",
        "hist = model.fit(x_train, \n",
        "                 y_train, \n",
        "                 batch_size=batch_size, \n",
        "                 epochs=num_epochs, \n",
        "                 callbacks=callbacks_list, \n",
        "                 validation_split=0.1, \n",
        "                 shuffle=True, \n",
        "                 verbose=2)\n",
        "\n",
        "model.save_weights('model_txtCNN_2.h5')"
      ],
      "execution_count": 0,
      "outputs": [
        {
          "output_type": "stream",
          "text": [
            "_________________________________________________________________\n",
            "Layer (type)                 Output Shape              Param #   \n",
            "=================================================================\n",
            "embedding_25 (Embedding)     (None, 100, 300)          3000000   \n",
            "_________________________________________________________________\n",
            "conv1d_33 (Conv1D)           (None, 100, 64)           134464    \n",
            "_________________________________________________________________\n",
            "max_pooling1d_17 (MaxPooling (None, 50, 64)            0         \n",
            "_________________________________________________________________\n",
            "conv1d_34 (Conv1D)           (None, 50, 64)            28736     \n",
            "_________________________________________________________________\n",
            "global_max_pooling1d_17 (Glo (None, 64)                0         \n",
            "_________________________________________________________________\n",
            "dropout_17 (Dropout)         (None, 64)                0         \n",
            "_________________________________________________________________\n",
            "dense_47 (Dense)             (None, 32)                2080      \n",
            "_________________________________________________________________\n",
            "dense_48 (Dense)             (None, 3)                 99        \n",
            "=================================================================\n",
            "Total params: 3,165,379\n",
            "Trainable params: 165,379\n",
            "Non-trainable params: 3,000,000\n",
            "_________________________________________________________________\n",
            "Train on 900 samples, validate on 100 samples\n",
            "Epoch 1/50\n",
            " - 3s - loss: 2.1598 - acc: 0.4367 - val_loss: 0.9808 - val_acc: 0.5000\n",
            "Epoch 2/50\n",
            " - 0s - loss: 0.9270 - acc: 0.5222 - val_loss: 0.8659 - val_acc: 0.5600\n",
            "Epoch 3/50\n",
            " - 0s - loss: 0.8513 - acc: 0.5711 - val_loss: 0.8536 - val_acc: 0.6000\n",
            "Epoch 4/50\n",
            " - 0s - loss: 0.7908 - acc: 0.6067 - val_loss: 0.8712 - val_acc: 0.6100\n",
            "Epoch 5/50\n",
            " - 0s - loss: 0.7688 - acc: 0.6378 - val_loss: 0.8652 - val_acc: 0.6100\n",
            "Epoch 6/50\n",
            " - 0s - loss: 0.7087 - acc: 0.6889 - val_loss: 0.8507 - val_acc: 0.6500\n",
            "Epoch 7/50\n",
            " - 0s - loss: 0.6757 - acc: 0.7000 - val_loss: 0.8562 - val_acc: 0.6600\n",
            "Epoch 00007: early stopping\n"
          ],
          "name": "stdout"
        }
      ]
    },
    {
      "metadata": {
        "colab_type": "code",
        "outputId": "08d0efc6-842f-4cc6-a2ea-090a3ac0b4dc",
        "id": "qX1Rn0ytM4Xo",
        "colab": {
          "base_uri": "https://localhost:8080/",
          "height": 1020
        }
      },
      "cell_type": "code",
      "source": [
        "#training params\n",
        "batch_size = 256 \n",
        "num_epochs = 50\n",
        "\n",
        "\n",
        "#model parameters\n",
        "num_filters = 128 \n",
        "embedding_dim = 300 \n",
        "weight_decay = 1e-4\n",
        "\n",
        "optimizer = optimizers.Adam(lr=0.001)\n",
        "\n",
        "model = Sequential()\n",
        "model.add(Embedding(max_words, embedding_dim,\n",
        "          weights=[embedding_matrix], input_length=maxlen, trainable=False))\n",
        "model.add(Conv1D(num_filters, 7, activation='relu', padding='same'))\n",
        "model.add(MaxPooling1D(2))\n",
        "model.add(Conv1D(num_filters, 7, activation='relu', padding='same'))\n",
        "model.add(GlobalMaxPooling1D())\n",
        "model.add(Dropout(0.5))\n",
        "model.add(Dense(32, activation='relu', kernel_regularizer=regularizers.l2(weight_decay)))\n",
        "model.add(Dense(3, activation='softmax'))  #multi-label (k-hot encoding)\n",
        "\n",
        "\n",
        "model.compile(loss='categorical_crossentropy', optimizer=optimizer, metrics=['accuracy'])\n",
        "model.summary()\n",
        "\n",
        "#define callbacks\n",
        "early_stopping = EarlyStopping(monitor='val_loss', min_delta=0.01, patience=4, verbose=1)\n",
        "callbacks_list = [early_stopping]\n",
        "\n",
        "#model training\n",
        "hist = model.fit(x_train, \n",
        "                 y_train, \n",
        "                 batch_size=batch_size, \n",
        "                 epochs=num_epochs, \n",
        "                 callbacks=callbacks_list, \n",
        "                 validation_split=0.1, \n",
        "                 shuffle=True, \n",
        "                 verbose=2)\n",
        "\n",
        "model.save_weights('model_txtCNN_3.h5')"
      ],
      "execution_count": 0,
      "outputs": [
        {
          "output_type": "stream",
          "text": [
            "_________________________________________________________________\n",
            "Layer (type)                 Output Shape              Param #   \n",
            "=================================================================\n",
            "embedding_28 (Embedding)     (None, 100, 300)          3000000   \n",
            "_________________________________________________________________\n",
            "conv1d_37 (Conv1D)           (None, 100, 128)          268928    \n",
            "_________________________________________________________________\n",
            "max_pooling1d_19 (MaxPooling (None, 50, 128)           0         \n",
            "_________________________________________________________________\n",
            "conv1d_38 (Conv1D)           (None, 50, 128)           114816    \n",
            "_________________________________________________________________\n",
            "global_max_pooling1d_19 (Glo (None, 128)               0         \n",
            "_________________________________________________________________\n",
            "dropout_19 (Dropout)         (None, 128)               0         \n",
            "_________________________________________________________________\n",
            "dense_51 (Dense)             (None, 32)                4128      \n",
            "_________________________________________________________________\n",
            "dense_52 (Dense)             (None, 3)                 99        \n",
            "=================================================================\n",
            "Total params: 3,387,971\n",
            "Trainable params: 387,971\n",
            "Non-trainable params: 3,000,000\n",
            "_________________________________________________________________\n",
            "Train on 900 samples, validate on 100 samples\n",
            "Epoch 1/50\n",
            " - 4s - loss: 1.0398 - acc: 0.4878 - val_loss: 0.9684 - val_acc: 0.5000\n",
            "Epoch 2/50\n",
            " - 0s - loss: 0.9074 - acc: 0.5711 - val_loss: 0.9040 - val_acc: 0.6900\n",
            "Epoch 3/50\n",
            " - 0s - loss: 0.8500 - acc: 0.6011 - val_loss: 0.8494 - val_acc: 0.6800\n",
            "Epoch 4/50\n",
            " - 0s - loss: 0.7754 - acc: 0.6478 - val_loss: 0.8160 - val_acc: 0.6400\n",
            "Epoch 5/50\n",
            " - 0s - loss: 0.7290 - acc: 0.6656 - val_loss: 0.7868 - val_acc: 0.6900\n",
            "Epoch 6/50\n",
            " - 0s - loss: 0.6719 - acc: 0.7167 - val_loss: 0.7978 - val_acc: 0.6800\n",
            "Epoch 7/50\n",
            " - 0s - loss: 0.6294 - acc: 0.7311 - val_loss: 0.7997 - val_acc: 0.7100\n",
            "Epoch 8/50\n",
            " - 0s - loss: 0.5453 - acc: 0.7833 - val_loss: 0.7675 - val_acc: 0.7300\n",
            "Epoch 9/50\n",
            " - 0s - loss: 0.4950 - acc: 0.8256 - val_loss: 0.7564 - val_acc: 0.7100\n",
            "Epoch 10/50\n",
            " - 0s - loss: 0.4608 - acc: 0.8278 - val_loss: 0.7543 - val_acc: 0.7200\n",
            "Epoch 11/50\n",
            " - 0s - loss: 0.4033 - acc: 0.8667 - val_loss: 0.7453 - val_acc: 0.6900\n",
            "Epoch 12/50\n",
            " - 0s - loss: 0.3368 - acc: 0.8833 - val_loss: 0.7673 - val_acc: 0.7400\n",
            "Epoch 13/50\n",
            " - 0s - loss: 0.3034 - acc: 0.9100 - val_loss: 0.7311 - val_acc: 0.7200\n",
            "Epoch 14/50\n",
            " - 0s - loss: 0.2420 - acc: 0.9256 - val_loss: 0.7881 - val_acc: 0.7300\n",
            "Epoch 15/50\n",
            " - 0s - loss: 0.2141 - acc: 0.9422 - val_loss: 0.7505 - val_acc: 0.7200\n",
            "Epoch 16/50\n",
            " - 0s - loss: 0.1772 - acc: 0.9600 - val_loss: 0.8584 - val_acc: 0.7200\n",
            "Epoch 17/50\n",
            " - 0s - loss: 0.1566 - acc: 0.9611 - val_loss: 0.8068 - val_acc: 0.7100\n",
            "Epoch 00017: early stopping\n"
          ],
          "name": "stdout"
        }
      ]
    },
    {
      "metadata": {
        "colab_type": "text",
        "id": "bQ9J464KM4Xu"
      },
      "cell_type": "markdown",
      "source": [
        "### 4.2.2 Plot Confusion Matrix\n",
        "\n",
        "Model 1 delivers the best accuracy"
      ]
    },
    {
      "metadata": {
        "colab_type": "code",
        "outputId": "378b3992-8d68-491c-dc49-ecb693ccfd34",
        "id": "Wpas_Up0M4Xv",
        "colab": {
          "base_uri": "https://localhost:8080/",
          "height": 51
        }
      },
      "cell_type": "code",
      "source": [
        "# model.load_weights('model_txtCNN_3.h5')\n",
        "model.evaluate(x_test, y_test)"
      ],
      "execution_count": 0,
      "outputs": [
        {
          "output_type": "stream",
          "text": [
            "328/328 [==============================] - 0s 229us/step\n"
          ],
          "name": "stdout"
        },
        {
          "output_type": "execute_result",
          "data": {
            "text/plain": [
              "[0.8450581896595839, 0.6859756097560976]"
            ]
          },
          "metadata": {
            "tags": []
          },
          "execution_count": 142
        }
      ]
    },
    {
      "metadata": {
        "colab_type": "code",
        "outputId": "4fa1a20c-75a8-4234-fb0a-fc597edb0819",
        "id": "yWe_cOUPM4X3",
        "colab": {
          "base_uri": "https://localhost:8080/",
          "height": 364
        }
      },
      "cell_type": "code",
      "source": [
        "import seaborn as sns\n",
        "from sklearn import metrics\n",
        "\n",
        "y_pred = model.predict(x_test)\n",
        "matrix = metrics.confusion_matrix(y_test.argmax(axis=1), y_pred.argmax(axis=1))\n",
        "sns.heatmap(matrix,annot=True,fmt='.5g')"
      ],
      "execution_count": 0,
      "outputs": [
        {
          "output_type": "execute_result",
          "data": {
            "text/plain": [
              "<matplotlib.axes._subplots.AxesSubplot at 0x7efff99cd080>"
            ]
          },
          "metadata": {
            "tags": []
          },
          "execution_count": 143
        },
        {
          "output_type": "display_data",
          "data": {
            "image/png": "[encoded data removed]",
            "text/plain": [
              "<Figure size 576x396 with 2 Axes>"
            ]
          },
          "metadata": {
            "tags": []
          }
        }
      ]
    },
    {
      "metadata": {
        "colab_type": "text",
        "id": "Rf6TDsdNM4X7"
      },
      "cell_type": "markdown",
      "source": [
        "### 4.2.3 Observation: \n",
        "\n",
        "- For Negative: 2.7% accuracy\n",
        "- For Positive: 66.4% accuracy\n",
        "- For Neutral: 86.9% accuracy"
      ]
    }
  ]
}